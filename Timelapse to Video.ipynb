{
 "cells": [
  {
   "cell_type": "code",
   "execution_count": 1,
   "id": "a89ed981-cdee-4617-a6b2-db345bdb56e5",
   "metadata": {},
   "outputs": [],
   "source": [
    "import cv2\n",
    "import os,sys\n",
    "import numpy\n",
    "import glob\n",
    "import tools\n",
    "import matplotlib.pyplot as plt\n",
    "\n",
    "\n",
    "date = \"06-10-2015\"\n",
    "my_data = \"../data/\" + date + \"/Height/\"\n",
    "#my_data = \"example_data/Height/\""
   ]
  },
  {
   "cell_type": "code",
   "execution_count": 2,
   "id": "9fa85fec-9646-41c5-9855-838111ed0dcc",
   "metadata": {},
   "outputs": [],
   "source": [
    "# Load up a list of input files from our example data.\n",
    "files = os.listdir(my_data)\n",
    "for fichier in files[:]:\n",
    "    if not(fichier.endswith(\".png\")):\n",
    "        files.remove(fichier)\n",
    "        \n",
    "# Sort files by timepoint.\n",
    "files.sort(key = tools.natural_keys)      \n",
    "\n",
    "# Create a list that contains the full path to each of our image files. \n",
    "file_names = [my_data + file for file in files]"
   ]
  },
  {
   "cell_type": "code",
   "execution_count": 3,
   "id": "e8939868-75cf-48b3-9ac9-ced34438792c",
   "metadata": {},
   "outputs": [],
   "source": [
    "img_array = []\n",
    "for file in file_names[29:]:\n",
    "    img = cv2.imread(file)\n",
    "    img_array.append(img)"
   ]
  },
  {
   "cell_type": "code",
   "execution_count": 4,
   "id": "3e62839e-bf0e-4533-a318-5d5e1248e42c",
   "metadata": {},
   "outputs": [],
   "source": [
    "(height, width, layers) = img_array[1].shape\n",
    "size = (width,height)"
   ]
  },
  {
   "cell_type": "code",
   "execution_count": 5,
   "id": "1839193d-0476-4105-afc1-b239481c9af6",
   "metadata": {},
   "outputs": [
    {
     "data": {
      "text/plain": [
       "1.0"
      ]
     },
     "execution_count": 5,
     "metadata": {},
     "output_type": "execute_result"
    }
   ],
   "source": [
    "[img.shape[0] == size[1] and img.shape[1] == size[0] for img in img_array].count(True)/len(img_array)"
   ]
  },
  {
   "cell_type": "code",
   "execution_count": 6,
   "id": "885d792b-2106-4671-a820-f3a0fb47a2b2",
   "metadata": {},
   "outputs": [],
   "source": [
    "out = cv2.VideoWriter(date + '.avi',cv2.VideoWriter_fourcc(*'DIVX'), 5, size)\n",
    "\n",
    "for i in range(len(img_array)):\n",
    "    out.write(img_array[i])\n",
    "out.release()"
   ]
  },
  {
   "cell_type": "code",
   "execution_count": null,
   "id": "9587afba-6d98-456a-b1fe-3f51cedb7498",
   "metadata": {},
   "outputs": [],
   "source": []
  }
 ],
 "metadata": {
  "kernelspec": {
   "display_name": "Python 3 (ipykernel)",
   "language": "python",
   "name": "python3"
  },
  "language_info": {
   "codemirror_mode": {
    "name": "ipython",
    "version": 3
   },
   "file_extension": ".py",
   "mimetype": "text/x-python",
   "name": "python",
   "nbconvert_exporter": "python",
   "pygments_lexer": "ipython3",
   "version": "3.8.13"
  }
 },
 "nbformat": 4,
 "nbformat_minor": 5
}
