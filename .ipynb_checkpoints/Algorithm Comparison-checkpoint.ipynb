{
 "cells": [
  {
   "cell_type": "code",
   "execution_count": 29,
   "id": "2ea930c9",
   "metadata": {},
   "outputs": [],
   "source": [
    "import os, sys\n",
    "import re\n",
    "import numpy as np\n",
    "import imageio as im\n",
    "import pandas as pd\n",
    "from skimage.morphology import skeletonize\n",
    "from skimage.util import invert\n",
    "from IPython.display import Image\n",
    "import matplotlib.pyplot as plt\n",
    "from cv2 import imwrite\n",
    "from cv_algorithms import grassfire\n",
    "from cv_algorithms import thinning as ta\n",
    "cell_path = \"individual_cells/\""
   ]
  },
  {
   "cell_type": "code",
   "execution_count": 39,
   "id": "da09d137",
   "metadata": {},
   "outputs": [],
   "source": [
    "all_the_cells = os.listdir(cell_path)\n",
    "\n",
    "# Create a list that records the timepoints for every mask. \n",
    "time_list = []\n",
    "# List of masks with associated timepoints and names\n",
    "maskl = []\n",
    "#list of skeletons made by thinning with associated timepoints\n",
    "thinl = []\n",
    "#list of skeletons made by guo_hall thinning algorithm with assocciated timepoints\n",
    "ghtl = []\n",
    "#list of skeletons made zhang-suen thinning algorithm with associated timepoints\n",
    "zstl=[]\n",
    "for item in os.listdir('algorithm_comparison'):\n",
    "    if item[-3]=='p' and item[-2]=='n' and item[-1]=='g':\n",
    "        os.remove('algorithm_comparison'+'/'+item)\n",
    "for cell in all_the_cells:\n",
    "    time = re.findall(r'\\d+', cell)\n",
    "    if time != []:\n",
    "        #overwrite old skeletons in individual_cells\n",
    "        '''\n",
    "        for item in os.listdir(cell_path+cell+'\\skeletons'):\n",
    "            if item[-3]=='p' and item[-2]=='n' and item[-1]=='g':\n",
    "                os.remove(cell_path+cell+'\\skeletons'+'/'+item)\n",
    "        '''\n",
    "        time = time[0]\n",
    "        time_list.append(int(time))\n",
    "        im_path = cell_path + cell + '\\masks'\n",
    "        for mask_name in os.listdir(im_path):\n",
    "            mask=im.imread(im_path+'/'+mask_name)[:,:,0]>0 #the cells mask (boolean array)\n",
    "            thin=skeletonize(mask) #the masks skeleton from skimage (boolean array)\n",
    "            ght = ta.guo_hall(mask.astype(np.uint8))>0 #the masks skeleton from the guo_hall algorithm (boolean array)\n",
    "            zst = ta.zhang_suen(mask.astype(np.uint8))>0 # the masks skeleton from the zhang_shuen algorithm (boolean array)\n",
    "            #gras = grassfire(mask) #the mask overlayed on the skeleton (boolean array)\n",
    "            maskl.append([mask,time,int(mask_name[5:6])])\n",
    "            thinl.append([thin,time,int(mask_name[5:6])])\n",
    "            ghtl.append([ght,time,int(mask_name[5:6])])\n",
    "            zstl.append([zst,time,int(mask_name[5:6])])\n",
    "            #grasl.append([over,time,int(mask_name[5:6])])\n",
    "            #imwrite(cell_path + cell+'\\skeletons' + '\\skeleton_'+mask_name[5:6]+'.png',255*skel)\n",
    "            imwrite('algorithm_comparison'+'/'+str(time)+'_'+mask_name[5:6]+'_skimage'+'.png',255*thin)\n",
    "            imwrite('algorithm_comparison'+'/'+str(time)+'_'+mask_name[5:6]+'_guo_hall'+'.png',255*ght)\n",
    "            imwrite('algorithm_comparison'+'/'+str(time)+'_'+mask_name[5:6]+'_zhang_suen'+'.png',255*zst)\n",
    "            #imwrite('algorithm_comparison'+'\\skeleton+mask_'+str(time)+mask_name[5:6]+'.png',255*over)\n",
    "            #imwrite(cell_path + cell+'\\skeletons' + '\\skeleton+mask_'+mask_name[5:6]+'.png',255*over)"
   ]
  },
  {
   "cell_type": "code",
   "execution_count": null,
   "id": "75e4a627",
   "metadata": {},
   "outputs": [],
   "source": []
  }
 ],
 "metadata": {
  "kernelspec": {
   "display_name": "Python 3 (ipykernel)",
   "language": "python",
   "name": "python3"
  },
  "language_info": {
   "codemirror_mode": {
    "name": "ipython",
    "version": 3
   },
   "file_extension": ".py",
   "mimetype": "text/x-python",
   "name": "python",
   "nbconvert_exporter": "python",
   "pygments_lexer": "ipython3",
   "version": "3.9.6"
  }
 },
 "nbformat": 4,
 "nbformat_minor": 5
}
