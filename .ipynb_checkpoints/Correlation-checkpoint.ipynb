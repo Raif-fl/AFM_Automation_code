{
 "cells": [
  {
   "cell_type": "code",
   "execution_count": 74,
   "id": "17373151-d501-4977-8c3c-e8b82e7fb62c",
   "metadata": {},
   "outputs": [],
   "source": [
    "import numpy as np\n",
    "import os, sys\n",
    "import matplotlib.pyplot as plt\n",
    "%matplotlib inline\n",
    "import cv2\n",
    "import pandas as pd\n",
    "from cellpose import utils, io, models, plot\n",
    "from scipy.spatial import distance as dist\n",
    "import re\n",
    "import tools\n",
    "from radfil import radfil_class, styles\n",
    "from astropy import units as u\n",
    "import imageio.v2 as imageio\n",
    "import copy\n",
    "from PIL import Image\n",
    "from fil_finder import FilFinder2D\n",
    "from shapely.geometry import Polygon\n",
    "from skimage.util import invert\n",
    "from skimage.morphology import skeletonize\n",
    "from cv2 import imwrite\n",
    "from tools import prune2\n",
    "from scipy.interpolate import splprep\n",
    "from scipy.interpolate import splev\n",
    "from IPython.core.display import HTML\n",
    "from scipy.signal import argrelextrema\n",
    "import random\n",
    "\n",
    "date = \"06-10-2015\"\n",
    "my_data = \"../data/\" + date + \"/Height/\"\n",
    "my_pfe = \"../data/\" + date + \"/Peak_Force_Error/\"\n",
    "my_apm = \"../data/\" + date + \"/Amplitude/\"\n",
    "my_sti = \"../data/\" + date + \"/Stiffness/\"\n",
    "segments_path = \"../cellpose_outputs/\" + date + \"/Height/\"\n",
    "cell_path = \"Individual_cells/\"\n",
    "diam = 50\n",
    "flow = 0.8"
   ]
  },
  {
   "cell_type": "markdown",
   "id": "6ab57aaa-1afc-4d6c-a728-4173f545ae52",
   "metadata": {},
   "source": [
    "## Run Cellpose"
   ]
  },
  {
   "cell_type": "code",
   "execution_count": 75,
   "id": "ae0f5b60-cf0e-435f-bf00-597a895736da",
   "metadata": {},
   "outputs": [],
   "source": [
    "# Load up a list of input files from our example data.\n",
    "files = os.listdir(my_data)\n",
    "for fichier in files[:]:\n",
    "    if not(fichier.endswith(\".png\")):\n",
    "        files.remove(fichier)\n",
    "        \n",
    "# Sort files by timepoint.\n",
    "files.sort(key = tools.natural_keys)      \n",
    "\n",
    "# Create a list that contains the full path to each of our image files. \n",
    "save_names = [segments_path + file for file in files]\n",
    "file_names = [my_data + file for file in files]"
   ]
  },
  {
   "cell_type": "markdown",
   "id": "46e1163b-119b-414b-b2af-650b8bf7e8b2",
   "metadata": {},
   "source": [
    "## Not necessary, so long as diameter and flow threshold are known"
   ]
  },
  {
   "cell_type": "code",
   "execution_count": 76,
   "id": "4f463387-ffdb-4e9f-98fe-d3812106530f",
   "metadata": {},
   "outputs": [],
   "source": [
    "# Specify that the cytoplasm Cellpose model for the segmentation. \n",
    "model = models.Cellpose(gpu=True, model_type='cyto')\n",
    "\n",
    "# define CHANNELS to run segementation on\n",
    "# grayscale=0, R=1, G=2, B=3\n",
    "# channels = [cytoplasm, nucleus]\n",
    "channels = [0,0]\n",
    "\n",
    "# Loop over all of our image files and run Cellpose on each of them. \n",
    "for filename, savename in zip(file_names, save_names):\n",
    "    img = io.imread(filename)\n",
    "    masks, flows, styles,diams = model.eval(img, diameter = diam, channels=channels, flow_threshold = flow,min_size=1000)\n",
    "\n",
    "    # save results so you can load in gui\n",
    "    io.masks_flows_to_seg(img, masks, flows, diams, savename, channels)\n",
    "\n",
    "    #save results as png\n",
    "    io.save_to_png(img, masks, flows, savename)"
   ]
  },
  {
   "cell_type": "code",
   "execution_count": 77,
   "id": "3185368f-96c0-4a70-9cf8-f507662827ca",
   "metadata": {},
   "outputs": [],
   "source": [
    "# Get the filenames for our segmentation datasets. \n",
    "segmented = os.listdir(segments_path)\n",
    "for fichier in segmented[:]: \n",
    "    if not(fichier.endswith(\".npy\")):\n",
    "        segmented.remove(fichier)\n",
    "\n",
    "# Sort the filenames by timepoint. \n",
    "segmented.sort(key = tools.natural_keys)\n",
    "\n",
    "# Create a list that records the timepoints for every image. \n",
    "time_list = []\n",
    "for segment in segmented:\n",
    "    time_list.append(int(re.findall(r'\\d+', segment)[0]))"
   ]
  },
  {
   "cell_type": "code",
   "execution_count": 78,
   "id": "3f3d209c-efb9-40ad-ba5c-a2b5af42a805",
   "metadata": {},
   "outputs": [],
   "source": [
    "def remove_large_masks(array,max_size=-1):\n",
    "    ''' Removes all masks above a certain area threshold. Can be turned off by setting to -1'''\n",
    "    if max_size==-1:\n",
    "        return array\n",
    "    else:\n",
    "        unique,counts = np.unique(array,return_counts=True)\n",
    "        area_dict=dict(zip(unique,counts))\n",
    "        for ID in area_dict:\n",
    "            if area_dict[ID]>max_size:\n",
    "                array = array - ((array==ID)*ID)\n",
    "        return array"
   ]
  },
  {
   "cell_type": "code",
   "execution_count": 103,
   "id": "bdd42394-a4aa-4df8-a29c-66a675b905a9",
   "metadata": {},
   "outputs": [],
   "source": [
    "# Initialize lists.\n",
    "outl_temp = []\n",
    "height_img_list = []\n",
    "stiff_img_list = []\n",
    "pfe_img_list = []\n",
    "areal_unfiltered = []\n",
    "areal_filtered = []\n",
    "\n",
    "# Fill lists with img and outline data from each segment\n",
    "for segment, time in zip(segmented, time_list):\n",
    "    # Load up the segmentation data. \n",
    "    dat = np.load(segments_path + segment, allow_pickle=True).item()\n",
    "    if len(dat['masks'])!=0:\n",
    "        unique,counts=np.unique(dat['masks'],return_counts=True)\n",
    "        areal_unfiltered= areal_unfiltered + list(counts[1:])\n",
    "    # Remove small masks from the data\n",
    "    dat[\"masks\"] = utils.fill_holes_and_remove_small_masks(dat[\"masks\"], min_size = 1000)\n",
    "    dat['masks'] = remove_large_masks(dat['masks'],max_size=4000)\n",
    "    if len(dat['masks'])!=0:\n",
    "        unique,counts=np.unique(dat['masks'],return_counts=True)\n",
    "        areal_filtered = areal_filtered + list(counts[1:])\n",
    "    # Populate list with each cell outline.\n",
    "    outl = utils.outlines_list(dat['masks'])\n",
    "    outl_temp.append(outl)\n",
    "    \n",
    "    # Populate list with each original image.\n",
    "    image = dat[\"img\"]\n",
    "    height_img_list.append(image)\n",
    "    \n",
    "    # If it exists, read in the png with the stiffness and PFE.\n",
    "    if os.path.exists(my_sti + str(time) + \"_Stiffness.png\") == True:\n",
    "        stiff_img_list.append(imageio.imread(my_sti + str(time) + \"_Stiffness.png\"))\n",
    "    else:\n",
    "        stiff_img_list.append(np.nan)\n",
    "        \n",
    "    if os.path.exists(my_pfe + str(time) + \"_PFE.png\") == True:\n",
    "        pfe_img_list.append(imageio.imread(my_pfe + str(time) + \"_PFE.png\"))\n",
    "    else:\n",
    "        pfe_img_list.append(np.nan)"
   ]
  },
  {
   "cell_type": "code",
   "execution_count": 104,
   "id": "4a21e722-2d3c-4aaf-8379-c53685de4025",
   "metadata": {},
   "outputs": [
    {
     "data": {
      "text/plain": [
       "(array([118.,  68., 127., 136.,  97., 124.,  30.]),\n",
       " array([1007.        , 1430.14285714, 1853.28571429, 2276.42857143,\n",
       "        2699.57142857, 3122.71428571, 3545.85714286, 3969.        ]),\n",
       " <BarContainer object of 7 artists>)"
      ]
     },
     "execution_count": 104,
     "metadata": {},
     "output_type": "execute_result"
    },
    {
     "data": {
      "image/png": "[encoded data removed]",
      "text/plain": [
       "<Figure size 1440x720 with 2 Axes>"
      ]
     },
     "metadata": {
      "needs_background": "light"
     },
     "output_type": "display_data"
    }
   ],
   "source": [
    "fig,axs = plt.subplots(1,2,figsize=(20,10))\n",
    "axs[0].hist(areal_unfiltered,bins=15)\n",
    "axs[1].hist(areal_filtered,bins=7)"
   ]
  },
  {
   "cell_type": "code",
   "execution_count": 105,
   "id": "9ec6a618-4869-4e6d-9ec1-2d9185f20a87",
   "metadata": {
    "tags": []
   },
   "outputs": [],
   "source": [
    "# The image dictionary contains the complete images for all of the image types. \n",
    "img_dict = {\n",
    "    \"Height\": height_img_list,\n",
    "    \"Stiffness\": stiff_img_list,\n",
    "    \"PFE\": pfe_img_list\n",
    "    }\n",
    "# The metadata dictionary will hold all of the data we want to save into our final table.\n",
    "metadata_dict = {}\n",
    "\n",
    "# The individual cell dictionary will save information for each individual cell such as the outline, skeleton, cropped image, etc. \n",
    "ind_cell_dict = {}\n",
    "\n",
    "# The structural dictionary will hold information on the timepoint of each image, the cell IDs for each cell in each image,\n",
    "# and the outlines and bounding boxes for each cell in each image.\n",
    "structural_dict = {\n",
    "    \"Time\": time_list\n",
    "    }"
   ]
  },
  {
   "cell_type": "code",
   "execution_count": 106,
   "id": "da1071ca-d4f4-4400-a690-52644fb6d79a",
   "metadata": {},
   "outputs": [],
   "source": [
    "# Initialize a list of boxes\n",
    "boxes_temp = []\n",
    "box_img = copy.deepcopy(height_img_list)\n",
    "\n",
    "# Fill lists with the coordinates of bounding boxes for each cell outline.\n",
    "for outl, img in zip(outl_temp, box_img):\n",
    "    boxes = tools.get_boxes(outl)\n",
    "    boxes_temp.append(boxes)\n",
    "    for box in boxes:\n",
    "        (startX, startY, endX, endY) = box.astype(\"int\")\n",
    "        cv2.drawContours(img, [box.astype(\"int\")], -1, (0, 255, 0), 2)"
   ]
  },
  {
   "cell_type": "code",
   "execution_count": 107,
   "id": "afeff795-f555-4af7-90e4-74b44216d446",
   "metadata": {},
   "outputs": [],
   "source": [
    "# initialize our centroid tracker and frame dimensions\n",
    "ct = tools.CentroidTracker()\n",
    "(H, W) = (None, None)\n",
    "\n",
    "# Initialize a new set of lists that will contain lists of IDs, outlines, and centers for each image file. \n",
    "IDs_list = []\n",
    "outl_list = []\n",
    "boxes_list = []\n",
    "centers_list = []\n",
    "\n",
    "# loop over the outlines and boxes for each file.\n",
    "for boxes, img, outls in zip(boxes_temp, box_img, outl_temp):\n",
    "    # update our centroid tracker using the computed set of bounding box rectangles\n",
    "    if len(outls)!=0:\n",
    "        objects = ct.update(boxes, outls)\n",
    "    # Initialize a new set of lists\n",
    "    IDs = []\n",
    "    outl_new = []\n",
    "    boxes_new = []\n",
    "    centers = []\n",
    "    # loop over the tracked objects\n",
    "    if len(outls)!=0:\n",
    "        for (objectID, info) in objects.items():\n",
    "            # draw both the ID of the object and the centroid of the\n",
    "            # object on the output frame\n",
    "            text = \"ID {}\".format(objectID)\n",
    "            cv2.putText(img, text, (info[1][0] - 10, info[1][1] - 10),\n",
    "                cv2.FONT_HERSHEY_SIMPLEX, 0.5, (0, 255, 0), 2)\n",
    "            cv2.circle(img, (info[1][0], info[1][1]), 4, (0, 255, 0), -1)\n",
    "            # append the object ID and its associated outline and center to the lists. \n",
    "            IDs.append(objectID)\n",
    "            outl_new.append(info[2])\n",
    "            centers.append(info[1])\n",
    "            boxes_new.append(info[0])\n",
    "    boxes_list.append(boxes_new)\n",
    "    IDs_list.append(IDs)\n",
    "    outl_list.append(outl_new)\n",
    "    centers_list.append(centers)"
   ]
  },
  {
   "cell_type": "code",
   "execution_count": 108,
   "id": "a72ba591-fc6a-4406-88de-74a1d6a9b4c2",
   "metadata": {},
   "outputs": [],
   "source": [
    "# Add our new lists to the proper dictionaries. \n",
    "structural_dict[\"IDs\"] = IDs_list\n",
    "structural_dict[\"outlines\"] = outl_list\n",
    "structural_dict[\"bounding_boxes\"] = boxes_list\n",
    "\n",
    "metadata_dict[\"centroids\"] = centers_list\n",
    "\n",
    "# Destroy the temporary lists to get some more space. \n",
    "boxes_temp.clear()\n",
    "outl_temp.clear()"
   ]
  },
  {
   "cell_type": "markdown",
   "id": "af1d3c06-63e3-4a76-bb54-628eaa4ff24e",
   "metadata": {},
   "source": [
    "## Find the number of masks as a timeseries"
   ]
  },
  {
   "cell_type": "code",
   "execution_count": 109,
   "id": "ad71dd90-ff85-4a83-bda9-45da6314664e",
   "metadata": {},
   "outputs": [],
   "source": [
    "num_of_masks=[len(out_set) for out_set in structural_dict['outlines']]"
   ]
  },
  {
   "cell_type": "code",
   "execution_count": 110,
   "id": "bd523ae4-0916-48c1-83fb-407a930859a4",
   "metadata": {},
   "outputs": [
    {
     "data": {
      "text/plain": [
       "[<matplotlib.lines.Line2D at 0x7f618409c370>]"
      ]
     },
     "execution_count": 110,
     "metadata": {},
     "output_type": "execute_result"
    },
    {
     "data": {
      "image/png": "[encoded data removed]",
      "text/plain": [
       "<Figure size 432x288 with 1 Axes>"
      ]
     },
     "metadata": {
      "needs_background": "light"
     },
     "output_type": "display_data"
    }
   ],
   "source": [
    "plt.plot(num_of_masks)"
   ]
  },
  {
   "cell_type": "markdown",
   "id": "2676b105-b274-4631-8d87-5efa578b5ed5",
   "metadata": {},
   "source": [
    "## Look for single mask jumps"
   ]
  },
  {
   "cell_type": "code",
   "execution_count": 111,
   "id": "86e0ce88-5c0a-4bd1-a0d1-202c573c23bf",
   "metadata": {},
   "outputs": [],
   "source": [
    "def find_jumps(series,n):\n",
    "    ''' Find the number of single jumps in a series\n",
    "    \n",
    "    Parameters\n",
    "    ---------\n",
    "    series = a time series of integer entries, arraylike\n",
    "    n = the number of time points expected to remain constant before and after a jump\n",
    "    '''\n",
    "    def auto_cor(x,y):\n",
    "        '''Helper function to find correlation of sequences of equal length'''\n",
    "        result = np.correlate(x,y,mode='full')\n",
    "        return result[result.size//2:][0]\n",
    "    Y = np.array(list(np.zeros(n).astype(int)) + list(np.ones(n).astype(int)))-0.5\n",
    "    corl = []\n",
    "    for i in range (len(num_of_masks)-2*n):\n",
    "        seq = num_of_masks[i:i+2*n]\n",
    "        E = seq[0]\n",
    "        X = (np.array(seq)-E-0.5)*2\n",
    "        cor = auto_cor(X,Y)-abs(np.linalg.norm(X)-np.linalg.norm(Y))\n",
    "        corl.append(cor)\n",
    "    peaks=argrelextrema(np.array(corl),np.greater_equal,order=n)[0]\n",
    "    jumps=[]\n",
    "    for i in peaks:\n",
    "        if corl[i]>n//2:\n",
    "            jumps.append(i)\n",
    "    if len(jumps)==0:\n",
    "        return jumps,corl\n",
    "    elif len(jumps)==1:\n",
    "        fig,axs=plt.subplots(len(jumps),2*n,figsize=(10*2*n,10*len(jumps)))\n",
    "        m = jumps[0]\n",
    "        for ax in axs.flat:\n",
    "            ax.set(ylabel = str(m))\n",
    "            ax.label_outer()\n",
    "        for j in range(2*n):\n",
    "            ind = m+j\n",
    "            dat = np.load(segments_path + segmented[ind], allow_pickle=True).item()\n",
    "            maski= dat['masks']\n",
    "            img = img_dict['Height'][ind]\n",
    "            outlines=plot.outline_view(img,maski,color=[0,255,0])\n",
    "            axs[j].imshow(outlines)\n",
    "            axs[j].set_title (structural_dict['Time'][ind])\n",
    "        return jumps,corl\n",
    "    else:\n",
    "        fig,axs=plt.subplots(len(jumps),2*n,figsize=(10*2*n,10*len(jumps)))\n",
    "        for i in range(len(jumps)):\n",
    "            m = jumps[i]\n",
    "            ax.set(ylabel = str(m))\n",
    "            for j in range(2*n):\n",
    "                ind = m+j\n",
    "                dat = np.load(segments_path + segmented[ind], allow_pickle=True).item()\n",
    "                maski= dat['masks']\n",
    "                img = img_dict['Height'][ind]\n",
    "                outlines=plot.outline_view(img,maski,color=[0,255,0])\n",
    "                axs[i,j].imshow(outlines)\n",
    "                axs[i,j].set_title (structural_dict['Time'][ind])\n",
    "        return jumps,corl"
   ]
  },
  {
   "cell_type": "code",
   "execution_count": 112,
   "id": "3bdd7dc4-b5a9-402e-984e-207a6025d6ed",
   "metadata": {},
   "outputs": [],
   "source": [
    "jump_list,cor_list=find_jumps(num_of_masks,5)"
   ]
  },
  {
   "cell_type": "code",
   "execution_count": 113,
   "id": "5b8a7770-c0d8-4a27-b19c-1e02f9469a35",
   "metadata": {},
   "outputs": [
    {
     "data": {
      "text/plain": [
       "(0.0, 5.0)"
      ]
     },
     "execution_count": 113,
     "metadata": {},
     "output_type": "execute_result"
    },
    {
     "data": {
      "image/png": "[encoded data removed]",
      "text/plain": [
       "<Figure size 432x288 with 1 Axes>"
      ]
     },
     "metadata": {
      "needs_background": "light"
     },
     "output_type": "display_data"
    }
   ],
   "source": [
    "plt.plot(cor_list)\n",
    "plt.ylim(0,5)"
   ]
  },
  {
   "cell_type": "code",
   "execution_count": null,
   "id": "e1c4e7da-c192-473a-9d62-1db640a9ed36",
   "metadata": {},
   "outputs": [],
   "source": [
    "plt.plot(cor_list)\n",
    "for i in jump_list:\n",
    "    plt.plot(i,cor_list[i],'r.')"
   ]
  },
  {
   "cell_type": "code",
   "execution_count": null,
   "id": "39e85e4e-b82d-4ae2-aa9b-fa49ae3cf8a3",
   "metadata": {},
   "outputs": [],
   "source": [
    "plt.plot(num_of_masks)\n",
    "for i in jump_list:\n",
    "    plt.plot(i+10,num_of_masks[i+10],'r.')"
   ]
  },
  {
   "cell_type": "code",
   "execution_count": null,
   "id": "48aced2e-651b-41b1-be91-caa9d5c67912",
   "metadata": {},
   "outputs": [],
   "source": [
    "def essd(x,y):\n",
    "    '''Take the exponential sum of squares difference between two time-series of the same length'''\n",
    "    return sum([np.exp(-(x[i]-y[i])**2) for i in range (len(x))])"
   ]
  },
  {
   "cell_type": "code",
   "execution_count": null,
   "id": "0a9eb2d6-fa3a-454f-85ad-e594974c560d",
   "metadata": {},
   "outputs": [],
   "source": []
  },
  {
   "cell_type": "code",
   "execution_count": null,
   "id": "51ccc228-5d8b-4f99-ac59-a1f7a85bbc95",
   "metadata": {},
   "outputs": [],
   "source": []
  }
 ],
 "metadata": {
  "kernelspec": {
   "display_name": "Python 3 (ipykernel)",
   "language": "python",
   "name": "python3"
  },
  "language_info": {
   "codemirror_mode": {
    "name": "ipython",
    "version": 3
   },
   "file_extension": ".py",
   "mimetype": "text/x-python",
   "name": "python",
   "nbconvert_exporter": "python",
   "pygments_lexer": "ipython3",
   "version": "3.8.13"
  }
 },
 "nbformat": 4,
 "nbformat_minor": 5
}
