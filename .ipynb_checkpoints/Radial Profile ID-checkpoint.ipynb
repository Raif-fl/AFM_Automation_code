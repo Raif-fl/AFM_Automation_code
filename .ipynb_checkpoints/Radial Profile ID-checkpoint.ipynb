{
 "cells": [
  {
   "cell_type": "code",
   "execution_count": 25,
   "id": "00e93217-ab08-4077-b8a6-54b644f484ea",
   "metadata": {},
   "outputs": [],
   "source": [
    "import numpy as np\n",
    "import os, sys\n",
    "import matplotlib.pyplot as plt\n",
    "%matplotlib inline\n",
    "import cv2\n",
    "import pandas as pd\n",
    "from cellpose import utils, io, models, plot\n",
    "from scipy.spatial import distance as dist\n",
    "import re\n",
    "import tools\n",
    "from radfil import radfil_class, styles\n",
    "from astropy import units as u\n",
    "import imageio.v2 as imageio\n",
    "import copy\n",
    "from PIL import Image\n",
    "from fil_finder import FilFinder2D\n",
    "from shapely.geometry import Polygon\n",
    "from skimage.util import invert\n",
    "from skimage.morphology import skeletonize\n",
    "from cv2 import imwrite\n",
    "from tools import prune2\n",
    "from scipy.interpolate import splprep\n",
    "from scipy.interpolate import splev\n",
    "from IPython.core.display import HTML\n",
    "from scipy.signal import argrelextrema\n",
    "import random\n",
    "\n",
    "date = \"30-03-2015\"\n",
    "my_data = \"../data/\" + date + \"/Height/\"\n",
    "my_pfe = \"../data/\" + date + \"/Peak_Force_Error/\"\n",
    "my_apm = \"../data/\" + date + \"/Amplitude/\"\n",
    "my_sti = \"../data/\" + date + \"/Stiffness/\"\n",
    "segments_path = \"../cellpose_outputs/\" + date + \"/Height/\"\n",
    "cell_path = \"Individual_cells/\"\n",
    "diam = 60\n",
    "flow = 0.8"
   ]
  },
  {
   "cell_type": "markdown",
   "id": "703941f7-b4c2-4a28-83c3-018f5aec3a1c",
   "metadata": {},
   "source": [
    "## Run Cellpose"
   ]
  },
  {
   "cell_type": "code",
   "execution_count": 26,
   "id": "7914b857-7b0c-48f0-83d6-f0aa7adc948d",
   "metadata": {},
   "outputs": [],
   "source": [
    "# Load up a list of input files from our example data.\n",
    "files = os.listdir(my_data)\n",
    "for fichier in files[:]:\n",
    "    if not(fichier.endswith(\".png\")):\n",
    "        files.remove(fichier)\n",
    "        \n",
    "# Sort files by timepoint.\n",
    "files.sort(key = tools.natural_keys)      \n",
    "\n",
    "# Create a list that contains the full path to each of our image files. \n",
    "save_names = [segments_path + file for file in files]\n",
    "file_names = [my_data + file for file in files]"
   ]
  },
  {
   "cell_type": "markdown",
   "id": "fe56570d-7b4e-4126-87df-6a82a158f502",
   "metadata": {},
   "source": [
    "## Not necessary, so long as diameter and flow threshold are known"
   ]
  },
  {
   "cell_type": "code",
   "execution_count": 55,
   "id": "3d8f12a1-8a8f-4eda-aa2f-0cf175df49ec",
   "metadata": {},
   "outputs": [],
   "source": [
    "# Specify that the cytoplasm Cellpose model for the segmentation. \n",
    "model = models.Cellpose(gpu=True, model_type='cyto')\n",
    "\n",
    "# define CHANNELS to run segementation on\n",
    "# grayscale=0, R=1, G=2, B=3\n",
    "# channels = [cytoplasm, nucleus]\n",
    "channels = [0,0]\n",
    "\n",
    "# Loop over all of our image files and run Cellpose on each of them. \n",
    "for filename, savename in zip(file_names, save_names):\n",
    "    img = io.imread(filename)\n",
    "    masks, flows, styles,diams = model.eval(img, diameter = diam, channels=channels, flow_threshold = flow,min_size=2000)\n",
    "\n",
    "    # save results so you can load in gui\n",
    "    io.masks_flows_to_seg(img, masks, flows, diams, savename, channels)\n",
    "\n",
    "    #save results as png\n",
    "    io.save_to_png(img, masks, flows, savename)"
   ]
  },
  {
   "cell_type": "code",
   "execution_count": 27,
   "id": "05fceef6-e224-4e56-8455-7ac83a0013cf",
   "metadata": {},
   "outputs": [],
   "source": [
    "# Get the filenames for our segmentation datasets. \n",
    "segmented = os.listdir(segments_path)\n",
    "for fichier in segmented[:]: \n",
    "    if not(fichier.endswith(\".npy\")):\n",
    "        segmented.remove(fichier)\n",
    "\n",
    "# Sort the filenames by timepoint. \n",
    "segmented.sort(key = tools.natural_keys)\n",
    "\n",
    "# Create a list that records the timepoints for every image. \n",
    "time_list = []\n",
    "for segment in segmented:\n",
    "    time_list.append(int(re.findall(r'\\d+', segment)[0]))"
   ]
  },
  {
   "cell_type": "code",
   "execution_count": 28,
   "id": "71ebc815-c2c2-49c4-81dd-80d50189eb21",
   "metadata": {},
   "outputs": [],
   "source": [
    "def remove_large_masks(array,max_size=-1):\n",
    "    ''' Removes all masks above a certain area threshold. Can be turned off by setting to -1'''\n",
    "    if max_size==-1:\n",
    "        return array\n",
    "    else:\n",
    "        unique,counts = np.unique(array,return_counts=True)\n",
    "        area_dict=dict(zip(unique,counts))\n",
    "        for ID in area_dict:\n",
    "            if area_dict[ID]>max_size:\n",
    "                array = array - ((array==ID)*ID)\n",
    "        return array"
   ]
  },
  {
   "cell_type": "code",
   "execution_count": 42,
   "id": "09e560e9-f13e-4543-8304-39fc52ee477a",
   "metadata": {},
   "outputs": [],
   "source": [
    "# Initialize lists.\n",
    "outl_temp = []\n",
    "height_img_list = []\n",
    "stiff_img_list = []\n",
    "pfe_img_list = []\n",
    "areal_unfiltered = []\n",
    "areal_filtered = []\n",
    "\n",
    "# Fill lists with img and outline data from each segment\n",
    "for segment, time in zip(segmented, time_list):\n",
    "    # Load up the segmentation data. \n",
    "    dat = np.load(segments_path + segment, allow_pickle=True).item()\n",
    "    if len(dat['masks'])!=0:\n",
    "        unique,counts=np.unique(dat['masks'],return_counts=True)\n",
    "        areal_unfiltered= areal_unfiltered + list(counts[1:])\n",
    "    # Remove small masks from the data\n",
    "    dat[\"masks\"] = utils.fill_holes_and_remove_small_masks(dat[\"masks\"], min_size = 800)\n",
    "    dat['masks'] = remove_large_masks(dat['masks'],max_size=-1)\n",
    "    if len(dat['masks'])!=0:\n",
    "        unique,counts=np.unique(dat['masks'],return_counts=True)\n",
    "        areal_filtered = areal_filtered + list(counts[1:])\n",
    "    # Populate list with each cell outline.\n",
    "    outl = utils.outlines_list(dat['masks'])\n",
    "    outl_temp.append(outl)\n",
    "    \n",
    "    # Populate list with each original image.\n",
    "    image = dat[\"img\"]\n",
    "    height_img_list.append(image)\n",
    "    \n",
    "    # If it exists, read in the png with the stiffness and PFE.\n",
    "    if os.path.exists(my_sti + str(time) + \"_Stiffness.png\") == True:\n",
    "        stiff_img_list.append(imageio.imread(my_sti + str(time) + \"_Stiffness.png\"))\n",
    "    else:\n",
    "        stiff_img_list.append(np.nan)\n",
    "        \n",
    "    if os.path.exists(my_pfe + str(time) + \"_PFE.png\") == True:\n",
    "        pfe_img_list.append(imageio.imread(my_pfe + str(time) + \"_PFE.png\"))\n",
    "    else:\n",
    "        pfe_img_list.append(np.nan)"
   ]
  },
  {
   "cell_type": "code",
   "execution_count": 44,
   "id": "edcc5c25-e2d0-4cdb-8b54-f69b7ecf6c53",
   "metadata": {
    "tags": []
   },
   "outputs": [],
   "source": [
    "# The image dictionary contains the complete images for all of the image types. \n",
    "img_dict = {\n",
    "    \"Height\": height_img_list,\n",
    "    \"Stiffness\": stiff_img_list,\n",
    "    \"PFE\": pfe_img_list\n",
    "    }\n",
    "# The metadata dictionary will hold all of the data we want to save into our final table.\n",
    "metadata_dict = {}\n",
    "\n",
    "# The individual cell dictionary will save information for each individual cell such as the outline, skeleton, cropped image, etc. \n",
    "ind_cell_dict = {}\n",
    "\n",
    "# The structural dictionary will hold information on the timepoint of each image, the cell IDs for each cell in each image,\n",
    "# and the outlines and bounding boxes for each cell in each image.\n",
    "structural_dict = {\n",
    "    \"Time\": time_list\n",
    "    }"
   ]
  },
  {
   "cell_type": "code",
   "execution_count": 45,
   "id": "3b459d5e-eaed-4357-8479-c97df5e2bcaa",
   "metadata": {},
   "outputs": [],
   "source": [
    "# Initialize a list of boxes\n",
    "boxes_temp = []\n",
    "box_img = copy.deepcopy(height_img_list)\n",
    "\n",
    "# Fill lists with the coordinates of bounding boxes for each cell outline.\n",
    "for outl, img in zip(outl_temp, box_img):\n",
    "    boxes = tools.get_boxes(outl)\n",
    "    boxes_temp.append(boxes)\n",
    "    for box in boxes:\n",
    "        (startX, startY, endX, endY) = box.astype(\"int\")\n",
    "        cv2.drawContours(img, [box.astype(\"int\")], -1, (0, 255, 0), 2)"
   ]
  },
  {
   "cell_type": "code",
   "execution_count": 46,
   "id": "58f4070a-62a9-40cb-b9ae-7967c26fda6e",
   "metadata": {},
   "outputs": [],
   "source": [
    "# initialize our centroid tracker and frame dimensions\n",
    "ct = tools.CentroidTracker()\n",
    "(H, W) = (None, None)\n",
    "\n",
    "# Initialize a new set of lists that will contain lists of IDs, outlines, and centers for each image file. \n",
    "IDs_list = []\n",
    "outl_list = []\n",
    "boxes_list = []\n",
    "centers_list = []\n",
    "\n",
    "# loop over the outlines and boxes for each file.\n",
    "for boxes, img, outls in zip(boxes_temp, box_img, outl_temp):\n",
    "    # update our centroid tracker using the computed set of bounding box rectangles\n",
    "    if len(outls)!=0:\n",
    "        objects = ct.update(boxes, outls)\n",
    "    # Initialize a new set of lists\n",
    "    IDs = []\n",
    "    outl_new = []\n",
    "    boxes_new = []\n",
    "    centers = []\n",
    "    # loop over the tracked objects\n",
    "    if len(outls)!=0:\n",
    "        for (objectID, info) in objects.items():\n",
    "            # draw both the ID of the object and the centroid of the\n",
    "            # object on the output frame\n",
    "            text = \"ID {}\".format(objectID)\n",
    "            cv2.putText(img, text, (info[1][0] - 10, info[1][1] - 10),\n",
    "                cv2.FONT_HERSHEY_SIMPLEX, 0.5, (0, 255, 0), 2)\n",
    "            cv2.circle(img, (info[1][0], info[1][1]), 4, (0, 255, 0), -1)\n",
    "            # append the object ID and its associated outline and center to the lists. \n",
    "            IDs.append(objectID)\n",
    "            outl_new.append(info[2])\n",
    "            centers.append(info[1])\n",
    "            boxes_new.append(info[0])\n",
    "    boxes_list.append(boxes_new)\n",
    "    IDs_list.append(IDs)\n",
    "    outl_list.append(outl_new)\n",
    "    centers_list.append(centers)"
   ]
  },
  {
   "cell_type": "code",
   "execution_count": 1,
   "id": "eff094b0-d0a6-4006-80b6-6db4e8d810a6",
   "metadata": {},
   "outputs": [
    {
     "ename": "NameError",
     "evalue": "name 'IDs_list' is not defined",
     "output_type": "error",
     "traceback": [
      "\u001b[0;31m---------------------------------------------------------------------------\u001b[0m",
      "\u001b[0;31mNameError\u001b[0m                                 Traceback (most recent call last)",
      "Input \u001b[0;32mIn [1]\u001b[0m, in \u001b[0;36m<cell line: 2>\u001b[0;34m()\u001b[0m\n\u001b[1;32m      1\u001b[0m \u001b[38;5;66;03m# Add our new lists to the proper dictionaries. \u001b[39;00m\n\u001b[0;32m----> 2\u001b[0m structural_dict[\u001b[38;5;124m\"\u001b[39m\u001b[38;5;124mIDs\u001b[39m\u001b[38;5;124m\"\u001b[39m] \u001b[38;5;241m=\u001b[39m \u001b[43mIDs_list\u001b[49m\n\u001b[1;32m      3\u001b[0m structural_dict[\u001b[38;5;124m\"\u001b[39m\u001b[38;5;124moutlines\u001b[39m\u001b[38;5;124m\"\u001b[39m] \u001b[38;5;241m=\u001b[39m outl_list\n\u001b[1;32m      4\u001b[0m structural_dict[\u001b[38;5;124m\"\u001b[39m\u001b[38;5;124mbounding_boxes\u001b[39m\u001b[38;5;124m\"\u001b[39m] \u001b[38;5;241m=\u001b[39m boxes_list\n",
      "\u001b[0;31mNameError\u001b[0m: name 'IDs_list' is not defined"
     ]
    }
   ],
   "source": [
    "# Add our new lists to the proper dictionaries. \n",
    "structural_dict[\"IDs\"] = IDs_list\n",
    "structural_dict[\"outlines\"] = outl_list\n",
    "structural_dict[\"bounding_boxes\"] = boxes_list\n",
    "\n",
    "metadata_dict[\"centroids\"] = centers_list\n",
    "\n",
    "# Destroy the temporary lists to get some more space. \n",
    "boxes_temp.clear()\n",
    "outl_temp.clear()"
   ]
  },
  {
   "cell_type": "code",
   "execution_count": 1,
   "id": "61f48e2b-d74e-45a7-9f9d-40c5cfbc00fe",
   "metadata": {},
   "outputs": [
    {
     "ename": "NameError",
     "evalue": "name 'tools' is not defined",
     "output_type": "error",
     "traceback": [
      "\u001b[0;31m---------------------------------------------------------------------------\u001b[0m",
      "\u001b[0;31mNameError\u001b[0m                                 Traceback (most recent call last)",
      "Input \u001b[0;32mIn [1]\u001b[0m, in \u001b[0;36m<cell line: 2>\u001b[0;34m()\u001b[0m\n\u001b[1;32m      1\u001b[0m ind_cell_dict \u001b[38;5;241m=\u001b[39m {}\n\u001b[0;32m----> 2\u001b[0m ind_cell_dict[\u001b[38;5;124m\"\u001b[39m\u001b[38;5;124mHeight\u001b[39m\u001b[38;5;124m\"\u001b[39m], ind_cell_dict[\u001b[38;5;124m\"\u001b[39m\u001b[38;5;124mMask\u001b[39m\u001b[38;5;124m\"\u001b[39m] \u001b[38;5;241m=\u001b[39m \u001b[43mtools\u001b[49m\u001b[38;5;241m.\u001b[39mextract_ind_cells(IDs_list, outl_list, img_dict[\u001b[38;5;124m\"\u001b[39m\u001b[38;5;124mHeight\u001b[39m\u001b[38;5;124m\"\u001b[39m])\n",
      "\u001b[0;31mNameError\u001b[0m: name 'tools' is not defined"
     ]
    }
   ],
   "source": [
    "ind_cell_dict = {}\n",
    "ind_cell_dict[\"Height\"], ind_cell_dict[\"Mask\"] = tools.extract_ind_cells(IDs_list, outl_list, img_dict[\"Height\"])"
   ]
  },
  {
   "cell_type": "code",
   "execution_count": 26,
   "id": "ca4c97b5-54eb-4d32-9c26-948fed50a93d",
   "metadata": {
    "tags": []
   },
   "outputs": [
    {
     "name": "stdout",
     "output_type": "stream",
     "text": [
      "10061047\n"
     ]
    },
    {
     "name": "stderr",
     "output_type": "stream",
     "text": [
      "/home/WereSalmon/AFM_Automation_code/tools.py:898: UserWarning: Sorting terminated early when points exceeded allowable distance\n",
      "  warnings.warn('Sorting terminated early when points exceeded allowable distance')\n",
      "/home/WereSalmon/AFM_Automation_code/tools.py:984: UserWarning: curvature threshold exceeded. additional pruning executed in response\n",
      "  warnings.warn('curvature threshold exceeded. additional pruning executed in response')\n"
     ]
    },
    {
     "name": "stdout",
     "output_type": "stream",
     "text": [
      "10061047\n",
      "10061047\n",
      "10061047\n",
      "10061047\n",
      "10061047\n",
      "10061047\n",
      "10061059\n"
     ]
    },
    {
     "name": "stderr",
     "output_type": "stream",
     "text": [
      "/home/WereSalmon/AFM_Automation_code/tools.py:898: UserWarning: Sorting terminated early when points exceeded allowable distance\n",
      "  warnings.warn('Sorting terminated early when points exceeded allowable distance')\n"
     ]
    },
    {
     "name": "stdout",
     "output_type": "stream",
     "text": [
      "10061059\n",
      "10061059\n",
      "10061059\n",
      "10061059\n",
      "10061059\n",
      "10061059\n",
      "10061059\n",
      "10061110\n",
      "10061110\n",
      "10061110\n",
      "10061110\n",
      "10061110\n",
      "10061110\n",
      "10061110\n",
      "10061110\n",
      "10061121\n"
     ]
    },
    {
     "name": "stderr",
     "output_type": "stream",
     "text": [
      "/home/WereSalmon/AFM_Automation_code/tools.py:905: UserWarning: path did not reach destination\n",
      "  warnings.warn('path did not reach destination')\n"
     ]
    },
    {
     "name": "stdout",
     "output_type": "stream",
     "text": [
      "10061121\n",
      "10061121\n",
      "10061121\n",
      "10061121\n",
      "10061121\n",
      "10061121\n",
      "10061121\n",
      "10061132\n",
      "10061132\n",
      "10061132\n",
      "10061132\n",
      "10061132\n",
      "10061132\n",
      "10061132\n",
      "10061143\n",
      "10061143\n",
      "10061143\n",
      "10061143\n",
      "10061143\n",
      "10061143\n",
      "10061143\n",
      "10061143\n",
      "10061154\n",
      "10061154\n",
      "10061154\n",
      "10061154\n",
      "10061154\n",
      "10061154\n",
      "10061154\n",
      "10061206\n",
      "10061206\n",
      "10061206\n",
      "10061206\n",
      "10061218\n",
      "10061218\n",
      "10061218\n",
      "10061218\n",
      "10061218\n",
      "10061218\n",
      "10061218\n",
      "10061218\n",
      "10061218\n",
      "10061218\n",
      "10061218\n",
      "10061230\n",
      "10061230\n",
      "10061230\n",
      "10061230\n",
      "10061230\n",
      "10061230\n",
      "10061230\n",
      "10061230\n",
      "10061241\n",
      "10061241\n",
      "10061241\n",
      "10061241\n",
      "10061241\n",
      "10061241\n",
      "10061241\n",
      "10061303\n",
      "10061303\n",
      "10061303\n",
      "10061303\n",
      "10061303\n",
      "10061303\n"
     ]
    },
    {
     "name": "stderr",
     "output_type": "stream",
     "text": [
      "/home/WereSalmon/AFM_Automation_code/tools.py:1007: UserWarning: Curvature exceeds threshold\n",
      "  warnings.warn('Curvature exceeds threshold')\n"
     ]
    },
    {
     "name": "stdout",
     "output_type": "stream",
     "text": [
      "10061303\n",
      "10061303\n",
      "10061315\n",
      "10061315\n",
      "10061315\n",
      "10061315\n",
      "10061315\n",
      "10061315\n",
      "10061315\n",
      "10061326\n",
      "10061326\n",
      "10061326\n",
      "10061326\n",
      "10061326\n",
      "10061326\n",
      "10061326\n",
      "10061326\n"
     ]
    }
   ],
   "source": [
    "#list of skeletons (before and after branch pruning) with associated timepoints\n",
    "unpruned_skel_list=[]\n",
    "skel_list = []\n",
    "#list of masks with skeletons overlayed in black\n",
    "over_list=[]\n",
    "#lists of poles, lengths, and centroids\n",
    "pole_list = []\n",
    "length_list = []\n",
    "centroid_list = []\n",
    "for time, mask_set in zip(structural_dict[\"Time\"], ind_cell_dict[\"Mask\"]):\n",
    "    unpruned_skel_set = []\n",
    "    skel_set = []\n",
    "    over_set = []\n",
    "    length_set = []\n",
    "    pole_set = []\n",
    "    centroid_set = []\n",
    "    #create skeletons; save masks, skeletons, and masks with skeletons as lists, save skeletons and skeletons with masks as images\n",
    "    for mask in mask_set:\n",
    "        if len(mask.shape)>2:\n",
    "            new_mask=mask[:,:,0]>0\n",
    "        else:\n",
    "            new_mask = mask>0\n",
    "        print(time)\n",
    "        unpruned_skel = tools.padskel(mask)\n",
    "        outline = utils.masks_to_outlines(new_mask)\n",
    "        long = np.shape(unpruned_skel)[0]<np.shape(unpruned_skel)[1]\n",
    "        poles,centroid = tools.explore_poles(outline,long)\n",
    "        skel,length,pts,s = tools.prune2(unpruned_skel,outline,new_mask,poles,sensitivity=5)\n",
    "        over = invert(skel+invert(new_mask)) #the mask overlayed on the skeleton (boolean array)\n",
    "        pole_set.append(poles)\n",
    "        unpruned_skel_set.append(unpruned_skel)\n",
    "        skel_set.append(skel)\n",
    "        over_set.append(over)\n",
    "        length_set.append(length)\n",
    "    pole_list.append(pole_set)\n",
    "    unpruned_skel_list.append(unpruned_skel_set)\n",
    "    skel_list.append(skel_set)\n",
    "    over_list.append(over_set)\n",
    "    length_list.append(length_set)"
   ]
  },
  {
   "cell_type": "code",
   "execution_count": 27,
   "id": "90c37564-af1d-481b-9126-03ebb5b012da",
   "metadata": {},
   "outputs": [],
   "source": [
    "# Adding to dictionaries. \n",
    "ind_cell_dict[\"Skeleton\"], ind_cell_dict[\"Skel + Mask\"], ind_cell_dict[\"Unpruned\"] = skel_list, over_list, unpruned_skel_list\n",
    "metadata_dict[\"Length\"] = length_list\n",
    "metadata_dict[\"Poles\"] = pole_list"
   ]
  }
 ],
 "metadata": {
  "kernelspec": {
   "display_name": "Python 3 (ipykernel)",
   "language": "python",
   "name": "python3"
  },
  "language_info": {
   "codemirror_mode": {
    "name": "ipython",
    "version": 3
   },
   "file_extension": ".py",
   "mimetype": "text/x-python",
   "name": "python",
   "nbconvert_exporter": "python",
   "pygments_lexer": "ipython3",
   "version": "3.8.13"
  }
 },
 "nbformat": 4,
 "nbformat_minor": 5
}
