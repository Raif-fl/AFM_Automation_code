{
 "cells": [
  {
   "cell_type": "code",
   "execution_count": 1,
   "id": "9e923581-3340-4800-bde1-8fa49b7ebc84",
   "metadata": {},
   "outputs": [],
   "source": [
    "import os, sys\n",
    "import re\n",
    "import numpy as np\n",
    "import imageio.v2 as im\n",
    "import pandas as pd\n",
    "import cv2\n",
    "from IPython.display import Image\n",
    "import matplotlib.pyplot as plt\n",
    "from cv2 import imwrite\n",
    "from IPython.core.display import HTML\n",
    "from scipy.interpolate import splprep\n",
    "from scipy.interpolate import splev\n",
    "from tools import skeleton_to_centerline\n",
    "from cellpose import utils\n",
    "from scipy.signal import find_peaks\n",
    "from scipy.signal import argrelmax\n",
    "from tools import bool_sort\n",
    "from fil_finder import FilFinder2D, Filament2D\n",
    "from fil_finder.tests.testing_utils import generate_filament_model\n",
    "from astropy.io import fits\n",
    "import astropy.units as u\n",
    "import tools \n",
    "from skimage.util import invert\n",
    "from imageio.v2 import imwrite\n",
    "import sknw\n",
    "from networkx import shortest_path\n",
    "from skimage.morphology import skeletonize\n",
    "from sklearn.neighbors import NearestNeighbors\n",
    "import networkx as nx\n",
    "\n",
    "cell_path = \"Individual_cells/\""
   ]
  },
  {
   "cell_type": "markdown",
   "id": "1ade3748-6ae9-4cf9-a69a-3f2479252a5f",
   "metadata": {},
   "source": [
    "Intersection"
   ]
  },
  {
   "cell_type": "code",
   "execution_count": 2,
   "id": "9edbfd4c-29d7-4bf7-9ad0-0690c736108b",
   "metadata": {
    "jupyter": {
     "source_hidden": true
    },
    "tags": []
   },
   "outputs": [],
   "source": [
    "def intersection(line1,line2,width1=3,width2=3):\n",
    "    '''\n",
    "    Find if two lines intersect, or nearly intersect\n",
    "    \n",
    "    Parameteres\n",
    "    -----------\n",
    "    line1,line2=boolean arrays with 'True' values where the line exists\n",
    "    width1,width2=amount (in pixels) the line should be dilated to see if a near intersection occurs\n",
    "    '''\n",
    "    check = np.sum(line1+line2==2)>0\n",
    "    if check:\n",
    "        return True\n",
    "    else:\n",
    "        kernel1 = cv2.getStructuringElement(cv2.MORPH_RECT,(width1,width1))\n",
    "        kernel2 = cv2.getStructuringElement(cv2.MORPH_RECT,(width2,width2))\n",
    "        dilated1 = cv2.dilate(line1.astype(np.uint8),kernel1,iterations=1)\n",
    "        dilated2 = cv2.dilate(line2.astype(np.uint8),kernel2,iterations=1)\n",
    "        check = np.sum(dilated1+dilated2==2)>0\n",
    "        return check"
   ]
  },
  {
   "cell_type": "markdown",
   "id": "91fd4dfc-7544-4e1e-b413-66dfe28105c9",
   "metadata": {
    "tags": []
   },
   "source": [
    "Skeleton_to_centerline,bool_sort,make_local,pts_to_img"
   ]
  },
  {
   "cell_type": "code",
   "execution_count": 367,
   "id": "cb84fb19-3a0b-46c8-8a6f-3601b0e8c799",
   "metadata": {
    "jupyter": {
     "source_hidden": true
    },
    "tags": []
   },
   "outputs": [],
   "source": [
    "def skeleton_to_centerline(skeleton,axis=False):\n",
    "    '''\n",
    "    Finds an ordered list of points which trace out a skeleton with no branches by following the pixels of the centerline \n",
    "    elementwise. Starts at the point farthest left and closest to the top. Ends when there are no new points on the skeleton \n",
    "    to go to.\n",
    "    Parameters\n",
    "    ----------\n",
    "    skel = a 2d numpy boolean array representing a topological skeleton with no branches\n",
    "    axis = if true start by finding the min point on the 0 (top-bottom) axis, then 0 (left-right) axis. If false, vice verse. Default False.\n",
    "    '''\n",
    "    #initializing lists and starting parameters\n",
    "    centerline = bool_sort(skeleton,axis) # finds and sorts all points where the skeleton exists. Selects leftest as initial position\n",
    "    centerline = reorder_opt(centerline)\n",
    "    return list(centerline)\n",
    "\n",
    "def reorder_opt(points,NN=5):\n",
    "    '''\n",
    "    Find the optimal order of a set of points in an image\n",
    "    \n",
    "    Paramters\n",
    "    ---------\n",
    "    points = an Nx2 array-like corresponing to a set of points\n",
    "    \n",
    "    Returns\n",
    "    --------\n",
    "    points = an ordered list of points\n",
    "    '''\n",
    "    #find the nearest neighbour of each point\n",
    "    points = np.array(points)\n",
    "    clf=NearestNeighbors(n_neighbors=NN).fit(points)\n",
    "    G = clf.kneighbors_graph()\n",
    "    T = nx.from_scipy_sparse_array(G)\n",
    "\n",
    "    mindist = np.inf\n",
    "    minidx = 0\n",
    "\n",
    "    order = list(nx.dfs_preorder_nodes(T, 0))\n",
    "    paths = [list(nx.dfs_preorder_nodes(T, i)) for i in range(len(points))]\n",
    "    \n",
    "    for i in range(len(points)):\n",
    "        p = paths[i]           # order of nodes\n",
    "        ordered = points[p]    # ordered nodes\n",
    "        # find cost of that order by the sum of euclidean distances between points (i) and (i+1)\n",
    "        cost = (((ordered[:-1] - ordered[1:])**2).sum(1)).sum()\n",
    "        if cost < mindist:\n",
    "            mindist = cost\n",
    "            minidx = i\n",
    "    opt_order = paths[minidx]\n",
    "    return list(points[opt_order,:])\n",
    "\n",
    "def make_local(matrix,pos):\n",
    "    '''\n",
    "    Extracts the 3x3 array of values around a position in an existing array. If this is not possible (if the position \n",
    "    is along an edge), completes the array with rows/columns of 'False' values\n",
    "    Paramters\n",
    "    ---------\n",
    "    matrix = a 2d numpy array\n",
    "    pos = a numpy array or list, indicating a position in array\n",
    "    '''\n",
    "    N = np.shape(matrix)[0]+1\n",
    "    M = np.shape(matrix)[1]+1\n",
    "    n1 = max(0,pos[0]-1)\n",
    "    n2 = min(N,pos[0]+2)\n",
    "    m1 = max(0,pos[1]-1)\n",
    "    m2 = min(M,pos[1]+2)\n",
    "    if n1 == pos[0]-1 and n2 != N and m1==pos[1]-1 and m2!=M:\n",
    "        return matrix[n1:n2,m1:m2]\n",
    "    elif n1 == 0:\n",
    "        if m1 == 0:\n",
    "            return np.hstack((np.array([[False],[False],[False]]),np.vstack((np.array([False,False]), matrix[n1:n2,m1:m2]))))\n",
    "        elif m2 == M:\n",
    "            return np.hstack((np.vstack((np.array([False,False]), matrix[n1:n2,m1:m2])),np.array([[False],[False],[False]])))\n",
    "        else:\n",
    "            return np.vstack((np.array([False,False,False]), matrix[n1:n2,m1:m2]))\n",
    "    elif n2 == N:\n",
    "        if m1 == 0:\n",
    "            return np.hstack((np.array([[False],[False],[False]]),np.vstack((matrix[n1:n2,m1:m2],np.array([False,False])))))\n",
    "        elif m2==M:\n",
    "            return np.hstack((np.vstack((matrix[n1:n2,m1:m2],np.array([False,False]))),np.array([[False],[False],[False]])))\n",
    "        else:\n",
    "            return np.vstack((matrix[n1:n2,m1:m2],np.array([False,False,False])))\n",
    "    elif m1==0:\n",
    "        return np.hstack((np.array([[False],[False],[False]]),matrix[n1:n2,m1:m2]))\n",
    "    elif m2 ==M:\n",
    "        return np.hstack((matrix[n1:n2,m1:m2],np.array([[False],[False],[False]])))\n",
    "\n",
    "def bool_sort(array,axis=True):\n",
    "    '''\n",
    "    Sort the \"True\" values in a boolean array, starting from left to right, then top to bottom. If top is true, then start from top to bottom, then\n",
    "    then left to right.\n",
    "    Parameters\n",
    "    ---------\n",
    "    array = a boolean array to be sorted\n",
    "    axis = which axis is whose lowest values are put first, default True. If True put the 0 (top-bottom) axis first, if False put the 1 (left-right) axis first.\n",
    "    '''\n",
    "    if axis:\n",
    "        output = np.transpose(np.where(array))\n",
    "        output = output[output[:,1].argsort()]\n",
    "        output = output[output[:,0].argsort(kind='mergesort')]\n",
    "    else:\n",
    "        output = np.transpose(np.where(array))\n",
    "        output = output[output[:,0].argsort()]\n",
    "        output = output[output[:,1].argsort(kind='mergesort')]\n",
    "    return output\n",
    "\n",
    "def pts_to_img(pts,base):\n",
    "    '''converts a list of points to a binary image, with the dimensions of the skeleton'''\n",
    "    path_in_img=np.zeros(np.shape(base)).astype(bool)\n",
    "    for pt in pts:\n",
    "        path_in_img[pt[0],pt[1]]=True\n",
    "    return path_in_img "
   ]
  },
  {
   "cell_type": "markdown",
   "id": "11174416-3ca3-4950-b338-d0235f5c78f3",
   "metadata": {
    "tags": []
   },
   "source": [
    "prune2"
   ]
  },
  {
   "cell_type": "code",
   "execution_count": 1,
   "id": "5ecf8f17-d4a2-45d5-b9e1-ee1f456679e5",
   "metadata": {
    "tags": []
   },
   "outputs": [],
   "source": [
    "def prune2(skel,outline,mask,poles,sensitivity=20,crop=0.1):\n",
    "    def crop_centerline(centerline_path):\n",
    "        '''Crops a proportion of the points (determined by the crop parameter) from the ends of a centerline with a false pole'''\n",
    "        crop_length=round(len(centerline_path)*crop)\n",
    "        image = pts_to_img(centerline_path,skel)\n",
    "        if true_starts == []:\n",
    "            if axis:\n",
    "                start_centerline = image[:,0:N//2]\n",
    "                start_outline = outline[:,0:N//2]\n",
    "            else:\n",
    "                start_centerline=image[0:M//2,:]\n",
    "                start_outline=outline[0:M//2,:]\n",
    "            if intersection(start_centerline,start_outline):\n",
    "                centerline_path= centerline_path[crop_length:]\n",
    "\n",
    "        if true_ends == []:\n",
    "            if axis:\n",
    "                end_centerline = image[:,N//2:N]\n",
    "                end_outline = outline[:,N//2:N]\n",
    "            else:\n",
    "                end_centerline = image[M//2:M,:]\n",
    "                end_outline = outline[M//2:M,:]\n",
    "            if intersection(end_centerline,end_outline): \n",
    "                centerline_path = centerline_path[:len(centerline_path)-crop_length]\n",
    "        return centerline_path\n",
    "    def find_splines(points):\n",
    "        s = np.linspace(0,1,1000)\n",
    "        # remove repeated points\n",
    "        diff = np.diff(points,axis=0)==0\n",
    "        repeated = np.where(np.array([pt[0] and pt[1] for pt in diff]))\n",
    "        points = list(np.delete(points,repeated,axis=0))\n",
    "        if true_starts ==[]:\n",
    "            points = [np.array([start_pole[1],start_pole[0]])] + points\n",
    "        if true_ends ==[]:\n",
    "            points = points + [np.array([end_pole[1],end_pole[0]])]\n",
    "        tck,U=splprep(np.transpose(points))\n",
    "        s = np.linspace(0,1,1000)\n",
    "        [ys,xs]= splev(s,tck)\n",
    "        return [xs,ys],s\n",
    "    def in_mask (path,mask):\n",
    "        '''\n",
    "        Returns values of a path which are in a mask\n",
    "        Parameters:\n",
    "        ---------\n",
    "        path = numpy array consisting of coordinates in the mask\n",
    "        mask = numpy boolean array, showing the mask\n",
    "        '''\n",
    "        #first remove all values that are not in the picture\n",
    "        not_in_img =[not(pt[0]<np.shape(mask)[0]-1 and pt[0]>=0 and pt[1]<np.shape(mask)[1]-1 and pt[1]>=0) for pt in path]\n",
    "        if False in not_in_img:\n",
    "            not_in_img = np.where(not_in_img)\n",
    "            path = np.delete(path,not_in_img,0)\n",
    "        #next remove all values which are not in the mask\n",
    "        not_in_mask = []\n",
    "        for i in range (0,len(path)):\n",
    "            pt = path[i]\n",
    "            if mask[pt[0],pt[1]]:\n",
    "                continue\n",
    "            else:\n",
    "                not_in_mask.append(i)\n",
    "        return np.delete(path,not_in_mask,0)\n",
    "    if np.any(np.isnan(np.array(poles))):\n",
    "        raise ValueError('Poles must be numerical values, not np.NaN')\n",
    "    #initializing parameters\n",
    "    m = np.shape(skel)[0]\n",
    "    n = np.shape(skel)[1]\n",
    "    axis = m<n\n",
    "    poles = list(poles)\n",
    "    graph = sknw.build_sknw(skel) #creating the graph from the skeleton\n",
    "    all_paths=shortest_path(graph) #shortest possible paths between the nodes in the skeleton\n",
    "    nodes = graph.nodes()\n",
    "    [start_pole,end_pole] = poles\n",
    "    paths = []\n",
    "    centerlines=[]\n",
    "    lengths=[]\n",
    "    \n",
    "    #initializing suitable starting and ending positions for the skeleton\n",
    "    if axis:\n",
    "        start_nodes = list([i for i in nodes if nodes[i]['o'][1]<n//2])\n",
    "        end_nodes= list([i for i in nodes if nodes[i]['o'][1]>n//2])\n",
    "    else:\n",
    "        start_nodes = list([i for i in nodes if nodes[i]['o'][0]<m//2])\n",
    "        end_nodes= list([i for i in nodes if nodes[i]['o'][0]>m//2])\n",
    "    \n",
    "    # if there are some nodes close to the poles, check only those nodes\n",
    "    true_starts = [i for i in start_nodes if np.linalg.norm(nodes[i]['o']-np.array([start_pole[1],start_pole[0]]))<sensitivity]\n",
    "    true_ends = [i for i in end_nodes if np.linalg.norm(nodes[i]['o']-np.array([end_pole[1],end_pole[0]]))<sensitivity]\n",
    "    if true_starts != []:\n",
    "        start_nodes = true_starts\n",
    "    if true_ends !=[]:\n",
    "        end_nodes = true_ends\n",
    "    if start_nodes == [] or end_nodes == []:\n",
    "        raise ValueError('skeleton is on only one side of the cell')\n",
    "    # take all paths between starting and ending nodes\n",
    "    for b in  start_nodes:\n",
    "        for e in end_nodes:\n",
    "            path = all_paths[b][e]\n",
    "            paths.append(path)\n",
    "    if len(paths) == 1:\n",
    "        path = paths[0]\n",
    "        edges = [(path[i],path[i+1]) for i in range(len(path)-1)] #edges of the graph corresponding to the centerline\n",
    "        #initializing centerline\n",
    "        centerline_path = []\n",
    "        #calling points from the graph\n",
    "        for (b,e) in edges:\n",
    "            edge = graph[b][e]['pts']\n",
    "            centerline_path = centerline_path + list(edge)\n",
    "        if len(centerline_path)==0:\n",
    "            raise ValueError('Skeleton has been erased')\n",
    "        centerline_path=reorder_opt(np.array(centerline_path))\n",
    "        if np.linalg.norm(np.array([centerline_path[0][1],centerline_path[0][0]])-end_pole) < np.linalg.norm(np.array([centerline_path[0][1],centerline_path[0][0]])-start_pole):\n",
    "            centerline_path.reverse()\n",
    "        centerline_path = crop_centerline(list(centerline_path))\n",
    "        if len(centerline_path)<=5:\n",
    "            raise ValueError('Skeleton has been erased')\n",
    "        centerline_path = reorder_opt(np.array(centerline_path))\n",
    "        [xs,ys],u = find_splines(centerline_path)\n",
    "        path = np.round(np.transpose(np.array([ys,xs]))).astype(np.uint32)\n",
    "        path = in_mask(path,mask)\n",
    "        length = arc_length([xs,ys])\n",
    "        pruned_skel = pts_to_img(path,skel)\n",
    "        return pruned_skel, length, [xs,ys],np.linspace(0,1,100)\n",
    "    #convert paths (lists of nodes) to centerlines (lists of points)\n",
    "    for path in paths:\n",
    "        edges = [(path[i],path[i+1]) for i in range(len(path)-1)] #edges of the graph corresponding to the centerline\n",
    "        #initializing centerline\n",
    "        centerline_path = []\n",
    "        #calling points from the graph\n",
    "        for (b,e) in edges:\n",
    "            edge = graph[b][e]['pts']\n",
    "            centerline_path = centerline_path + list(edge)\n",
    "        #convert path to binary image\n",
    "        if len(centerline_path)==0:\n",
    "            raise ValueError('Skeleton has been erased')\n",
    "        #crop the centerline, if it has a false pole\n",
    "        centerline_path=reorder_opt(np.array(centerline_path))\n",
    "        if np.linalg.norm(np.array([centerline_path[0][1],centerline_path[0][0]])-end_pole) < np.linalg.norm(np.array([centerline_path[0][1],centerline_path[0][0]])-start_pole):\n",
    "            centerline_path.reverse()\n",
    "        centerline_path = crop_centerline(list(centerline_path))\n",
    "        #find the length of each centerline\n",
    "        length = len(centerline_path)\n",
    "        # add to the list of centerlines and lengths\n",
    "        centerlines.append(centerline_path)\n",
    "        lengths.append(length)\n",
    "    #choose the longest centerline\n",
    "    max_index=lengths.index(max(lengths))\n",
    "    centerline_path=centerlines[max_index]\n",
    "    if len(centerline_path)<=5:\n",
    "        raise ValueError('Skeleton has been erased')\n",
    "    [xs,ys],u = find_splines(centerline_path)\n",
    "    path = np.round(np.transpose(np.array([ys,xs]))).astype(np.uint32)\n",
    "    path = in_mask(path,mask)\n",
    "    pruned_skel = pts_to_img(path,skel)\n",
    "    length = arc_length([xs,ys])\n",
    "    return pruned_skel, length, [xs,ys], u"
   ]
  },
  {
   "cell_type": "markdown",
   "id": "9ee0daec-844e-4973-a02a-0d67c8eb4722",
   "metadata": {
    "tags": []
   },
   "source": [
    "radii, explore_poles, arc_length"
   ]
  },
  {
   "cell_type": "code",
   "execution_count": 565,
   "id": "23596b32-da5c-4172-a1ea-50048436bf00",
   "metadata": {
    "jupyter": {
     "source_hidden": true
    },
    "tags": []
   },
   "outputs": [],
   "source": [
    "def radii(x,y):\n",
    "    '''\n",
    "    Finds the radius function of a 2d curve\n",
    "    \n",
    "    Parameters\n",
    "    ---------\n",
    "    x,y = coordinates of the curve\n",
    "    \n",
    "    Returns\n",
    "    -------\n",
    "    r = a 1D array containing the distance to the centroid of the curve for each x and y\n",
    "    centroid = the centroid of the curve\n",
    "    '''\n",
    "    length = len(y)\n",
    "    centroid = np.array([np.sum(x),np.sum(y)])/length\n",
    "    vectors = np.transpose(np.array([x,y]))-centroid\n",
    "    return np.array([np.linalg.norm(v) for v in vectors]),centroid\n",
    "\n",
    "def explore_poles(outline,axis=True):\n",
    "    '''\n",
    "    Finds the poles (average distance of the farthest points from the centroid on a smooth closed curve) from x and y coords\n",
    "    Parameters\n",
    "    ----------\n",
    "    outline = boolean array representing the outline of the cell\n",
    "    axis = which axis the poles are found with respect to. True for the 0 (left-right) axis, False for the 1 (top-bottom) axis\n",
    "    \n",
    "    Returns\n",
    "    --------\n",
    "    poles \n",
    "    '''\n",
    "    #find points. Want to start on the axis we wish to find them on\n",
    "    outline_pts = bool_sort(outline,axis)\n",
    "    outline_pts = reorder_opt(outline_pts,NN=2)\n",
    "    outline_pts = outline_pts + [outline_pts[0]]\n",
    "    tck,U=splprep(np.transpose(outline_pts),per=1)\n",
    "    [y,x] = splev(U,tck)\n",
    "    r,centroid = radii(x,y)\n",
    "    cx = centroid[0]\n",
    "    cy = centroid[1]\n",
    "    peaks = list(argrelmax(r)[0])\n",
    "    if len(peaks)<2:\n",
    "        peaks = peaks+[0,-1]\n",
    "    if axis:\n",
    "        right_x_pos=[x[i] for i in peaks if x[i]>cx]\n",
    "        right_y_pos=[y[i] for i in peaks if x[i]>cx]\n",
    "        right_rads=[r[i] for i in peaks if x[i]>cx]\n",
    "        left_x_pos=[x[i] for i in peaks if x[i]<cx]\n",
    "        left_y_pos=[y[i] for i in peaks if x[i]<cx]\n",
    "        left_rads=[r[i] for i in peaks if x[i]<cx]\n",
    "        \n",
    "        left_pole = np.array([np.dot(left_x_pos,left_rads)/sum(left_rads),np.dot(left_y_pos,left_rads)/sum(left_rads)])\n",
    "        right_pole = np.array([np.dot(right_x_pos,right_rads)/sum(right_rads),np.dot(right_y_pos,right_rads)/sum(right_rads)])\n",
    "        return np.array([left_pole,right_pole]), centroid\n",
    "    else:\n",
    "        lower_x_pos=[x[i] for i in peaks if y[i]>cy]\n",
    "        lower_y_pos=[y[i] for i in peaks if y[i]>cy]\n",
    "        lower_rads=[r[i] for i in peaks if y[i]>cy]\n",
    "        upper_x_pos=[x[i] for i in peaks if y[i]<cy]\n",
    "        upper_y_pos=[y[i] for i in peaks if y[i]<cy]\n",
    "        upper_rads=[r[i] for i in peaks if y[i]<cy]\n",
    "        \n",
    "        upper_pole = np.array([np.dot(upper_x_pos,upper_rads)/sum(upper_rads),np.dot(upper_y_pos,upper_rads)/sum(upper_rads)])\n",
    "        lower_pole= np.array([np.dot(lower_x_pos,lower_rads)/sum(lower_rads),np.dot(lower_y_pos,lower_rads)/sum(lower_rads)])\n",
    "        return list(np.transpose([upper_pole,lower_pole])), centroid\n",
    "\n",
    "def arc_length(pts):\n",
    "    '''\n",
    "    Find the arclength of a curve given by a set of points\n",
    "    Paramters\n",
    "    --------\n",
    "    pts = array-like coordinates [x1,x2,....]\n",
    "    '''\n",
    "    pts = np.array(np.transpose(pts))\n",
    "    lengths = []\n",
    "    for i in range (1,len(pts)):\n",
    "        length = np.linalg.norm(pts[i] - pts[i-1])\n",
    "        lengths.append(length)\n",
    "    return np.sum(lengths)"
   ]
  },
  {
   "cell_type": "markdown",
   "id": "b4cf7439-6600-445c-986a-75d76d7ff110",
   "metadata": {},
   "source": [
    "padskel"
   ]
  },
  {
   "cell_type": "code",
   "execution_count": 543,
   "id": "52ed59a3-454a-485f-a6fb-89bbff3cad24",
   "metadata": {
    "tags": []
   },
   "outputs": [],
   "source": [
    "def padskel(mask):\n",
    "    '''\n",
    "    Runs skimage.morphology.skeletonize on a padded version of the mask, to avoid errors.\n",
    "    \n",
    "    Parameters\n",
    "    ----------\n",
    "    mask = a mask (opencv image)\n",
    "    \n",
    "    Returns\n",
    "    -------\n",
    "    skel = a skelegon (boolean array)\n",
    "    '''\n",
    "    mask = cv2.copyMakeBorder(mask,20,20,20,20,cv2.BORDER_CONSTANT,None,value=0)[:,:,0]>0 #add a border to the skel\n",
    "    skel = skeletonize(mask)\n",
    "    skel = skel[20:np.shape(skel)[0]-20,20:np.shape(skel)[1]-20]\n",
    "    return skel"
   ]
  },
  {
   "cell_type": "code",
   "execution_count": 544,
   "id": "415afebb-fad6-4061-a050-0a831aa34159",
   "metadata": {},
   "outputs": [],
   "source": [
    "all_the_cells = os.listdir(cell_path)\n",
    "\n",
    "# List of masks with associated timepoints and names\n",
    "maskl = []\n",
    "for cell in all_the_cells:\n",
    "    time = re.findall(r'\\d+', cell)\n",
    "    if time != []:\n",
    "        time = time[0]\n",
    "        im_path = cell_path + cell + '/masks'\n",
    "        #create skeletons; save masks, skeletons, and masks with skeletons as lists, save skeletons and skeletons with masks as images\n",
    "        for mask_name in os.listdir(im_path):\n",
    "            if mask_name[len(mask_name)-3:len(mask_name)]!='png':\n",
    "                continue\n",
    "            ID = int(mask_name[5:6])\n",
    "            time = int(time)\n",
    "            mask=im.imread(im_path+'/'+mask_name) #the cells mask (opencv image)\n",
    "            maskl.append([mask,time,ID])"
   ]
  },
  {
   "cell_type": "markdown",
   "id": "7ad82629-fa69-4baa-b326-eb6b9afc4ecc",
   "metadata": {
    "tags": []
   },
   "source": [
    "# 1. Start by finding the input for pruning (mask, outline, skeleton, poles)"
   ]
  },
  {
   "cell_type": "code",
   "execution_count": 611,
   "id": "5eb3ae15-ad9f-49fd-9ea5-de91283cfe14",
   "metadata": {
    "tags": []
   },
   "outputs": [
    {
     "data": {
      "text/plain": [
       "[<matplotlib.lines.Line2D at 0x7f46a6a04bb0>]"
      ]
     },
     "execution_count": 611,
     "metadata": {},
     "output_type": "execute_result"
    },
    {
     "data": {
      "image/png": "[encoded data removed]",
      "text/plain": [
       "<Figure size 432x288 with 1 Axes>"
      ]
     },
     "metadata": {
      "needs_background": "light"
     },
     "output_type": "display_data"
    }
   ],
   "source": [
    "n = 22\n",
    "mask = np.array(maskl[n][0])\n",
    "unpruned_skel = padskel(mask)\n",
    "mask = mask[:,:,0]\n",
    "outline = utils.masks_to_outlines(mask)\n",
    "M = np.shape(mask)[0]\n",
    "N = np.shape(mask)[1]\n",
    "axis = M<N\n",
    "poles,centroid = explore_poles(outline,axis)\n",
    "[start_pole,end_pole]=poles\n",
    "skel,length,[xs,ys],s = prune2(unpruned_skel,outline,mask,[start_pole,end_pole],sensitivity=5)\n",
    "plt.imshow(skel+outline, cmap=plt.cm.gray)\n",
    "plt.plot(xs,ys)\n",
    "plt.plot(start_pole[0],start_pole[1],'r*')\n",
    "plt.plot(end_pole[0],end_pole[1],'r*')"
   ]
  },
  {
   "cell_type": "markdown",
   "id": "f90bf5ff-398c-4926-a4c4-e7d163f65478",
   "metadata": {
    "tags": []
   },
   "source": [
    "# 1.1 (finding poles) Fit a spline to the outline"
   ]
  },
  {
   "cell_type": "code",
   "execution_count": 612,
   "id": "c67c5687-9242-4e99-ba13-be38664d53bc",
   "metadata": {},
   "outputs": [
    {
     "data": {
      "text/plain": [
       "[<matplotlib.lines.Line2D at 0x7f46a69f6a00>]"
      ]
     },
     "execution_count": 612,
     "metadata": {},
     "output_type": "execute_result"
    },
    {
     "data": {
      "image/png": "[encoded data removed]",
      "text/plain": [
       "<Figure size 432x288 with 1 Axes>"
      ]
     },
     "metadata": {
      "needs_background": "light"
     },
     "output_type": "display_data"
    }
   ],
   "source": [
    "out = np.array(outline)\n",
    "outline_periodic = bool_sort(outline,axis)\n",
    "outline_periodic = reorder_opt(outline_periodic,NN=2)\n",
    "outline_periodic = outline_periodic + [outline_periodic[0]]\n",
    "tck,u=splprep(np.transpose(outline_periodic),per=1)\n",
    "[ys,xs]=splev(u,tck)\n",
    "#[ys,xs] = np.transpose(outline_periodic)\n",
    "plt.imshow(outline,cmap=plt.cm.gray)\n",
    "plt.plot(xs,ys,'r-')"
   ]
  },
  {
   "cell_type": "markdown",
   "id": "9c5d6b18-afd1-4792-a0e2-b7c09ec95d82",
   "metadata": {},
   "source": [
    "# 1.2 (finding poles) Extract the poles of the cell using a centroid-distance transform"
   ]
  },
  {
   "cell_type": "code",
   "execution_count": 613,
   "id": "9e26b234-4347-4a46-9487-d5c6e0ed9165",
   "metadata": {},
   "outputs": [
    {
     "data": {
      "text/plain": [
       "[<matplotlib.lines.Line2D at 0x7f46a6958fd0>]"
      ]
     },
     "execution_count": 613,
     "metadata": {},
     "output_type": "execute_result"
    },
    {
     "data": {
      "image/png": "[encoded data removed]",
      "text/plain": [
       "<Figure size 432x288 with 1 Axes>"
      ]
     },
     "metadata": {
      "needs_background": "light"
     },
     "output_type": "display_data"
    }
   ],
   "source": [
    "# find the distances to the centroid of the mask at each point on the spline of the outline\n",
    "r,centroid = tools.radii(xs,ys)\n",
    "plt.plot(u,r,'r-')\n",
    "plt.plot(u,xs-centroid[0],'b-')\n",
    "plt.plot(u,np.zeros(len(u)),'b--')"
   ]
  },
  {
   "cell_type": "code",
   "execution_count": 614,
   "id": "a5bd7217-a300-4e68-9c2c-0b9c46113dc8",
   "metadata": {},
   "outputs": [
    {
     "data": {
      "text/plain": [
       "[<matplotlib.lines.Line2D at 0x7f46a68cb130>]"
      ]
     },
     "execution_count": 614,
     "metadata": {},
     "output_type": "execute_result"
    },
    {
     "data": {
      "image/png": "[encoded data removed]",
      "text/plain": [
       "<Figure size 432x288 with 1 Axes>"
      ]
     },
     "metadata": {
      "needs_background": "light"
     },
     "output_type": "display_data"
    }
   ],
   "source": [
    "[start_pole,end_pole],centroid=explore_poles(outline,axis)\n",
    "plt.imshow(outline,cmap=plt.cm.gray)\n",
    "#plt.plot(xs,ys,'r-')\n",
    "plt.plot(start_pole[0],start_pole[1],'b*',markersize=24)\n",
    "plt.plot(end_pole[0],end_pole[1],'b*',markersize=24)"
   ]
  },
  {
   "cell_type": "markdown",
   "id": "01ac9d82-b107-475e-bb2d-e374c9c4d766",
   "metadata": {},
   "source": [
    "# 2. Compare these poles with the skeleton"
   ]
  },
  {
   "cell_type": "code",
   "execution_count": 615,
   "id": "9e4d8f32-3145-4f03-83c3-e4e45f3518f0",
   "metadata": {},
   "outputs": [
    {
     "data": {
      "text/plain": [
       "[<matplotlib.lines.Line2D at 0x7f46a68acd30>]"
      ]
     },
     "execution_count": 615,
     "metadata": {},
     "output_type": "execute_result"
    },
    {
     "data": {
      "image/png": "[encoded data removed]",
      "text/plain": [
       "<Figure size 432x288 with 1 Axes>"
      ]
     },
     "metadata": {
      "needs_background": "light"
     },
     "output_type": "display_data"
    }
   ],
   "source": [
    "plt.imshow(unpruned_skel,cmap=plt.cm.gray)\n",
    "plt.plot(start_pole[0],start_pole[1],'b*',markersize=24)\n",
    "plt.plot(end_pole[0],end_pole[1],'b*',markersize=24)"
   ]
  },
  {
   "cell_type": "markdown",
   "id": "75e09d7c-df4b-4442-b15b-9aeef3a3195c",
   "metadata": {},
   "source": [
    "# 3. Find all nodes and paths through the skeleton using NetworkX"
   ]
  },
  {
   "cell_type": "code",
   "execution_count": 616,
   "id": "5f4280b0-8bff-40cb-9dae-f5ab28b15d90",
   "metadata": {
    "tags": []
   },
   "outputs": [
    {
     "data": {
      "text/plain": [
       "[<matplotlib.lines.Line2D at 0x7f46a682a580>]"
      ]
     },
     "execution_count": 616,
     "metadata": {},
     "output_type": "execute_result"
    },
    {
     "data": {
      "image/png": "[encoded data removed]",
      "text/plain": [
       "<Figure size 432x288 with 1 Axes>"
      ]
     },
     "metadata": {
      "needs_background": "light"
     },
     "output_type": "display_data"
    }
   ],
   "source": [
    "m = np.shape(unpruned_skel)[0]\n",
    "n = np.shape(unpruned_skel)[1]\n",
    "graph = sknw.build_sknw(unpruned_skel) #creating the graph from the skeleton\n",
    "all_paths=shortest_path(graph) #shortest possible paths between the nodes in the skeleton\n",
    "nodes = graph.nodes()\n",
    "#divide nodes into starting and ending nodes\n",
    "start_nodes = list([i for i in nodes if nodes[i]['o'][1]<n//2])\n",
    "end_nodes= list([i for i in nodes if nodes[i]['o'][1]>n//2])\n",
    "plt.imshow(unpruned_skel,cmap=plt.cm.gray)\n",
    "for (s,e) in graph.edges():\n",
    "    ps = graph[s][e]['pts']\n",
    "    plt.plot(ps[:,1], ps[:,0], 'b-')\n",
    "ps = np.array([nodes[i]['o'] for i in nodes])\n",
    "plt.plot(ps[:,1], ps[:,0], 'r.',markersize=16)\n",
    "plt.plot(start_pole[0],start_pole[1],'b*',markersize=24)\n",
    "plt.plot(end_pole[0],end_pole[1],'b*',markersize=24)"
   ]
  },
  {
   "cell_type": "markdown",
   "id": "1a073dea-3f43-4a9c-b81b-80aad885bf38",
   "metadata": {
    "tags": []
   },
   "source": [
    "# 4. Use only true poles, if they exist"
   ]
  },
  {
   "cell_type": "code",
   "execution_count": 617,
   "id": "9fc7bcf3-ec43-4c19-b57a-df2eca3d9a1f",
   "metadata": {
    "tags": []
   },
   "outputs": [
    {
     "name": "stdout",
     "output_type": "stream",
     "text": [
      "[]\n",
      "[]\n"
     ]
    }
   ],
   "source": [
    "true_starts = [i for i in start_nodes if np.linalg.norm(nodes[i]['o']-np.array([start_pole[1],start_pole[0]]))<5]\n",
    "true_ends = [i for i in end_nodes if np.linalg.norm(nodes[i]['o']-np.array([end_pole[1],end_pole[0]]))<5]\n",
    "#start_nodes=true_starts\n",
    "#end_nodes = true_ends\n",
    "print (true_starts)\n",
    "print(true_ends)"
   ]
  },
  {
   "cell_type": "markdown",
   "id": "cc3e7c6f-4ed2-4900-afd4-07855e1f7db6",
   "metadata": {
    "tags": []
   },
   "source": [
    "# 5. Crop all paths containing a false pole "
   ]
  },
  {
   "cell_type": "code",
   "execution_count": 618,
   "id": "35aa6b6d-0e9b-4992-a632-9172ed3797f5",
   "metadata": {
    "tags": []
   },
   "outputs": [
    {
     "data": {
      "text/plain": [
       "[<matplotlib.lines.Line2D at 0x7f46a66b6610>]"
      ]
     },
     "execution_count": 618,
     "metadata": {},
     "output_type": "execute_result"
    },
    {
     "data": {
      "image/png": "[encoded data removed]",
      "text/plain": [
       "<Figure size 432x288 with 1 Axes>"
      ]
     },
     "metadata": {
      "needs_background": "light"
     },
     "output_type": "display_data"
    }
   ],
   "source": [
    "crop = 0.1\n",
    "paths = []\n",
    "for b in  start_nodes:\n",
    "    for e in end_nodes:\n",
    "        path = all_paths[b][e]\n",
    "        paths.append(path)\n",
    "path = paths[0]\n",
    "edges = [(path[i],path[i+1]) for i in range(len(path)-1)] #edges of the graph corresponding to the centerline\n",
    "#initializing centerline\n",
    "centerline_path = []\n",
    "#calling points from the graph\n",
    "for (b,e) in edges:\n",
    "    edge = graph[b][e]['pts']\n",
    "    centerline_path = centerline_path + list(edge)\n",
    "centerline_path = reorder_opt(np.array(centerline_path))\n",
    "if np.linalg.norm(np.array([centerline_path[0][1],centerline_path[0][0]])-end_pole) < np.linalg.norm(np.array([centerline_path[0][1],centerline_path[0][0]])-start_pole):\n",
    "    centerline_path.reverse()\n",
    "crop_length=round(len(centerline_path)*crop)\n",
    "image = pts_to_img(centerline_path,unpruned_skel)\n",
    "\n",
    "[y,x] = np.transpose(centerline_path)\n",
    "plt.imshow(unpruned_skel,cmap=plt.cm.gray)\n",
    "for i in range(len(centerline_path)-1):\n",
    "    plt.plot(x[i:i+2],y[i:i+2],\n",
    "             alpha=float(i)/(len(centerline_path)-1),color = 'green')\n",
    "plt.plot(centerline_path[0][1],centerline_path[0][0],'r.')"
   ]
  },
  {
   "cell_type": "code",
   "execution_count": 619,
   "id": "d4fa0d1a-93d4-4b1d-bc4a-d80f42f2ec29",
   "metadata": {},
   "outputs": [
    {
     "data": {
      "text/plain": [
       "[<matplotlib.lines.Line2D at 0x7f46a64e8790>]"
      ]
     },
     "execution_count": 619,
     "metadata": {},
     "output_type": "execute_result"
    },
    {
     "data": {
      "image/png": "[encoded data removed]",
      "text/plain": [
       "<Figure size 432x288 with 1 Axes>"
      ]
     },
     "metadata": {
      "needs_background": "light"
     },
     "output_type": "display_data"
    }
   ],
   "source": [
    "if true_starts == []:\n",
    "    if axis:\n",
    "        start_centerline = image[:,0:N//2]\n",
    "        start_outline = outline[:,0:N//2]\n",
    "    else:\n",
    "        start_centerline=image[0:M//2,:]\n",
    "        start_outline=outline[0:M//2,:]\n",
    "    if intersection(start_centerline,start_outline):\n",
    "        centerline_path= centerline_path[crop_length:]\n",
    "\n",
    "if true_ends == []:\n",
    "    if axis:\n",
    "        end_centerline = image[:,N//2:N]\n",
    "        end_outline = outline[:,N//2:N]\n",
    "    else:\n",
    "        end_centerline = image[M//2:M,:]\n",
    "        end_outline = outline[M//2:M,:]\n",
    "    if intersection(end_centerline,end_outline): \n",
    "        centerline_path = centerline_path[:len(centerline_path)-crop_length]\n",
    "\n",
    "centerline = pts_to_img(centerline_path,unpruned_skel)\n",
    "plt.imshow(centerline,cmap=plt.cm.gray)\n",
    "for i in range(len(centerline_path)-1):\n",
    "    plt.plot(x[i:i+2],y[i:i+2],\n",
    "             alpha=float(i)/(len(centerline_path)-1),color = 'green')\n",
    "plt.plot(centerline_path[0][1],centerline_path[0][0],'r.')"
   ]
  },
  {
   "cell_type": "code",
   "execution_count": 620,
   "id": "293017d7-c3f7-47cb-a91c-f91451676065",
   "metadata": {},
   "outputs": [],
   "source": [
    "def crop_centerline(centerline_path):\n",
    "    '''Crops a proportion of the points (determined by the crop parameter) from the ends of a centerline with a false pole'''\n",
    "    crop_length=round(len(centerline_path)*crop)\n",
    "    image = pts_to_img(centerline_path,unpruned_skel)\n",
    "    if true_starts == []:\n",
    "        if axis:\n",
    "            start_centerline = image[:,0:N//2]\n",
    "            start_outline = outline[:,0:N//2]\n",
    "        else:\n",
    "            start_centerline=image[0:M//2,:]\n",
    "            start_outline=outline[0:M//2,:]\n",
    "        if intersection(start_centerline,start_outline):\n",
    "            centerline_path= centerline_path[crop_length:]\n",
    "\n",
    "    if true_ends == []:\n",
    "        if axis:\n",
    "            end_centerline = image[:,N//2:N]\n",
    "            end_outline = outline[:,N//2:N]\n",
    "        else:\n",
    "            end_centerline = image[M//2:M,:]\n",
    "            end_outline = outline[M//2:M,:]\n",
    "        if intersection(end_centerline,end_outline): \n",
    "            centerline_path = centerline_path[:len(centerline_path)-crop_length]\n",
    "    return centerline_path"
   ]
  },
  {
   "cell_type": "code",
   "execution_count": 621,
   "id": "66e5cc78-fdbb-44da-8d3c-ddafdc24b9c7",
   "metadata": {},
   "outputs": [],
   "source": [
    "#select all paths from stats to ends\n",
    "paths = []\n",
    "lengths=[]\n",
    "for b in  start_nodes:\n",
    "    for e in end_nodes:\n",
    "        path = all_paths[b][e]\n",
    "        paths.append(path)\n",
    "#convert paths (lists of nodes) to centerlines (lists of points)\n",
    "centerlines=[]\n",
    "for path in paths:\n",
    "    edges = [(path[i],path[i+1]) for i in range(len(path)-1)] #edges of the graph corresponding to the centerline\n",
    "    #initializing centerline\n",
    "    centerline_path = []\n",
    "    #calling points from the graph\n",
    "    for (b,e) in edges:\n",
    "        edge = graph[b][e]['pts']\n",
    "        centerline_path = centerline_path + list(edge)\n",
    "    #convert path to binary image\n",
    "    if len(centerline_path)==0:\n",
    "        raise ValueError('Skeleton has been erased')\n",
    "    #crop the centerline, if it has a false pole\n",
    "    centerline_path=reorder_opt(np.array(centerline_path))\n",
    "    if np.linalg.norm(np.array([centerline_path[0][1],centerline_path[0][0]])-end_pole) < np.linalg.norm(np.array([centerline_path[0][1],centerline_path[0][0]])-start_pole):\n",
    "        centerline_path.reverse()\n",
    "    centerline_path = crop_centerline(list(centerline_path))\n",
    "    #find the length of each centerline\n",
    "    length = len(centerline_path)\n",
    "    # add to the list of centerlines and lengths\n",
    "    centerlines.append(centerline_path)\n",
    "    lengths.append(length)\n"
   ]
  },
  {
   "cell_type": "code",
   "execution_count": 622,
   "id": "e8a357cb-7262-4e57-a8b2-06cbec8e331d",
   "metadata": {},
   "outputs": [
    {
     "data": {
      "text/plain": [
       "[<matplotlib.lines.Line2D at 0x7f46a630d9a0>]"
      ]
     },
     "execution_count": 622,
     "metadata": {},
     "output_type": "execute_result"
    },
    {
     "data": {
      "image/png": "[encoded data removed]",
      "text/plain": [
       "<Figure size 432x288 with 1 Axes>"
      ]
     },
     "metadata": {
      "needs_background": "light"
     },
     "output_type": "display_data"
    }
   ],
   "source": [
    "centerline_path=centerlines[0]\n",
    "centerline = pts_to_img(centerline_path,unpruned_skel)\n",
    "plt.imshow(centerline,cmap=plt.cm.gray)\n",
    "for i in range(len(centerline_path)-1):\n",
    "    plt.plot(x[i:i+2],y[i:i+2],\n",
    "             alpha=float(i)/(len(centerline_path)-1),color = 'green')\n",
    "plt.plot(centerline_path[0][1],centerline_path[0][0],'r.')"
   ]
  },
  {
   "cell_type": "markdown",
   "id": "fd5329e6-adc5-450c-ae39-cfe6cb688e57",
   "metadata": {
    "tags": []
   },
   "source": [
    "# 6. Choose the longest through the skeleton"
   ]
  },
  {
   "cell_type": "code",
   "execution_count": 623,
   "id": "3e436517-53a8-41d4-9c0b-9a9a61b7781c",
   "metadata": {
    "tags": []
   },
   "outputs": [
    {
     "data": {
      "text/plain": [
       "[<matplotlib.lines.Line2D at 0x7f46a61449d0>]"
      ]
     },
     "execution_count": 623,
     "metadata": {},
     "output_type": "execute_result"
    },
    {
     "data": {
      "image/png": "[encoded data removed]",
      "text/plain": [
       "<Figure size 432x288 with 1 Axes>"
      ]
     },
     "metadata": {
      "needs_background": "light"
     },
     "output_type": "display_data"
    }
   ],
   "source": [
    "#choose the longest centerline\n",
    "max_index=lengths.index(max(lengths))\n",
    "centerline_path=centerlines[max_index]\n",
    "centerline = pts_to_img(centerline_path,unpruned_skel)\n",
    "plt.imshow(centerline,cmap=plt.cm.gray)\n",
    "for i in range(len(centerline_path)-1):\n",
    "    plt.plot(x[i:i+2],y[i:i+2],\n",
    "             alpha=float(i)/(len(centerline_path)-1),color = 'green')\n",
    "plt.plot(centerline_path[0][1],centerline_path[0][0],'r.')\n",
    "plt.plot(start_pole[0],start_pole[1],'r.')"
   ]
  },
  {
   "cell_type": "markdown",
   "id": "59be6e72-588b-4294-a27f-2890c886d857",
   "metadata": {},
   "source": [
    "# 7. Find the spline of the centerline and extend it to the poles"
   ]
  },
  {
   "cell_type": "code",
   "execution_count": 624,
   "id": "babf20aa-3d65-4bf3-bc17-4bd2ce87b5cd",
   "metadata": {},
   "outputs": [],
   "source": [
    "if true_starts ==[]:\n",
    "    centerline_path = [np.array([start_pole[1],start_pole[0]])] + centerline_path\n",
    "if true_ends ==[]:\n",
    "    centerline_path = centerline_path + [np.array([end_pole[1],end_pole[0]])]\n"
   ]
  },
  {
   "cell_type": "code",
   "execution_count": 625,
   "id": "85fcba95-2918-4ba2-95ac-b37346905b77",
   "metadata": {},
   "outputs": [],
   "source": [
    "tck,U=splprep(np.transpose(centerline_path))\n",
    "s = np.linspace(0,1,1000)\n",
    "[y,x]= splev(s,tck)"
   ]
  },
  {
   "cell_type": "code",
   "execution_count": 626,
   "id": "1845c0c1-ea91-485a-8f46-98f7b172b65d",
   "metadata": {},
   "outputs": [
    {
     "data": {
      "text/plain": [
       "[<matplotlib.lines.Line2D at 0x7f46a60d3550>]"
      ]
     },
     "execution_count": 626,
     "metadata": {},
     "output_type": "execute_result"
    },
    {
     "data": {
      "image/png": "[encoded data removed]",
      "text/plain": [
       "<Figure size 432x288 with 1 Axes>"
      ]
     },
     "metadata": {
      "needs_background": "light"
     },
     "output_type": "display_data"
    }
   ],
   "source": [
    "plt.imshow(centerline,cmap=plt.cm.gray)\n",
    "plt.plot(x,y)"
   ]
  },
  {
   "cell_type": "code",
   "execution_count": 632,
   "id": "bdd90ba3-6d3c-478c-9301-abbdcfef2e96",
   "metadata": {},
   "outputs": [],
   "source": [
    "path = np.round(np.transpose(np.array([y,x]))).astype(np.uint32)\n"
   ]
  },
  {
   "cell_type": "markdown",
   "id": "ccde06ac-3fcf-4d73-8425-857525275847",
   "metadata": {},
   "source": [
    "# 7.1 Remove points that are not in the image"
   ]
  },
  {
   "cell_type": "code",
   "execution_count": 633,
   "id": "46052722-a18b-4620-ada5-cfb72802e0eb",
   "metadata": {},
   "outputs": [],
   "source": [
    "#first remove all values that are not in the picture\n",
    "not_in_img =[not(pt[0]<np.shape(mask)[0]-1 and pt[0]>=0 and pt[1]<np.shape(mask)[1]-1 and pt[1]>=0) for pt in path]\n",
    "if False in not_in_img:\n",
    "    not_in_img = np.where(not_in_img)\n",
    "    path = np.delete(path,not_in_img,0)\n",
    "#next remove all values which are not in the mask\n",
    "not_in_mask = []\n",
    "for i in range (0,len(path)):\n",
    "    pt = path[i]\n",
    "    if mask[pt[0],pt[1]]:\n",
    "        continue\n",
    "    else:\n",
    "        not_in_mask.append(i)\n",
    "path= np.delete(path,not_in_mask,0)\n"
   ]
  },
  {
   "cell_type": "code",
   "execution_count": 634,
   "id": "35384678-069b-4d89-bf39-5633b0325d65",
   "metadata": {},
   "outputs": [],
   "source": [
    "pruned_skel = pts_to_img(path,unpruned_skel)"
   ]
  },
  {
   "cell_type": "code",
   "execution_count": 635,
   "id": "c485ec04-69ff-41f8-9c3c-b8418ea66faa",
   "metadata": {},
   "outputs": [
    {
     "data": {
      "text/plain": [
       "<matplotlib.image.AxesImage at 0x7f46a600b280>"
      ]
     },
     "execution_count": 635,
     "metadata": {},
     "output_type": "execute_result"
    },
    {
     "data": {
      "image/png": "[encoded data removed]",
      "text/plain": [
       "<Figure size 432x288 with 1 Axes>"
      ]
     },
     "metadata": {
      "needs_background": "light"
     },
     "output_type": "display_data"
    }
   ],
   "source": [
    "plt.imshow(pruned_skel,cmap=plt.cm.gray)"
   ]
  },
  {
   "cell_type": "code",
   "execution_count": null,
   "id": "6f9a1055-5c40-4b37-9994-bfcfc8608e9b",
   "metadata": {},
   "outputs": [],
   "source": []
  }
 ],
 "metadata": {
  "kernelspec": {
   "display_name": "Python 3 (ipykernel)",
   "language": "python",
   "name": "python3"
  },
  "language_info": {
   "codemirror_mode": {
    "name": "ipython",
    "version": 3
   },
   "file_extension": ".py",
   "mimetype": "text/x-python",
   "name": "python",
   "nbconvert_exporter": "python",
   "pygments_lexer": "ipython3",
   "version": "3.8.13"
  }
 },
 "nbformat": 4,
 "nbformat_minor": 5
}
