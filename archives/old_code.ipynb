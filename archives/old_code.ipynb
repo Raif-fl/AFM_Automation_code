{
 "cells": [
  {
   "cell_type": "code",
   "execution_count": null,
   "id": "13693492-4a9a-4460-af80-6e252921ef65",
   "metadata": {},
   "outputs": [],
   "source": [
    "# draws lines between centroids that passed the test. \n",
    "img_lines = img.copy()\n",
    "for out_cell, cen_cell in zip(outl, centers):\n",
    "    for cen_oth in centers:\n",
    "        distance = dist.euclidean(cen_cell,cen_oth)\n",
    "        if distance > 150 or distance == 0:\n",
    "            continue\n",
    "        cv2.line(img_lines, (int(cen_cell[0]),int(cen_cell[1])), (int(cen_oth[0]),int(cen_oth[1])), color = (0, 0, 255))"
   ]
  },
  {
   "cell_type": "code",
   "execution_count": null,
   "id": "9951b177-013f-457e-8540-b769d6bf2389",
   "metadata": {},
   "outputs": [],
   "source": [
    "# an older version of skeleton length that includes an archaic method for getting the skeleton. \n",
    "def skeleton_length_old(path, IDs_list, time_list):\n",
    "    '''\n",
    "    This iterative function loads up a set of skeletons for individual cells which were created \n",
    "    from a set of parent images taken at different timepoints. For each of these skeletons, it uses\n",
    "    the filfinder package to convert the skeleton to a filfinder skeleton. This fairly complicated\n",
    "    process is done simply so that the length of the skeleton can be recorded. \n",
    "    '''\n",
    "    length_list = []\n",
    "    for ID_set, time in zip(IDs_list, time_list):\n",
    "        length_set = []\n",
    "        for idx in (ID_set):\n",
    "             ###!!!### Replace with a call to Hasti's stuff\n",
    "            fil_mask=imageio.imread(path + str(time) + \"/masks/mask_\" + str(idx) + \".png\")\n",
    "            skeleton = sk_m.skeletonize(fil_mask)\n",
    "            skeleton = cv2.cvtColor(skeleton, cv2.COLOR_BGR2GRAY)\n",
    "\n",
    "            fil = FilFinder2D(skeleton, distance=250 * u.pix, mask=skeleton)\n",
    "            fil.preprocess_image(flatten_percent=85)\n",
    "            fil.create_mask(border_masking=True, verbose=False,\n",
    "            use_existing_mask=True)\n",
    "            fil.medskel(verbose=False)\n",
    "            fil.analyze_skeletons(branch_thresh=40* u.pix, skel_thresh=10 * u.pix, prune_criteria='length')\n",
    "            if len(fil.lengths().value) > 0:\n",
    "                length = fil.lengths().value[0]\n",
    "            else:\n",
    "                length = np.nan\n",
    "        \n",
    "            length_set.append(length)\n",
    "        length_list.append(length_set)\n",
    "    return(length_list)"
   ]
  }
 ],
 "metadata": {
  "kernelspec": {
   "display_name": "Python 3 (ipykernel)",
   "language": "python",
   "name": "python3"
  },
  "language_info": {
   "codemirror_mode": {
    "name": "ipython",
    "version": 3
   },
   "file_extension": ".py",
   "mimetype": "text/x-python",
   "name": "python",
   "nbconvert_exporter": "python",
   "pygments_lexer": "ipython3",
   "version": "3.8.13"
  }
 },
 "nbformat": 4,
 "nbformat_minor": 5
}
