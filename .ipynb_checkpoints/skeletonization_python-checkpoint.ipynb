{
 "cells": [
  {
   "cell_type": "code",
   "execution_count": 1,
   "id": "f809ce36",
   "metadata": {},
   "outputs": [],
   "source": [
    "import os, sys\n",
    "import re\n",
    "import numpy as np\n",
    "import imageio as im\n",
    "import pandas as pd\n",
    "from skimage.morphology import skeletonize\n",
    "from skimage.util import invert\n",
    "from IPython.display import Image\n",
    "import matplotlib.pyplot as plt\n",
    "from cv2 import imwrite\n",
    "from cv_algorithms import grassfire\n",
    "cell_path = \"individual_cells/\""
   ]
  },
  {
   "cell_type": "code",
   "execution_count": 69,
   "id": "d5a3ea01",
   "metadata": {},
   "outputs": [],
   "source": [
    "all_the_cells = os.listdir(cell_path)\n",
    "\n",
    "# Create a list that records the timepoints for every mask. \n",
    "time_list = []\n",
    "# List of masks with associated timepoints and names\n",
    "maskl = []\n",
    "#list of skeletons with associated timepoints\n",
    "skell = []\n",
    "#list of masks with skeletons overlayed in black\n",
    "overl=[]\n",
    "#overwrite skeleton_check\n",
    "for item in os.listdir('skeleton_check'):\n",
    "    if item[-3]=='p' and item[-2]=='n' and item[-1]=='g':\n",
    "        os.remove('skeleton_check'+'/'+item)\n",
    "for cell in all_the_cells:\n",
    "    time = re.findall(r'\\d+', cell)\n",
    "    if time != []:\n",
    "        #overwrite old skeletons in individual_cells\n",
    "        for item in os.listdir(cell_path+cell+'\\skeletons'):\n",
    "            if item[-3]=='p' and item[-2]=='n' and item[-1]=='g':\n",
    "                os.remove(cell_path+cell+'\\skeletons'+'/'+item)\n",
    "        time = time[0]\n",
    "        time_list.append(int(time))\n",
    "        im_path = cell_path + cell + '\\masks'\n",
    "        #create skeletons; save masks, skeletons, and masks with skeletons as lists, save skeletons and skeletons with masks as images\n",
    "        for mask_name in os.listdir(im_path):\n",
    "            mask=im.imread(im_path+'/'+mask_name)[:,:,0]>0 #the cells mask (boolean array)\n",
    "            skel=skeletonize(mask) #the masks skeleton (boolean array)\n",
    "            over = invert(skel+invert(mask)) #the mask overlayed on the skeleton (boolean array)\n",
    "            maskl.append([mask,time,int(mask_name[5:6])])\n",
    "            skell.append([skel,time,int(mask_name[5:6])])\n",
    "            overl.append([over,time,int(mask_name[5:6])])\n",
    "            imwrite(cell_path + cell+'\\skeletons' + '\\skeleton_'+mask_name[5:6]+'.png',255*skel)\n",
    "            imwrite('skeleton_check'+'\\skeleton_'+str(time)+'_'+mask_name[5:6]+'.png',255*skel)\n",
    "            imwrite('skeleton_check'+'\\skeleton+mask_'+str(time)+mask_name[5:6]+'.png',255*over)\n",
    "            imwrite(cell_path + cell+'\\skeletons' + '\\skeleton+mask_'+mask_name[5:6]+'.png',255*over)"
   ]
  },
  {
   "cell_type": "code",
   "execution_count": 76,
   "id": "0f73106d",
   "metadata": {},
   "outputs": [],
   "source": [
    "#presents previous lists as data frames\n",
    "maskdf = pd.DataFrame(maskl)\n",
    "skeldf = pd.DataFrame(skell)\n",
    "overdf = pd.DataFrame(overl)"
   ]
  }
 ],
 "metadata": {
  "kernelspec": {
   "display_name": "Python 3 (ipykernel)",
   "language": "python",
   "name": "python3"
  },
  "language_info": {
   "codemirror_mode": {
    "name": "ipython",
    "version": 3
   },
   "file_extension": ".py",
   "mimetype": "text/x-python",
   "name": "python",
   "nbconvert_exporter": "python",
   "pygments_lexer": "ipython3",
   "version": "3.9.6"
  }
 },
 "nbformat": 4,
 "nbformat_minor": 5
}
