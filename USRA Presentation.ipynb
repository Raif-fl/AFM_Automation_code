{
 "cells": [
  {
   "cell_type": "code",
   "execution_count": 1,
   "id": "9e923581-3340-4800-bde1-8fa49b7ebc84",
   "metadata": {},
   "outputs": [],
   "source": [
    "import os, sys\n",
    "import re\n",
    "import numpy as np\n",
    "import imageio.v2 as im\n",
    "import pandas as pd\n",
    "import cv2\n",
    "from IPython.display import Image\n",
    "import matplotlib.pyplot as plt\n",
    "from cv2 import imwrite\n",
    "from IPython.core.display import HTML\n",
    "from scipy.interpolate import splprep\n",
    "from scipy.interpolate import splev\n",
    "from tools import skeleton_to_centerline\n",
    "from cellpose import utils\n",
    "from scipy.signal import find_peaks\n",
    "from scipy.signal import argrelmax\n",
    "from tools import bool_sort\n",
    "from fil_finder import FilFinder2D, Filament2D\n",
    "from fil_finder.tests.testing_utils import generate_filament_model\n",
    "from astropy.io import fits\n",
    "import astropy.units as u\n",
    "import tools \n",
    "from skimage.util import invert\n",
    "from imageio.v2 import imwrite\n",
    "import sknw\n",
    "from networkx import shortest_path\n",
    "\n",
    "cell_path = \"Individual_cells/\""
   ]
  },
  {
   "cell_type": "code",
   "execution_count": 2,
   "id": "415afebb-fad6-4061-a050-0a831aa34159",
   "metadata": {},
   "outputs": [
    {
     "name": "stderr",
     "output_type": "stream",
     "text": [
      "/home/WereSalmon/miniconda3/envs/cellpose/lib/python3.8/site-packages/fil_finder/filfinder2D.py:142: UserWarning: No beam width given. Using 0 pixels.\n",
      "  warnings.warn(\"No beam width given. Using 0 pixels.\")\n",
      "/home/WereSalmon/miniconda3/envs/cellpose/lib/python3.8/site-packages/fil_finder/filfinder2D.py:296: UserWarning: Using inputted mask. Skipping creation of anew mask.\n",
      "  warnings.warn(\"Using inputted mask. Skipping creation of a\"\n",
      "/home/WereSalmon/miniconda3/envs/cellpose/lib/python3.8/site-packages/fil_finder/filament.py:326: UserWarning: Graph pruning reached max iterations.\n",
      "  warnings.warn(\"Graph pruning reached max iterations.\")\n"
     ]
    }
   ],
   "source": [
    "all_the_cells = os.listdir(cell_path)\n",
    "\n",
    "# List of masks with associated timepoints and names\n",
    "maskl = []\n",
    "#list of skeletons (before and after branch pruning) with associated timepoints\n",
    "unpruned_skell=[]\n",
    "skell = []\n",
    "#list of outlines with associated metadata\n",
    "outlines=[]\n",
    "#list of splines with associated metadata, poles and centroids\n",
    "splines=[]\n",
    "#overwrite skeleton_check\n",
    "for cell in all_the_cells:\n",
    "    time = re.findall(r'\\d+', cell)\n",
    "    if time != []:\n",
    "        time = time[0]\n",
    "        im_path = cell_path + cell + '/masks'\n",
    "        #create skeletons; save masks, skeletons, and masks with skeletons as lists, save skeletons and skeletons with masks as images\n",
    "        for mask_name in os.listdir(im_path):\n",
    "            if mask_name[len(mask_name)-3:len(mask_name)]!='png':\n",
    "                continue\n",
    "            ID = int(mask_name[5:6])\n",
    "            time = int(time)\n",
    "            mask=im.imread(im_path+'/'+mask_name) #the cells mask (opencv image)\n",
    "            unpruned_skel, skel = tools.fskel(mask)\n",
    "            mask = mask[:,:,0]>0 #turn mask into a boolean array\n",
    "            out = utils.masks_to_outlines(mask)\n",
    "            top = np.shape(out)[0]<np.shape(out)[1]\n",
    "            outline = tools.skeleton_to_centerline(np.array(out),top)\n",
    "            outline = outline + [outline[0]]\n",
    "            tck,u=splprep(np.transpose(outline),per=1)\n",
    "            [ys,xs]=splev(u,tck)\n",
    "            long = top\n",
    "            poles,centroid = tools.explore_poles(xs,ys,long)\n",
    "            splines.append([np.transpose([xs,ys]),int(time),int(ID),poles,centroid,u])\n",
    "            outlines.append([out,time,ID,outline])\n",
    "            maskl.append([mask,time,ID])\n",
    "            unpruned_skell.append([unpruned_skel,time,int(mask_name[5:6])])"
   ]
  },
  {
   "cell_type": "markdown",
   "id": "7ad82629-fa69-4baa-b326-eb6b9afc4ecc",
   "metadata": {},
   "source": [
    "# 1. Take the skeleton and outline of the mask"
   ]
  },
  {
   "cell_type": "code",
   "execution_count": 3,
   "id": "5eb3ae15-ad9f-49fd-9ea5-de91283cfe14",
   "metadata": {},
   "outputs": [
    {
     "data": {
      "text/plain": [
       "<matplotlib.image.AxesImage at 0x7f1d17141e80>"
      ]
     },
     "execution_count": 3,
     "metadata": {},
     "output_type": "execute_result"
    },
    {
     "data": {
      "image/png": "[encoded data removed]",
      "text/plain": [
       "<Figure size 432x288 with 1 Axes>"
      ]
     },
     "metadata": {
      "needs_background": "light"
     },
     "output_type": "display_data"
    }
   ],
   "source": [
    "n = 20\n",
    "skel = np.array (unpruned_skell[n][0])\n",
    "outline = np.array(outlines[n][0])\n",
    "plt.imshow(skel + outline, cmap=plt.cm.gray)"
   ]
  },
  {
   "cell_type": "markdown",
   "id": "f90bf5ff-398c-4926-a4c4-e7d163f65478",
   "metadata": {},
   "source": [
    "# 2. Fit a spline to the outline"
   ]
  },
  {
   "cell_type": "code",
   "execution_count": 4,
   "id": "c67c5687-9242-4e99-ba13-be38664d53bc",
   "metadata": {},
   "outputs": [
    {
     "data": {
      "text/plain": [
       "[<matplotlib.lines.Line2D at 0x7f1d17079520>]"
      ]
     },
     "execution_count": 4,
     "metadata": {},
     "output_type": "execute_result"
    },
    {
     "data": {
      "image/png": "[encoded data removed]",
      "text/plain": [
       "<Figure size 432x288 with 1 Axes>"
      ]
     },
     "metadata": {
      "needs_background": "light"
     },
     "output_type": "display_data"
    }
   ],
   "source": [
    "out = np.array(outline)\n",
    "outline_periodic = skeleton_to_centerline(np.array(out),top)\n",
    "outline_periodic = outline_periodic + [outline_periodic[0]]\n",
    "tck,u=splprep(np.transpose(outline_periodic),per=1)\n",
    "[ys,xs]=splev(u,tck)\n",
    "plt.imshow(outline,cmap=plt.cm.gray)\n",
    "plt.plot(xs,ys,'r-')"
   ]
  },
  {
   "cell_type": "markdown",
   "id": "9c5d6b18-afd1-4792-a0e2-b7c09ec95d82",
   "metadata": {},
   "source": [
    "# 3. Extract the poles of the cell"
   ]
  },
  {
   "cell_type": "code",
   "execution_count": 5,
   "id": "9e26b234-4347-4a46-9487-d5c6e0ed9165",
   "metadata": {},
   "outputs": [
    {
     "data": {
      "text/plain": [
       "[<matplotlib.lines.Line2D at 0x7f1d1705f3d0>]"
      ]
     },
     "execution_count": 5,
     "metadata": {},
     "output_type": "execute_result"
    },
    {
     "data": {
      "image/png": "[encoded data removed]",
      "text/plain": [
       "<Figure size 432x288 with 1 Axes>"
      ]
     },
     "metadata": {
      "needs_background": "light"
     },
     "output_type": "display_data"
    }
   ],
   "source": [
    "r,centroid = tools.radii(xs,ys)\n",
    "plt.plot(u,r,'r-')\n",
    "plt.plot(u,xs-centroid[0],'b-')\n",
    "plt.plot(u,np.zeros(len(u)),'b--')"
   ]
  },
  {
   "cell_type": "code",
   "execution_count": 6,
   "id": "a5bd7217-a300-4e68-9c2c-0b9c46113dc8",
   "metadata": {},
   "outputs": [
    {
     "data": {
      "text/plain": [
       "[<matplotlib.lines.Line2D at 0x7f1d16fc1640>]"
      ]
     },
     "execution_count": 6,
     "metadata": {},
     "output_type": "execute_result"
    },
    {
     "data": {
      "image/png": "[encoded data removed]",
      "text/plain": [
       "<Figure size 432x288 with 1 Axes>"
      ]
     },
     "metadata": {
      "needs_background": "light"
     },
     "output_type": "display_data"
    }
   ],
   "source": [
    "[pole1,pole2],centroid=tools.explore_poles(xs,ys)\n",
    "plt.imshow(outline,cmap=plt.cm.gray)\n",
    "plt.plot(xs,ys,'r-')\n",
    "plt.plot(pole1[0],pole1[1],'b*',markersize=24)\n",
    "plt.plot(pole2[0],pole2[1],'b*',markersize=24)"
   ]
  },
  {
   "cell_type": "markdown",
   "id": "01ac9d82-b107-475e-bb2d-e374c9c4d766",
   "metadata": {},
   "source": [
    "# 4. Compare these poles with the skeleton"
   ]
  },
  {
   "cell_type": "code",
   "execution_count": 7,
   "id": "9e4d8f32-3145-4f03-83c3-e4e45f3518f0",
   "metadata": {},
   "outputs": [
    {
     "data": {
      "text/plain": [
       "[<matplotlib.lines.Line2D at 0x7f1d16fa0130>]"
      ]
     },
     "execution_count": 7,
     "metadata": {},
     "output_type": "execute_result"
    },
    {
     "data": {
      "image/png": "[encoded data removed]",
      "text/plain": [
       "<Figure size 432x288 with 1 Axes>"
      ]
     },
     "metadata": {
      "needs_background": "light"
     },
     "output_type": "display_data"
    }
   ],
   "source": [
    "plt.imshow(skel,cmap=plt.cm.gray)\n",
    "plt.plot(pole1[0],pole1[1],'b*',markersize=24)\n",
    "plt.plot(pole2[0],pole2[1],'b*',markersize=24)"
   ]
  },
  {
   "cell_type": "markdown",
   "id": "fd5329e6-adc5-450c-ae39-cfe6cb688e57",
   "metadata": {},
   "source": [
    "# 5. Choose the path with the least curvature and extend it to the poles"
   ]
  },
  {
   "cell_type": "code",
   "execution_count": 8,
   "id": "66e5cc78-fdbb-44da-8d3c-ddafdc24b9c7",
   "metadata": {},
   "outputs": [],
   "source": [
    "centerline,([xs,ys],u) = tools.prune2(skel,outline,[pole1,pole2])"
   ]
  },
  {
   "cell_type": "code",
   "execution_count": 9,
   "id": "3e436517-53a8-41d4-9c0b-9a9a61b7781c",
   "metadata": {},
   "outputs": [
    {
     "data": {
      "text/plain": [
       "[<matplotlib.lines.Line2D at 0x7f1d16e67d30>]"
      ]
     },
     "execution_count": 9,
     "metadata": {},
     "output_type": "execute_result"
    },
    {
     "data": {
      "image/png": "[encoded data removed]",
      "text/plain": [
       "<Figure size 432x288 with 1 Axes>"
      ]
     },
     "metadata": {
      "needs_background": "light"
     },
     "output_type": "display_data"
    }
   ],
   "source": [
    "plt.imshow(outline,cmap=plt.cm.gray)\n",
    "plt.plot(xs,ys,'r-')"
   ]
  },
  {
   "cell_type": "code",
   "execution_count": null,
   "id": "9b55b31d-46b8-4299-a731-7a0579b5dc5c",
   "metadata": {},
   "outputs": [],
   "source": []
  }
 ],
 "metadata": {
  "kernelspec": {
   "display_name": "Python 3 (ipykernel)",
   "language": "python",
   "name": "python3"
  },
  "language_info": {
   "codemirror_mode": {
    "name": "ipython",
    "version": 3
   },
   "file_extension": ".py",
   "mimetype": "text/x-python",
   "name": "python",
   "nbconvert_exporter": "python",
   "pygments_lexer": "ipython3",
   "version": "3.8.13"
  }
 },
 "nbformat": 4,
 "nbformat_minor": 5
}
