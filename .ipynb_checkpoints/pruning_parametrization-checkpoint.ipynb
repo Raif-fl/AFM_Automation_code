{
 "cells": [
  {
   "cell_type": "code",
   "execution_count": 27,
   "id": "a774c3f6",
   "metadata": {},
   "outputs": [],
   "source": [
    "import os, sys\n",
    "import re\n",
    "import numpy as np\n",
    "import imageio as im\n",
    "import pandas as pd\n",
    "import cv2\n",
    "from skimage.morphology import skeletonize\n",
    "from skimage.util import invert\n",
    "from IPython.display import Image\n",
    "import matplotlib.pyplot as plt\n",
    "from cv2 import imwrite\n",
    "from cv_algorithms import grassfire\n",
    "from cv_algorithms import thinning as ta\n",
    "from cv_algorithms.morphology import difference_of_gaussian\n",
    "from fil_finder import FilFinder2D\n",
    "from astropy.io import fits\n",
    "import astropy.units as u\n",
    "from tools import fskel\n",
    "from cellpose import utils\n",
    "from IPython.core.display import HTML\n",
    "from scipy.interpolate import BivariateSpline\n",
    "from scipy.interpolate import SmoothBivariateSpline as sspline\n",
    "from scipy.interpolate import LSQBivariateSpline as lspline\n",
    "from scipy.interpolate import RectBivariateSpline as rspline\n",
    "from scipy.interpolate import UnivariateSpline as uspline\n",
    "\n",
    "cell_path = \"individual_cells/\""
   ]
  },
  {
   "cell_type": "code",
   "execution_count": 6,
   "id": "1bbd265e",
   "metadata": {},
   "outputs": [],
   "source": [
    "#Helper functions for this notebook. Have not yet been added to tools\n",
    "def intersection(line1,line2,width1=3,width2=3):\n",
    "    '''\n",
    "    Find if two lines intersect, or nearly intersect\n",
    "    \n",
    "    Parameteres\n",
    "    -----------\n",
    "    line1,line2=boolean arrays with 'True' values where the line exists\n",
    "    width1,width2=amount (in pixels) the line should be dilated to see if a near intersection occurs\n",
    "    '''\n",
    "    m=np.shape(line1)[1]\n",
    "    n=np.shape(line1)[0]\n",
    "    d=m//2\n",
    "    l_check = np.sum(line1[0:n,0:d]+line2[0:n,0:d]==2)>0\n",
    "    r_check = np.sum(line1[0:n,d:m-1]+line2[0:n,d:m-1]==2)>0\n",
    "    if l_check and r_check:\n",
    "        return True\n",
    "    else:\n",
    "        kernel1 = cv2.getStructuringElement(cv2.MORPH_RECT,(width1,width1))\n",
    "        kernel2 = cv2.getStructuringElement(cv2.MORPH_RECT,(width2,width2))\n",
    "        dilated1 = cv2.dilate(line1.astype(np.uint8),kernel1,iterations=1)\n",
    "        dilated2 = cv2.dilate(line2.astype(np.uint8),kernel2,iterations=1)\n",
    "        m=np.shape(line1)[1]\n",
    "        n=np.shape(line1)[0]\n",
    "        d=m//2\n",
    "        l_check = np.sum(dilated1[0:n,0:d]+dilated2[0:n,0:d]==2)>0\n",
    "        r_check = np.sum(dilated1[0:n,d:m-1]+dilated2[0:n,d:m-1]==2)>0\n",
    "        if l_check and r_check:\n",
    "            return True\n",
    "        else:\n",
    "            return False\n",
    "def skeleton_to_centerline(skeleton):\n",
    "    '''\n",
    "    Finds an ordered list of points which trace out a skeleton with no branches by following the pixels of the centerline \n",
    "    elementwise. Starts at the point farthest left and closest to the top. Ends when there are no new points on the skeleton \n",
    "    to go to.\n",
    "    Parameters\n",
    "    ----------\n",
    "    skel = a 2d numpy boolean array representing a topological skeleton with no branches\n",
    "    '''\n",
    "    #initializing lists and starting parameters\n",
    "    centerline=[]\n",
    "    pos = bool_sort(skeleton)[0] # finds and sorts all points where the skeleton exists. Selects leftest as initial position\n",
    "    centerline.append(pos) #appends initial position to the centerline\n",
    "    skeleton[pos[0],pos[1]]=False #erases the previous positon\n",
    "    local = make_local(skeleton,pos)\n",
    "    while np.any(local): #checks if there are any new positions to go to\n",
    "        pos = pos+bool_sort(local)[0]-np.array([1,1]) #updates position\n",
    "        centerline.append(pos) #adds position to centerline\n",
    "        skeleton[pos[0],pos[1]]=False #erases previous position\n",
    "        local = make_local(skeleton,pos) #updates the local minor for the new position\n",
    "    return centerline\n",
    "def make_local(matrix,pos):\n",
    "    '''\n",
    "    Extracts the 3x3 array of values around a position in an existing array. If this is not possible (if the position \n",
    "    is along an edge), completes the array with rows/columns of 'False' values\n",
    "    Paramters\n",
    "    ---------\n",
    "    matrix = a 2d numpy array\n",
    "    pos = a numpy array or list, indicating a position in array\n",
    "    '''\n",
    "    N = np.shape(matrix)[0]+1\n",
    "    M = np.shape(matrix)[1]+1\n",
    "    n1 = max(0,pos[0]-1)\n",
    "    n2 = min(N,pos[0]+2)\n",
    "    m1 = max(0,pos[1]-1)\n",
    "    m2 = min(M,pos[1]+2)\n",
    "    if n1 == pos[0]-1 and n2 != N and m1==pos[1]-1 and m2!=M:\n",
    "        return matrix[n1:n2,m1:m2]\n",
    "    elif n1 == 0:\n",
    "        if m1 == 0:\n",
    "            return np.hstack((np.array([[False],[False],[False]]),np.vstack((np.array([False,False]), matrix[n1:n2,m1:m2]))))\n",
    "        elif m2 == M:\n",
    "            return np.hstack((np.vstack((np.array([False,False]), matrix[n1:n2,m1:m2])),np.array([[False],[False],[False]])))\n",
    "        else:\n",
    "            return np.vstack((np.array([False,False,False]), matrix[n1:n2,m1:m2]))\n",
    "    elif n2 == N:\n",
    "        if m1 == 0:\n",
    "            return np.hstack((np.array([[False],[False],[False]]),np.vstack((matrix[n1:n2,m1:m2],np.array([False,False])))))\n",
    "        elif m2==M:\n",
    "            return np.hstack((np.vstack((matrix[n1:n2,m1:m2],np.array([False,False]))),np.array([[False],[False],[False]])))\n",
    "        else:\n",
    "            return np.vstack((matrix[n1:n2,m1:m2],np.array([False,False,False])))\n",
    "    elif m1==0:\n",
    "        return np.hstack((np.array([[False],[False],[False]]),matrix[n1:n2,m1:m2]))\n",
    "    elif m2 ==M:\n",
    "        return np.hstack((matrix[n1:n2,m1:m2],np.array([[False],[False],[False]])))\n",
    "def bool_sort(array):\n",
    "    '''\n",
    "    Sort the \"True\" values in a boolean array, starting from left to right, then top to bottom\n",
    "    Parameters\n",
    "    ---------\n",
    "    array = a boolean array to be sorted\n",
    "    '''\n",
    "    output = np.transpose(np.array(list(np.where(array))))\n",
    "    output = output[output[:,1].argsort()]\n",
    "    return output"
   ]
  },
  {
   "cell_type": "code",
   "execution_count": 7,
   "id": "21dda28f",
   "metadata": {},
   "outputs": [],
   "source": [
    "all_the_cells = os.listdir(cell_path)\n",
    "\n",
    "#a list of outlines of cell masks with timepoints and ids\n",
    "outl = []\n",
    "# List of masks with associated timepoints and names\n",
    "maskl = []\n",
    "#list of pruned skeletons with associated timepoints\n",
    "skell = []\n",
    "#list of centerlines extracted from extracted from skeletons, with associated timepoints\n",
    "centerl=[]\n",
    "\n",
    "for cell in all_the_cells:\n",
    "    time = re.findall(r'\\d+', cell)\n",
    "    if time != []:\n",
    "        time = time[0]\n",
    "        im_path = cell_path + cell\n",
    "        for mask_name in os.listdir(im_path + '\\masks'):\n",
    "            mask=im.imread(im_path + '\\masks'+'/'+mask_name)[:,:,0]>0 #retrive the cells mask (boolean array)\n",
    "            skel = im.imread(im_path + '\\skeletons' + '\\pruned_' + mask_name[5:6] +'.png')>0\n",
    "            out = utils.masks_to_outlines(mask) #create the cells outline (boolean array)\n",
    "            inter = out + skel ==2 #find the intersection of the outline as a boolean array\n",
    "            outl.append([out,int(time),int(mask_name[5:6])])\n",
    "            width = max(np.shape(out))//30\n",
    "            if intersection(out,skel,width,width): #if the intersection has more than two elements, include the skeleton as a complete skeleton\n",
    "                skell.append([skel,int(time),int(mask_name[5:6]),True])\n",
    "            else:\n",
    "                skell.append([skel,int(time),int(mask_name[5:6]),False])\n",
    "\n",
    "for skel in skell:\n",
    "    [skel0,time,ID,complete] = skel\n",
    "    skel0 = np.array(skel0)\n",
    "    time = int(time)\n",
    "    ID = int(ID)\n",
    "    complete = bool(complete)\n",
    "    center = skeleton_to_centerline(skel0)\n",
    "    centerl.append([center,time,ID,complete])"
   ]
  },
  {
   "cell_type": "code",
   "execution_count": 41,
   "id": "cb4a5a50",
   "metadata": {},
   "outputs": [
    {
     "data": {
      "text/plain": [
       "array([0., 0., 0., 0., 0., 0., 0., 0., 0., 0., 0., 0., 0., 0., 0., 0.])"
      ]
     },
     "execution_count": 41,
     "metadata": {},
     "output_type": "execute_result"
    }
   ],
   "source": [
    "[x,y]=np.transpose(centerl[0][0])\n",
    "z = np.zeros(len(x))\n",
    "sspline(x,y,z).get_coeffs()"
   ]
  },
  {
   "cell_type": "code",
   "execution_count": null,
   "id": "3c3eb6b5",
   "metadata": {},
   "outputs": [],
   "source": []
  },
  {
   "cell_type": "code",
   "execution_count": 8,
   "id": "49288804",
   "metadata": {
    "scrolled": false
   },
   "outputs": [
    {
     "data": {
      "text/plain": [
       "<matplotlib.image.AxesImage at 0x16d4b390820>"
      ]
     },
     "execution_count": 8,
     "metadata": {},
     "output_type": "execute_result"
    },
    {
     "data": {
      "image/png": "[encoded data removed]",
      "text/plain": [
       "<Figure size 600x317.91 with 1 Axes>"
      ]
     },
     "metadata": {
      "needs_background": "light"
     },
     "output_type": "display_data"
    }
   ],
   "source": [
    "n = 33\n",
    "skel = skell[n][0]\n",
    "centerline = centerl[n][0]\n",
    "(ylen,xlen)=np.shape(skel)\n",
    "plt.figure(figsize=(2,2*ylen/xlen))\n",
    "[y,x]=np.transpose(centerline)\n",
    "y = y\n",
    "plt.plot(x,y,'r--',markersize=1)\n",
    "plt.imshow(skel,cmap=plt.cm.gray)"
   ]
  },
  {
   "cell_type": "code",
   "execution_count": 11,
   "id": "28447e09",
   "metadata": {},
   "outputs": [
    {
     "data": {
      "text/plain": [
       "3"
      ]
     },
     "execution_count": 11,
     "metadata": {},
     "output_type": "execute_result"
    }
   ],
   "source": [
    "skell[n][2]"
   ]
  },
  {
   "cell_type": "code",
   "execution_count": null,
   "id": "278169ed",
   "metadata": {},
   "outputs": [],
   "source": [
    "plt.imshow(skel,cmap=plt.cm.gray)"
   ]
  },
  {
   "cell_type": "code",
   "execution_count": null,
   "id": "8086fc5f",
   "metadata": {},
   "outputs": [],
   "source": [
    "array = np.array([[False,True],[True,False]])\n",
    "array2 = np.array([[1,2],[3,4]])"
   ]
  },
  {
   "cell_type": "code",
   "execution_count": null,
   "id": "e388c7aa",
   "metadata": {},
   "outputs": [],
   "source": [
    "pos=bool_sort(array)[0]"
   ]
  },
  {
   "cell_type": "code",
   "execution_count": null,
   "id": "f444ecf6",
   "metadata": {},
   "outputs": [],
   "source": [
    "array2[pos[0],pos[1]]"
   ]
  },
  {
   "cell_type": "code",
   "execution_count": null,
   "id": "1d223656",
   "metadata": {
    "scrolled": true
   },
   "outputs": [],
   "source": [
    "skel=complete_skell[15][0]\n",
    "centerpoints = bool_sort(skel)\n",
    "centerline=[]\n",
    "pos=centerpoints[0]\n",
    "centerline.append(pos)\n",
    "skel[pos[0],pos[1]]=False\n",
    "local = make_local(skel,pos)\n",
    "while np.any(local):\n",
    "    pos = pos+bool_sort(local)[0]-np.array([1,1])\n",
    "    centerline.append(pos)\n",
    "    n1 = max(0,pos[0]-1)\n",
    "    n2 = min(N,pos[0]+2)\n",
    "    m1 = max(0,pos[1]-1)\n",
    "    m2 = min(M,pos[1]+2)\n",
    "    skel[pos[0],pos[1]]=False\n",
    "    local = make_local(skel,pos)\n",
    "plt.imshow(skel,cmap=plt.cm.gray)"
   ]
  },
  {
   "cell_type": "code",
   "execution_count": null,
   "id": "d24d609d",
   "metadata": {},
   "outputs": [],
   "source": [
    "def make_local(matrix,pos):\n",
    "    '''\n",
    "    Extracts the 3x3 array of values around a position in an existing array. If this is not possible (if the position \n",
    "    is along an edge), completes the array with rows/columns of 'False' values\n",
    "    Paramters\n",
    "    ---------\n",
    "    matrix = a 2d numpy array\n",
    "    pos = a numpy array or list, indicating a position in array\n",
    "    '''\n",
    "    N = np.shape(matrix)[0]+1\n",
    "    M = np.shape(matrix)[1]+1\n",
    "    n1 = max(0,pos[0]-1)\n",
    "    n2 = min(N,pos[0]+2)\n",
    "    m1 = max(0,pos[1]-1)\n",
    "    m2 = min(M,pos[1]+2)\n",
    "    if n1 == pos[0]-1 and n2 != N and m1==pos[1]-1 and m2!=M:\n",
    "        local = matrix[n1:n2,m1:m2]\n",
    "    elif n1 == 0:\n",
    "        if m1 == 0:\n",
    "            local = np.hstack((np.array([[False],[False],[False]]),np.vstack((np.array([False,False]), matrix[n1:n2,m1:m2]))))\n",
    "        elif m2 == M:\n",
    "            local = np.hstack((np.vstack((np.array([False,False]), matrix[n1:n2,m1:m2])),np.array([[False],[False],[False]])))\n",
    "        else:\n",
    "            local = np.vstack((np.array([False,False,False]), matrix[n1:n2,m1:m2]))\n",
    "    elif n2 == N:\n",
    "        if m1 == 0:\n",
    "            local = np.hstack((np.array([[False],[False],[False]]),np.vstack((matrix[n1:n2,m1:m2],np.array([False,False])))))\n",
    "        elif m2==M:\n",
    "            local = np.hstack((np.vstack((matrix[n1:n2,m1:m2],np.array([False,False]))),np.array([[False],[False],[False]])))\n",
    "        else:\n",
    "            local=np.vstack((matrix[n1:n2,m1:m2],np.array([False,False,False])))\n",
    "    elif m1==0:\n",
    "        local = np.hstack((np.array([[False],[False],[False]]),matrix[n1:n2,m1:m2]))\n",
    "    elif m2 ==M:\n",
    "        local = np.hstack((matrix[n1:n2,m1:m2],np.array([[False],[False],[False]])))\n",
    "    return local\n",
    "def bool_sort(array):\n",
    "    '''\n",
    "    Sort the \"True\" values in a boolean array, starting from the top to bottom, then left to right\n",
    "    Parameters\n",
    "    ---------\n",
    "    array = a boolean array to be sorted\n",
    "    '''\n",
    "    output = np.transpose(np.array(list(np.where(array))))\n",
    "    output = output[output[:,1].argsort()]\n",
    "    return output"
   ]
  },
  {
   "cell_type": "code",
   "execution_count": null,
   "id": "0855bb19",
   "metadata": {},
   "outputs": [],
   "source": [
    "skel=complete_skell[63][0]\n",
    "centerpoints = bool_sort(skel)\n",
    "centerline=[]\n",
    "#pos=centerpoints[0]\n",
    "pos=np.array([78,0])\n",
    "centerline.append(pos)\n",
    "n1 = max(0,pos[0]-1)\n",
    "n2 = min(np.shape(skel)[0]+1,pos[0]+2)\n",
    "m1 = max(0,pos[1]-1)\n",
    "m2 = min(np.shape(skel)[1]+1,pos[1]+2)\n",
    "skel[pos[0],pos[1]]=False\n",
    "local = skel[n1:n2,m1:m2]"
   ]
  },
  {
   "cell_type": "code",
   "execution_count": null,
   "id": "6ba5f06a",
   "metadata": {},
   "outputs": [],
   "source": [
    "local"
   ]
  },
  {
   "cell_type": "code",
   "execution_count": null,
   "id": "51089155",
   "metadata": {},
   "outputs": [],
   "source": [
    "plt.imshow(skel,cmap=plt.cm.gray)"
   ]
  },
  {
   "cell_type": "code",
   "execution_count": null,
   "id": "78c1e3f9",
   "metadata": {},
   "outputs": [],
   "source": [
    "skel=complete_skell[63][0]\n",
    "centerpoints = bool_sort(skel)\n",
    "centerline=[]\n",
    "pos=centerpoints[0]\n",
    "centerline.append(pos)\n",
    "n1 = max(0,pos[0]-1)\n",
    "n2 = min(np.shape(skel)[0]+1,pos[0]+2)\n",
    "m1 = max(0,pos[1]-1)\n",
    "m2 = min(np.shape(skel)[1]+1,pos[1]+2)\n",
    "skel[pos[0],pos[1]]=False\n",
    "local = skel[n1:n2,m1:m2]"
   ]
  },
  {
   "cell_type": "code",
   "execution_count": null,
   "id": "8ca86fab",
   "metadata": {},
   "outputs": [],
   "source": [
    "local"
   ]
  },
  {
   "cell_type": "code",
   "execution_count": null,
   "id": "31cf6517",
   "metadata": {
    "scrolled": true
   },
   "outputs": [],
   "source": [
    "pos = pos+bool_sort(local)[0]-np.array([1,1])\n",
    "n1 = max(0,pos[0]-1)\n",
    "n2 = min(np.shape(skel)[0]+1,pos[0]+2)\n",
    "m1 = max(0,pos[1]-1)\n",
    "m2 = min(np.shape(skel)[1]+1,pos[1]+2)\n",
    "skel[pos[0],pos[1]]=False\n",
    "local = skel[n1:n2,m1:m2]\n",
    "centerline.append(pos)"
   ]
  },
  {
   "cell_type": "code",
   "execution_count": null,
   "id": "278db8ba",
   "metadata": {
    "scrolled": true
   },
   "outputs": [],
   "source": [
    "local"
   ]
  },
  {
   "cell_type": "code",
   "execution_count": null,
   "id": "7460a036",
   "metadata": {},
   "outputs": [],
   "source": [
    "skel =complete_skell[13][0]\n",
    "plt.imshow(skel,cmap=plt.cm.gray)"
   ]
  },
  {
   "cell_type": "code",
   "execution_count": null,
   "id": "13ff470d",
   "metadata": {},
   "outputs": [],
   "source": [
    "skel=complete_skell[0][0]\n",
    "centerpoints = bool_sort(skel)\n",
    "centerline=[]\n",
    "pos=centerpoints[0]\n",
    "n1 = max(0,pos[0]-1)\n",
    "n2 = min(np.shape(skel)[0]+1,pos[0]+2)\n",
    "m1 = max(0,pos[1]-1)\n",
    "m2 = min(np.shape(skel)[1]+1,pos[1]+2)\n",
    "skel[pos[0],pos[1]]=False\n",
    "local = skel[n1:n2,m1:m2]\n",
    "centerline.append(pos)"
   ]
  },
  {
   "cell_type": "code",
   "execution_count": null,
   "id": "3c079a08",
   "metadata": {},
   "outputs": [],
   "source": [
    "plt.imshow(skel,cmap=plt.cm.gray)"
   ]
  },
  {
   "cell_type": "code",
   "execution_count": null,
   "id": "d01cdf32",
   "metadata": {},
   "outputs": [],
   "source": [
    "pos = pos + bool_sort(local)[0]-np.array([1,0])"
   ]
  },
  {
   "cell_type": "code",
   "execution_count": null,
   "id": "9c11737e",
   "metadata": {},
   "outputs": [],
   "source": [
    "skel=complete_skell[0][0]\n",
    "centerpoints = bool_sort(skel)\n",
    "centerline=[]\n",
    "n1 = max(0,pos[0]-1)\n",
    "n2 = min(np.shape(skel)[0]+1,pos[0]+2)\n",
    "m1 = max(0,pos[1]-1)\n",
    "m2 = min(np.shape(skel)[1]+1,pos[1]+2)\n",
    "#skel[pos[0],pos[1]]=False\n",
    "local = skel[n1:n2,m1:m2]\n",
    "centerline.append(pos)"
   ]
  },
  {
   "cell_type": "code",
   "execution_count": null,
   "id": "5b13f547",
   "metadata": {},
   "outputs": [],
   "source": [
    "local"
   ]
  },
  {
   "cell_type": "code",
   "execution_count": null,
   "id": "9e79d006",
   "metadata": {},
   "outputs": [],
   "source": [
    "local"
   ]
  },
  {
   "cell_type": "code",
   "execution_count": null,
   "id": "d5337fe4",
   "metadata": {},
   "outputs": [],
   "source": [
    "plt.imshow(skel,cmap=plt.cm.gray)"
   ]
  },
  {
   "cell_type": "code",
   "execution_count": null,
   "id": "356fad6f",
   "metadata": {
    "scrolled": false
   },
   "outputs": [],
   "source": [
    "(ylen,xlen)=np.shape(skel)\n",
    "plt.figure(figsize=(2,2*ylen/xlen))\n",
    "[y,x]=np.transpose(centerline)\n",
    "y = ylen-y\n",
    "plt.plot(x,y)\n",
    "plt.plot(xi,ylen-yi,'r.')"
   ]
  },
  {
   "cell_type": "code",
   "execution_count": null,
   "id": "56a05f77",
   "metadata": {},
   "outputs": [],
   "source": [
    "pruned = []\n",
    "unpruned = []\n",
    "times = []\n",
    "idl = []\n",
    "for skel in complete_skell:\n",
    "    pruned.append('algorithm_comparison'+'/'+skel[1]+'_'+str(skel[2])+'_pruned.png')\n",
    "    unpruned.append('algorithm_comparison'+'/'+skel[1]+'_'+str(skel[2])+'_unpruned.png')\n",
    "    times.append(skel[1])\n",
    "    idl.append(skel[2])\n",
    "skeldf=pd.DataFrame()\n",
    "skeldf['Pruned']=pruned\n",
    "skeldf['Unpruned']=unpruned\n",
    "skeldf['Time'] = times\n",
    "skeldf['ID'] = idl\n",
    "def skel_formatter(path):\n",
    "    return '<img src=\"'+ path + '\" width=\"256\" >'"
   ]
  },
  {
   "cell_type": "code",
   "execution_count": null,
   "id": "0f7ad0f4",
   "metadata": {
    "scrolled": false
   },
   "outputs": [],
   "source": [
    "imagehtml = skeldf.to_html(escape=False,formatters=dict(Pruned=skel_formatter,Unpruned=skel_formatter))\n",
    "HTML (imagehtml)"
   ]
  },
  {
   "cell_type": "code",
   "execution_count": null,
   "id": "c860e156",
   "metadata": {},
   "outputs": [],
   "source": [
    "width=max(np.shape(outl[0][0]))//20\n",
    "intersection(outl[0][0],skell[0][0],width,width)"
   ]
  },
  {
   "cell_type": "code",
   "execution_count": null,
   "id": "2c257b0a",
   "metadata": {
    "scrolled": false
   },
   "outputs": [],
   "source": [
    "n=72\n",
    "line1 = outl[n][0]\n",
    "line2 = skell[n][0]\n",
    "width = max(np.shape(line1))//50\n",
    "kernel = cv2.getStructuringElement(cv2.MORPH_RECT,(width,width))\n",
    "dilate1 = cv2.dilate(line1.astype(np.uint8),kernel,iterations=1)\n",
    "dilate2 = cv2.dilate(line2.astype(np.uint8),kernel,iterations=1)\n",
    "plt.imshow(dilate1+dilate2,cmap=plt.cm.gray)\n",
    "intersection(line1,line2,width)"
   ]
  },
  {
   "cell_type": "code",
   "execution_count": null,
   "id": "5f07cd58",
   "metadata": {},
   "outputs": [],
   "source": []
  }
 ],
 "metadata": {
  "kernelspec": {
   "display_name": "Python 3 (ipykernel)",
   "language": "python",
   "name": "python3"
  },
  "language_info": {
   "codemirror_mode": {
    "name": "ipython",
    "version": 3
   },
   "file_extension": ".py",
   "mimetype": "text/x-python",
   "name": "python",
   "nbconvert_exporter": "python",
   "pygments_lexer": "ipython3",
   "version": "3.9.6"
  }
 },
 "nbformat": 4,
 "nbformat_minor": 5
}
