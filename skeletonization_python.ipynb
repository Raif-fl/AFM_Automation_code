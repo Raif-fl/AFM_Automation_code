{
 "cells": [
  {
   "cell_type": "code",
   "execution_count": 25,
   "id": "f809ce36",
   "metadata": {},
   "outputs": [],
   "source": [
    "import os, sys\n",
    "import re\n",
    "import numpy as np\n",
    "import imageio as im\n",
    "from skimage.morphology import skeletonize\n",
    "from skimage import data\n",
    "from IPython.display import Image\n",
    "import matplotlib.pyplot as plt\n",
    "from cv2 import imwrite\n",
    "cell_path = \"individual_cells/\""
   ]
  },
  {
   "cell_type": "code",
   "execution_count": 87,
   "id": "d5a3ea01",
   "metadata": {},
   "outputs": [],
   "source": [
    "all_the_cells = os.listdir(cell_path)\n",
    "\n",
    "# Create a list that records the timepoints for every mask. \n",
    "time_list = []\n",
    "# List of masks with associated timepoints\n",
    "maskl = []\n",
    "#list of skeletons with associated timepoints\n",
    "skell = []\n",
    "for cell in all_the_cells:\n",
    "    time = re.findall(r'\\d+', cell)\n",
    "    if time != []:\n",
    "        time = time[0]\n",
    "        time_list.append(int(time))\n",
    "        im_path = cell_path + cell + '\\masks'\n",
    "        for mask_name in os.listdir(im_path):\n",
    "            mask=im.imread(im_path+'/'+mask_name)[:,:,0]>0\n",
    "            maskl.append([mask,time])\n",
    "            skell.append([skeletonize(mask),time])\n",
    "            imwrite(cell_path + cell+'\\skeletons' + '\\skeleton_'+mask_name[5:6]+'.png',255*skell[-1][0])\n",
    "            imwrite('skeleton_check'+'\\skeleton_'+str(time)+'_'+mask_name[5:6]+'.png',255*skell[-1][0])"
   ]
  },
  {
   "cell_type": "code",
   "execution_count": 86,
   "id": "ca7f76e8",
   "metadata": {},
   "outputs": [],
   "source": [
    "#deletes all skeleton '.png' files from 'Individual_cells'\n",
    "for cell in all_the_cells:\n",
    "    if cell[-1]!='m':\n",
    "        for item in os.listdir(cell_path + cell):\n",
    "            if item[-1]=='g':\n",
    "                os.remove(cell_path + cell + '/'+item)\n",
    "            for item in os.listdir(cell_path + cell+'\\skeletons'):\n",
    "                if item[0]=='s':\n",
    "                    os.remove(cell_path + cell + '\\skeletons'+'/'+item)"
   ]
  },
  {
   "cell_type": "code",
   "execution_count": null,
   "id": "349b8b54",
   "metadata": {},
   "outputs": [],
   "source": []
  }
 ],
 "metadata": {
  "kernelspec": {
   "display_name": "Python 3 (ipykernel)",
   "language": "python",
   "name": "python3"
  },
  "language_info": {
   "codemirror_mode": {
    "name": "ipython",
    "version": 3
   },
   "file_extension": ".py",
   "mimetype": "text/x-python",
   "name": "python",
   "nbconvert_exporter": "python",
   "pygments_lexer": "ipython3",
   "version": "3.9.6"
  }
 },
 "nbformat": 4,
 "nbformat_minor": 5
}
