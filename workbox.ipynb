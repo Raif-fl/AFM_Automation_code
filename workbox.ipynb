{
 "cells": [
  {
   "cell_type": "markdown",
   "id": "601ae282-4bf1-4c9b-a543-36758081f18a",
   "metadata": {},
   "source": [
    "# Notes too self:\n",
    "I have got to put more of yhis in functions cause this is so busy!\n",
    "20\n",
    "I want to run this again on the wonderful 20-60 first images found in the other dataset! I think that will give a much prettier image "
   ]
  },
  {
   "cell_type": "code",
   "execution_count": 7,
   "id": "fe470bb0-e417-4378-a16f-57e4162ec408",
   "metadata": {},
   "outputs": [],
   "source": [
    "import numpy as np\n",
    "import time, os, sys\n",
    "from urllib.parse import urlparse\n",
    "import matplotlib.pyplot as plt\n",
    "import matplotlib as mpl\n",
    "%matplotlib inline\n",
    "mpl.rcParams['figure.dpi'] = 300\n",
    "from PIL import Image\n",
    "import cv2\n",
    "from matplotlib.colors import LogNorm\n",
    "import pandas as pd\n",
    "import imutils\n",
    "from cellpose import utils, io\n",
    "from scipy.spatial import distance as dist\n",
    "from imutils import perspective\n",
    "import re\n",
    "import tools\n",
    "from radfil import radfil_class, styles\n",
    "from astropy import units as u\n",
    "import imageio\n",
    "import skimage.morphology as sk_m\n",
    "from fil_finder import FilFinder2D\n",
    "from shapely.geometry import Polygon\n",
    "\n",
    "segments_path = \"/home/keeganfl/Desktop/Math_612_project/05-10-2015/cellpose_height/\""
   ]
  },
  {
   "cell_type": "markdown",
   "id": "3a82dcae-0b6e-489f-9512-b461583573b0",
   "metadata": {},
   "source": [
    "# Step 1\n",
    "Loading up a list of segmentation (.npy) files to be run through the process. These files are then sorted by timepoint."
   ]
  },
  {
   "cell_type": "code",
   "execution_count": 8,
   "id": "92d58347-daa4-402b-a114-9237fc4ae3f4",
   "metadata": {},
   "outputs": [],
   "source": [
    "# Load files\n",
    "files = os.listdir(segments_path)\n",
    "for fichier in files[:]: \n",
    "    if not(fichier.endswith(\".npy\")):\n",
    "        files.remove(fichier)\n",
    "\n",
    "# Sort files by timepoint\n",
    "files.sort(key = tools.natural_keys)"
   ]
  },
  {
   "cell_type": "markdown",
   "id": "0095cead-bc49-4de3-a482-25d1d318a6c2",
   "metadata": {},
   "source": [
    "# Step 2\n",
    "Load up the data and specifically save the full image and outlines for each cell. "
   ]
  },
  {
   "cell_type": "code",
   "execution_count": 9,
   "id": "579a4ee8-b5c7-4095-98d5-a88a70fa7c34",
   "metadata": {
    "tags": []
   },
   "outputs": [],
   "source": [
    "# Initialize lists\n",
    "outl_list = []\n",
    "img_list = []\n",
    "\n",
    "# Fill lists with img and outline data from each file\n",
    "for file in files[8:]:\n",
    "    dat = np.load(segments_path + file, allow_pickle=True).item()\n",
    "    # Create a list that contains each outline.\n",
    "    outl = utils.outlines_list(dat['masks'])\n",
    "    outl_list.append(outl)\n",
    "    # Create a list that contains each image file. \n",
    "    image = dat[\"img\"]\n",
    "    img_list.append(image)"
   ]
  },
  {
   "cell_type": "markdown",
   "id": "cdbd7779-fcd3-4ad5-94fc-8cdf5dcb2bca",
   "metadata": {},
   "source": [
    "# Step 3\n",
    "Create bounding boxes for each outline in each image. "
   ]
  },
  {
   "cell_type": "code",
   "execution_count": 10,
   "id": "b3e8ae5a-156f-4273-8464-e7e888aaf00c",
   "metadata": {
    "tags": []
   },
   "outputs": [],
   "source": [
    "boxes_list = []\n",
    "for outl in outl_list:\n",
    "    boxes = tools.get_boxes(outl)\n",
    "    boxes_list.append(boxes)"
   ]
  },
  {
   "cell_type": "markdown",
   "id": "c5eb4f8e-c605-46b7-ae0d-3fa414e04981",
   "metadata": {},
   "source": [
    "# Step 4\n",
    "Perform cell tracking and save the ID, outline, and centers through time as lists. The reason we are saving the outlines as a list again is because these outlines will be aligned with the ID list, so we will always know which outline belongs to which specific cell over time."
   ]
  },
  {
   "cell_type": "code",
   "execution_count": 11,
   "id": "e4719dfd-319b-4835-a28d-1a83629742d7",
   "metadata": {},
   "outputs": [],
   "source": [
    "# import the necessary packages\n",
    "from collections import OrderedDict\n",
    "class CentroidTracker():\n",
    "    def __init__(self, maxDisappeared=1):\n",
    "        # initialize the next unique object ID along with two ordered\n",
    "        # dictionaries used to keep track of mapping a given object\n",
    "        # ID to its centroid and number of consecutive frames it has\n",
    "        # been marked as \"disappeared\", respectively\n",
    "        self.nextObjectID = 0\n",
    "        self.objects = OrderedDict()\n",
    "        self.disappeared = OrderedDict()\n",
    "        # store the number of maximum consecutive frames a given\n",
    "        # object is allowed to be marked as \"disappeared\" until we\n",
    "        # need to deregister the object from tracking\n",
    "        self.maxDisappeared = maxDisappeared\n",
    "    def register(self, rects, centroid, outline):\n",
    "        # when registering an object we use the next available object\n",
    "        # ID to store the centroid\n",
    "        self.objects[self.nextObjectID] = (rects, centroid, outline)\n",
    "        self.disappeared[self.nextObjectID] = 0\n",
    "        self.nextObjectID += 1\n",
    "    def deregister(self, objectID):\n",
    "        # to deregister an object ID we delete the object ID from\n",
    "        # both of our respective dictionaries\n",
    "        del self.objects[objectID]\n",
    "        del self.disappeared[objectID]\n",
    "    def update(self, rects, outls):\n",
    "        # initialize an array of input centroids for the current frame\n",
    "        inputCentroids = np.zeros((len(rects), 2), dtype=\"int\")\n",
    "        # loop over the bounding box rectangles\n",
    "        for (i, box) in enumerate(rects):\n",
    "            # use the bounding box coordinates to derive the centroid\n",
    "            cX = int(np.average(box[:, 0]))\n",
    "            cY = int(np.average(box[:, 1]))\n",
    "            inputCentroids[i] = (cX, cY)\n",
    "        # if we are currently not tracking any objects take the input\n",
    "        # centroids and register each of them\n",
    "        if len(self.objects) == 0:\n",
    "            for r, i, o in zip(rects, range(0, len(inputCentroids)), outls):\n",
    "                self.register(r, inputCentroids[i], o)\n",
    "        # otherwise, are are currently tracking objects so we need to\n",
    "        # try to match the input centroids to existing object\n",
    "        # centroids\n",
    "        else:\n",
    "            # grab the set of object IDs and corresponding centroids\n",
    "            objectIDs = list(self.objects.keys())\n",
    "            objectinfo = list(self.objects.values())\n",
    "            objectCentroids = []\n",
    "            for info in objectinfo:\n",
    "                objectCentroids.append(info[1])\n",
    "            # compute the distance between each pair of object\n",
    "            # centroids and input centroids, respectively -- our\n",
    "            # goal will be to match an input centroid to an existing\n",
    "            # object centroid\n",
    "            D = dist.cdist(np.array(objectCentroids), inputCentroids)\n",
    "            # in order to perform this matching we must (1) find the\n",
    "            # smallest value in each row and then (2) sort the row\n",
    "            # indexes based on their minimum values so that the row\n",
    "            # with the smallest value is at the *front* of the index\n",
    "            # list\n",
    "            rows = D.min(axis=1).argsort()\n",
    "            # next, we perform a similar process on the columns by\n",
    "            # finding the smallest value in each column and then\n",
    "            # sorting using the previously computed row index list\n",
    "            cols = D.argmin(axis=1)[rows]\n",
    "            # in order to determine if we need to update, register,\n",
    "            # or deregister an object we need to keep track of which\n",
    "            # of the rows and column indexes we have already examined\n",
    "            usedRows = set()\n",
    "            usedCols = set()\n",
    "            # loop over the combination of the (row, column) index\n",
    "            # tuples\n",
    "            for (row, col) in zip(rows, cols):\n",
    "                # if we have already examined either the row or\n",
    "                # column value before, ignore it\n",
    "                # val\n",
    "                if row in usedRows or col in usedCols:\n",
    "                    continue\n",
    "                # otherwise, grab the object ID for the current row,\n",
    "                # set its new centroid, and reset the disappeared\n",
    "                # counter\n",
    "                objectID = objectIDs[row]\n",
    "                self.objects[objectID] = (rects[col], inputCentroids[col], outls[col])\n",
    "                self.disappeared[objectID] = 0\n",
    "                # indicate that we have examined each of the row and\n",
    "                # column indexes, respectively\n",
    "                usedRows.add(row)\n",
    "                usedCols.add(col)\n",
    "            # compute both the row and column index we have NOT yet\n",
    "            # examined\n",
    "            unusedRows = set(range(0, D.shape[0])).difference(usedRows)\n",
    "            unusedCols = set(range(0, D.shape[1])).difference(usedCols)\n",
    "            # in the event that the number of object centroids is\n",
    "            # equal or greater than the number of input centroids\n",
    "            # we need to check and see if some of these objects have\n",
    "            # potentially disappeared\n",
    "            if D.shape[0] >= D.shape[1]:\n",
    "                # loop over the unused row indexes\n",
    "                for row in unusedRows:\n",
    "                    # grab the object ID for the corresponding row\n",
    "                    # index and increment the disappeared counter\n",
    "                    objectID = objectIDs[row]\n",
    "                    self.disappeared[objectID] += 1\n",
    "                    # check to see if the number of consecutive\n",
    "                    # frames the object has been marked \"disappeared\"\n",
    "                    # for warrants deregistering the object\n",
    "                    if self.disappeared[objectID] > self.maxDisappeared:\n",
    "                        self.deregister(objectID)\n",
    "            # otherwise, if the number of input centroids is greater\n",
    "            # than the number of existing object centroids we need to\n",
    "            # register each new input centroid as a trackable object\n",
    "            else:\n",
    "                for col in unusedCols:\n",
    "                    self.register(rects[col], inputCentroids[col], outls[col])\n",
    "        # return the set of trackable objects\n",
    "        return self.objects"
   ]
  },
  {
   "cell_type": "code",
   "execution_count": 12,
   "id": "6323c841-3cc8-41ff-85d4-08077de81907",
   "metadata": {
    "tags": []
   },
   "outputs": [],
   "source": [
    "# initialize our centroid tracker and frame dimensions\n",
    "ct = tools.CentroidTracker()\n",
    "(H, W) = (None, None)\n",
    "\n",
    "# Initialize a new set of lists that will contain lists of IDs, outlines, and centers for each image file. \n",
    "IDs_list = []\n",
    "outl_new_list = []\n",
    "centers_list = []\n",
    "box_img = img_list.copy()\n",
    "\n",
    "\n",
    "# loop over the outlines and boxes for each file.\n",
    "for boxes, img, outls in zip(boxes_list, box_img, outl_list):\n",
    "    # Draw an outline of each box onto the original image\n",
    "    for box in boxes:\n",
    "        (startX, startY, endX, endY) = box.astype(\"int\")\n",
    "    # update our centroid tracker using the computed set of bounding box rectangles\n",
    "    objects = ct.update(boxes, outls)\n",
    "    # Initialize a new set of lists\n",
    "    IDs = []\n",
    "    outl_new = []\n",
    "    centers = []\n",
    "    # loop over the tracked objects\n",
    "    for (objectID, info) in objects.items():\n",
    "        # draw both the ID of the object and the centroid of the\n",
    "        # object on the output frame\n",
    "        text = \"ID {}\".format(objectID)\n",
    "        # append the object ID and its associated outline and center to the lists. \n",
    "        IDs.append(objectID)\n",
    "        outl_new.append(info[1])\n",
    "        centers.append(info[0])\n",
    "    IDs_list.append(IDs)\n",
    "    outl_new_list.append(outl_new)\n",
    "    centers_list.append(centers)"
   ]
  },
  {
   "cell_type": "markdown",
   "id": "be7f72dc-7032-4db4-92f7-87dc3a1325ed",
   "metadata": {},
   "source": [
    "# Step 5\n",
    "Determining the number of pixels which overlap between the different outlines"
   ]
  },
  {
   "cell_type": "code",
   "execution_count": 13,
   "id": "ea246cd7-c7f6-450f-8a1f-682041c802cc",
   "metadata": {},
   "outputs": [],
   "source": [
    "def get_overlap(outl, boxes):\n",
    "    cell_overlaps = []\n",
    "    for out_cell, box_cell in zip(outl, boxes):\n",
    "        adj = 0\n",
    "        for out_oth, box_oth in zip(outl, boxes):\n",
    "            p1 = Polygon(box_cell)\n",
    "            p2 = Polygon(box_oth)\n",
    "            # centroid distance cuttod=ff = 150 pixels. \n",
    "            if p1.intersects(p2) == False or p1 == p2:\n",
    "                continue\n",
    "            for pixel1 in out_cell:\n",
    "                for pixel2 in out_oth:\n",
    "                    distx = np.abs(pixel1[0]-pixel2[0])\n",
    "                    disty = np.abs(pixel1[1]-pixel2[1])\n",
    "                    if distx + disty == 1:\n",
    "                        adj = adj + 1\n",
    "        cell_overlaps.append(adj)\n",
    "    return cell_overlaps "
   ]
  },
  {
   "cell_type": "code",
   "execution_count": 14,
   "id": "a1a25c9b-3cc0-4faa-adca-6f3c195fe41b",
   "metadata": {},
   "outputs": [],
   "source": [
    "# about 20 seconds, twice as fast!!! Will probably have even greater gains with higher cell density. \n",
    "overl_list = []\n",
    "for outl, boxes in zip(outl_list, boxes_list):\n",
    "    overl_list.append(get_overlap(outl, boxes))"
   ]
  },
  {
   "cell_type": "code",
   "execution_count": 88,
   "id": "241ccc8e-b778-4899-92bd-933371a84c35",
   "metadata": {},
   "outputs": [],
   "source": [
    "def radobj_maker(path, IDs_list, time_list):\n",
    "    '''\n",
    "    This iterative function loads up a set of images, masks and skeletons for individual cells which were created \n",
    "    from a set of parent images taken at different timepoints. For each of these individual cells, it then uses\n",
    "    the radfil package to estimate the radial profile of the cell which is then saved in a list of radfil objects. \n",
    "    '''\n",
    "    radobj_list = []\n",
    "    for ID_set, time in zip(IDs_list, time_list):\n",
    "        radobj_set = []\n",
    "        print(time)\n",
    "        for idx in (ID_set):\n",
    "            # Load the image and convert to grayscale. \n",
    "            fil_image =imageio.imread(path + str(time) + \"/cells/cell_\" + str(idx) + \".png\")\n",
    "            fil_image = cv2.cvtColor(fil_image, cv2.COLOR_BGR2GRAY)\n",
    "            \n",
    "            # Load the mask and convert to grayscale\n",
    "            fil_mask=imageio.imread(path + str(time) + \"/masks/mask_\" + str(idx) + \".png\")\n",
    "            fil_mask = cv2.cvtColor(fil_mask, cv2.COLOR_BGR2GRAY)\n",
    "            fil_mask = np.array(fil_mask, dtype=bool)\n",
    "\n",
    "            ###!!!### Replace with a call to Hasti's stuff\n",
    "            fil_spine = sk_m.skeletonize(fil_mask)\n",
    "            fil_spine = np.array(fil_spine, dtype=bool)\n",
    "            \n",
    "            # Use radfil to create a radial profil object and then append this object to a list.\n",
    "            # We will use the data stored in this object to calculate height and radial profile along the\n",
    "            # medial axis. \n",
    "            radobj=radfil_class.radfil(fil_image, mask=fil_mask, filspine=fil_spine, distance=200)\n",
    "            radobj.build_profile(samp_int=1, shift = False)\n",
    "            radobj_set.append(radobj)\n",
    "        radobj_list.append(radobj_set)\n",
    "    return(radobj_list)"
   ]
  },
  {
   "cell_type": "code",
   "execution_count": 15,
   "id": "9345cce0-e9bc-453e-9c23-298a119cd0fe",
   "metadata": {},
   "outputs": [
    {
     "ename": "NameError",
     "evalue": "name 'time_list' is not defined",
     "output_type": "error",
     "traceback": [
      "\u001b[0;31m---------------------------------------------------------------------------\u001b[0m",
      "\u001b[0;31mNameError\u001b[0m                                 Traceback (most recent call last)",
      "Input \u001b[0;32mIn [15]\u001b[0m, in \u001b[0;36m<cell line: 1>\u001b[0;34m()\u001b[0m\n\u001b[0;32m----> 1\u001b[0m \u001b[43mtime_list\u001b[49m\n",
      "\u001b[0;31mNameError\u001b[0m: name 'time_list' is not defined"
     ]
    }
   ],
   "source": []
  },
  {
   "cell_type": "code",
   "execution_count": 17,
   "id": "5c13f911-f0fa-461e-936c-8af93584aed1",
   "metadata": {
    "collapsed": true,
    "jupyter": {
     "outputs_hidden": true
    },
    "tags": []
   },
   "outputs": [
    {
     "ename": "NameError",
     "evalue": "name 'idx' is not defined",
     "output_type": "error",
     "traceback": [
      "\u001b[0;31m---------------------------------------------------------------------------\u001b[0m",
      "\u001b[0;31mNameError\u001b[0m                                 Traceback (most recent call last)",
      "Input \u001b[0;32mIn [17]\u001b[0m, in \u001b[0;36m<cell line: 3>\u001b[0;34m()\u001b[0m\n\u001b[1;32m      1\u001b[0m path \u001b[38;5;241m=\u001b[39m \u001b[38;5;124m\"\u001b[39m\u001b[38;5;124mIndividual_cells/05-10-2015/\u001b[39m\u001b[38;5;124m\"\u001b[39m\n\u001b[0;32m----> 3\u001b[0m fil_image \u001b[38;5;241m=\u001b[39mimageio\u001b[38;5;241m.\u001b[39mimread(path \u001b[38;5;241m+\u001b[39m \u001b[38;5;28mstr\u001b[39m(\u001b[38;5;241m10061218\u001b[39m) \u001b[38;5;241m+\u001b[39m \u001b[38;5;124m\"\u001b[39m\u001b[38;5;124m/cells/cell_\u001b[39m\u001b[38;5;124m\"\u001b[39m \u001b[38;5;241m+\u001b[39m \u001b[38;5;28mstr\u001b[39m(\u001b[43midx\u001b[49m) \u001b[38;5;241m+\u001b[39m \u001b[38;5;124m\"\u001b[39m\u001b[38;5;124m.png\u001b[39m\u001b[38;5;124m\"\u001b[39m)\n\u001b[1;32m      4\u001b[0m fil_image \u001b[38;5;241m=\u001b[39m cv2\u001b[38;5;241m.\u001b[39mcvtColor(fil_image, cv2\u001b[38;5;241m.\u001b[39mCOLOR_BGR2GRAY)\n\u001b[1;32m      6\u001b[0m \u001b[38;5;66;03m# Load the mask and convert to grayscale\u001b[39;00m\n",
      "\u001b[0;31mNameError\u001b[0m: name 'idx' is not defined"
     ]
    }
   ],
   "source": [
    "path = \"Individual_cells/05-10-2015/\"\n",
    "\n",
    "fil_image =imageio.imread(path + str(10061218) + \"/cells/cell_\" + str(idx) + \".png\")\n",
    "fil_image = cv2.cvtColor(fil_image, cv2.COLOR_BGR2GRAY)\n",
    "            \n",
    "# Load the mask and convert to grayscale\n",
    "fil_mask=imageio.imread(path + str(time) + \"/masks/mask_\" + str(idx) + \".png\")\n",
    "fil_mask = cv2.cvtColor(fil_mask, cv2.COLOR_BGR2GRAY)\n",
    "fil_mask = np.array(fil_mask, dtype=bool)\n",
    "\n",
    "###!!!### Replace with a call to Hasti's stuff\n",
    "fil_spine = sk_m.skeletonize(fil_mask)\n",
    "fil_spine = np.array(fil_spine, dtype=bool)\n",
    "            \n",
    "# Use radfil to create a radial profil object and then append this object to a list.\n",
    "# We will use the data stored in this object to calculate height and radial profile along the\n",
    "# medial axis. \n",
    "radobj=radfil_class.radfil(fil_image, mask=fil_mask, filspine=fil_spine, distance=200)\n",
    "radobj.build_profile(samp_int=1, shift = False)"
   ]
  },
  {
   "cell_type": "code",
   "execution_count": 19,
   "id": "df434e7b-4ca5-4ca1-8328-4d180b2f5d16",
   "metadata": {},
   "outputs": [
    {
     "name": "stderr",
     "output_type": "stream",
     "text": [
      "/home/keeganfl/miniconda3/envs/cellpose/lib/python3.8/site-packages/PIL/Image.py:2896: DecompressionBombWarning: Image size (97200000 pixels) exceeds limit of 89478485 pixels, could be decompression bomb DOS attack.\n",
      "  warnings.warn(\n"
     ]
    }
   ],
   "source": [
    "fil_spine = imageio.imread(path + str(10061218) + \"/skeletons/fullmask_9.png\")"
   ]
  },
  {
   "cell_type": "code",
   "execution_count": 20,
   "id": "9d729a5e-6abc-4fca-85b0-a1a33525a57c",
   "metadata": {},
   "outputs": [
    {
     "data": {
      "text/plain": [
       "<matplotlib.image.AxesImage at 0x7f241467be50>"
      ]
     },
     "execution_count": 20,
     "metadata": {},
     "output_type": "execute_result"
    },
    {
     "data": {
      "image/png": "[encoded data removed]",
      "text/plain": [
       "<Figure size 1800x1200 with 1 Axes>"
      ]
     },
     "metadata": {
      "needs_background": "light"
     },
     "output_type": "display_data"
    }
   ],
   "source": [
    "plt.imshow(fil_spine)"
   ]
  },
  {
   "cell_type": "code",
   "execution_count": 23,
   "id": "105adf4f-5add-4752-b81e-d527d6d2893b",
   "metadata": {},
   "outputs": [
    {
     "ename": "IndexError",
     "evalue": "too many indices for array: array is 1-dimensional, but 2 were indexed",
     "output_type": "error",
     "traceback": [
      "\u001b[0;31m---------------------------------------------------------------------------\u001b[0m",
      "\u001b[0;31mIndexError\u001b[0m                                Traceback (most recent call last)",
      "Input \u001b[0;32mIn [23]\u001b[0m, in \u001b[0;36m<cell line: 1>\u001b[0;34m()\u001b[0m\n\u001b[0;32m----> 1\u001b[0m plt\u001b[38;5;241m.\u001b[39mplot(\u001b[43moutl_new_list\u001b[49m\u001b[43m[\u001b[49m\u001b[38;5;241;43m0\u001b[39;49m\u001b[43m]\u001b[49m\u001b[43m[\u001b[49m\u001b[38;5;241;43m8\u001b[39;49m\u001b[43m]\u001b[49m\u001b[43m[\u001b[49m\u001b[43m:\u001b[49m\u001b[43m,\u001b[49m\u001b[38;5;241;43m0\u001b[39;49m\u001b[43m]\u001b[49m,outl_new_list[\u001b[38;5;241m0\u001b[39m][\u001b[38;5;241m8\u001b[39m][:,\u001b[38;5;241m1\u001b[39m])\n",
      "\u001b[0;31mIndexError\u001b[0m: too many indices for array: array is 1-dimensional, but 2 were indexed"
     ]
    }
   ],
   "source": [
    "plt.plot(o"
   ]
  },
  {
   "cell_type": "code",
   "execution_count": null,
   "id": "065a168d-2878-427b-a053-ca8edbf2a455",
   "metadata": {},
   "outputs": [],
   "source": []
  }
 ],
 "metadata": {
  "kernelspec": {
   "display_name": "Python 3 (ipykernel)",
   "language": "python",
   "name": "python3"
  },
  "language_info": {
   "codemirror_mode": {
    "name": "ipython",
    "version": 3
   },
   "file_extension": ".py",
   "mimetype": "text/x-python",
   "name": "python",
   "nbconvert_exporter": "python",
   "pygments_lexer": "ipython3",
   "version": "3.8.13"
  }
 },
 "nbformat": 4,
 "nbformat_minor": 5
}
