{
 "cells": [
  {
   "cell_type": "code",
   "execution_count": 4,
   "id": "a774c3f6",
   "metadata": {},
   "outputs": [],
   "source": [
    "import os, sys\n",
    "import re\n",
    "import numpy as np\n",
    "import imageio.v2 as im\n",
    "import pandas as pd\n",
    "import cv2\n",
    "from skimage.morphology import skeletonize\n",
    "from skimage.util import invert\n",
    "from IPython.display import Image\n",
    "import matplotlib.pyplot as plt\n",
    "from cv2 import imwrite\n",
    "#from cv_algorithms import grassfire\n",
    "#from cv_algorithms import thinning as ta\n",
    "#from cv_algorithms.morphology import difference_of_gaussian\n",
    "from fil_finder import FilFinder2D\n",
    "from astropy.io import fits\n",
    "import astropy.units as u\n",
    "from tools import fskel\n",
    "from cellpose import utils\n",
    "from IPython.core.display import HTML\n",
    "from scipy.interpolate import splprep\n",
    "from scipy.interpolate import splev\n",
    "from tools import intersection\n",
    "from tools import skeleton_to_centerline\n",
    "\n",
    "cell_path = \"Individual_cells/\""
   ]
  },
  {
   "cell_type": "code",
   "execution_count": 39,
   "id": "1bbd265e",
   "metadata": {},
   "outputs": [],
   "source": [
    "#Helper functions for this notebook. Have not yet been added to tools\n",
    "def intersection(line1,line2,width1=3,width2=3):\n",
    "    '''\n",
    "    Find if two lines intersect, or nearly intersect\n",
    "    \n",
    "    Parameteres\n",
    "    -----------\n",
    "    line1,line2=boolean arrays with 'True' values where the line exists\n",
    "    width1,width2=amount (in pixels) the line should be dilated to see if a near intersection occurs\n",
    "    '''\n",
    "    m=np.shape(line1)[1]\n",
    "    n=np.shape(line1)[0]\n",
    "    d=m//2\n",
    "    l_check = np.sum(line1[0:n,0:d]+line2[0:n,0:d]==2)>0\n",
    "    r_check = np.sum(line1[0:n,d:m-1]+line2[0:n,d:m-1]==2)>0\n",
    "    if l_check and r_check:\n",
    "        return True\n",
    "    else:\n",
    "        kernel1 = cv2.getStructuringElement(cv2.MORPH_RECT,(width1,width1))\n",
    "        kernel2 = cv2.getStructuringElement(cv2.MORPH_RECT,(width2,width2))\n",
    "        dilated1 = cv2.dilate(line1.astype(np.uint8),kernel1,iterations=1)\n",
    "        dilated2 = cv2.dilate(line2.astype(np.uint8),kernel2,iterations=1)\n",
    "        m=np.shape(line1)[1]\n",
    "        n=np.shape(line1)[0]\n",
    "        d=m//2\n",
    "        l_check = np.sum(dilated1[0:n,0:d]+dilated2[0:n,0:d]==2)>0\n",
    "        r_check = np.sum(dilated1[0:n,d:m-1]+dilated2[0:n,d:m-1]==2)>0\n",
    "        if l_check and r_check:\n",
    "            return True\n",
    "        else:\n",
    "            return False"
   ]
  },
  {
   "cell_type": "code",
   "execution_count": 42,
   "id": "21dda28f",
   "metadata": {},
   "outputs": [],
   "source": [
    "all_the_cells = os.listdir(cell_path)\n",
    "\n",
    "#a list of outlines of cell masks with timepoints and ids\n",
    "outl = []\n",
    "# List of masks with associated timepoints and names\n",
    "maskl = []\n",
    "#list of pruned skeletons with associated timepoints\n",
    "skell = []\n",
    "#list of centerlines extracted from extracted from skeletons, with associated timepoints\n",
    "centerl=[]\n",
    "\n",
    "for cell in all_the_cells:\n",
    "    time = re.findall(r'\\d+', cell)\n",
    "    if time != []:\n",
    "        time = time[0]\n",
    "        im_path = cell_path + cell\n",
    "        for mask_name in os.listdir(im_path + '/masks'):\n",
    "            if mask_name[len(mask_name)-4:len(mask_name)] != '.png':\n",
    "                continue\n",
    "            mask=im.imread(im_path + '/masks'+ '/'+mask_name)[:,:,0]>0 #retreive the cells mask (boolean array)\n",
    "            skel = im.imread(im_path + '/skeletons' + '/pruned_' + mask_name[5:6] +'.png')>0\n",
    "            out = utils.masks_to_outlines(mask) #create the cells outline (boolean array)\n",
    "            inter = out + skel ==2 #find the intersection of the outline as a boolean array\n",
    "            outl.append([out,int(time),int(mask_name[5:6])])\n",
    "            maskl.append([mask,int(time),int(mask_name[5:6])])\n",
    "            width = max(np.shape(out))//30\n",
    "            if intersection(out,skel,width,width): #if the intersection has more than two elements, include the skeleton as a complete skeleton\n",
    "                skell.append([skel,int(time),int(mask_name[5:6]),True])\n",
    "            else:\n",
    "                skell.append([skel,int(time),int(mask_name[5:6]),False])\n",
    "\n",
    "#sort lists by timepoint\n",
    "skell.sort(key=lambda skel: skel[1])\n",
    "maskl.sort(key=lambda skel: skel[1]) \n",
    "outl.sort(key=lambda skel: skel[1])\n",
    "n=0\n",
    "for skel in skell:\n",
    "    [skel0,time,ID,complete] = skel\n",
    "    skel0 = np.array(skel0)\n",
    "    time = int(time)\n",
    "    ID = int(ID)\n",
    "    complete = bool(complete)\n",
    "    center = skeleton_to_centerline(skel0)\n",
    "    centerl.append([center,time,ID,complete])"
   ]
  },
  {
   "cell_type": "code",
   "execution_count": 43,
   "id": "57465827-e1fd-4359-af25-43d3c2a63224",
   "metadata": {},
   "outputs": [
    {
     "data": {
      "text/plain": [
       "26"
      ]
     },
     "execution_count": 43,
     "metadata": {},
     "output_type": "execute_result"
    }
   ],
   "source": [
    "len([skel[3] for skel in skell if skel[3]])"
   ]
  },
  {
   "cell_type": "code",
   "execution_count": 104,
   "id": "e212621a",
   "metadata": {},
   "outputs": [],
   "source": [
    "splines = []\n",
    "for center in centerl:\n",
    "    if len(center[0])>5:\n",
    "        centerline = np.transpose(center[0])\n",
    "        tck,u=splprep(centerline)\n",
    "        time = int(center[1])\n",
    "        ID = int(center[2])\n",
    "        complete = bool(center[3])\n",
    "        splines.append([tck,u,time,ID,complete])"
   ]
  },
  {
   "cell_type": "code",
   "execution_count": 105,
   "id": "c9122abe",
   "metadata": {},
   "outputs": [
    {
     "data": {
      "text/plain": [
       "<Figure size 432x288 with 0 Axes>"
      ]
     },
     "metadata": {},
     "output_type": "display_data"
    }
   ],
   "source": [
    "for item in os.listdir('complete splines'):\n",
    "    if item[-3]=='p' and item[-2]=='n' and item[-1]=='g':\n",
    "        os.remove('complete splines'+'/'+item)\n",
    "\n",
    "for spline in splines:\n",
    "    if spline[-1]:\n",
    "        time = spline[2]\n",
    "        ID = spline[3]\n",
    "        skel = [s for s in skell if s[1]==time and s[2]==ID][0][0]\n",
    "        mask = [m for m in maskl if m[1]==time and m[2]==ID][0][0]\n",
    "        overlay = invert(skel + invert(mask))\n",
    "        tck = spline[0]\n",
    "        u = spline[1]\n",
    "        [y,x] = splev(spline[1],spline[0])\n",
    "        plt.imshow(overlay,cmap=plt.cm.gray)\n",
    "        plt.plot(x,y,'r-')\n",
    "        plt.savefig('complete splines' + '/' + str(time) + '_' +str(ID))\n",
    "        plt.clf()"
   ]
  }
 ],
 "metadata": {
  "kernelspec": {
   "display_name": "Python 3 (ipykernel)",
   "language": "python",
   "name": "python3"
  },
  "language_info": {
   "codemirror_mode": {
    "name": "ipython",
    "version": 3
   },
   "file_extension": ".py",
   "mimetype": "text/x-python",
   "name": "python",
   "nbconvert_exporter": "python",
   "pygments_lexer": "ipython3",
   "version": "3.8.13"
  }
 },
 "nbformat": 4,
 "nbformat_minor": 5
}
