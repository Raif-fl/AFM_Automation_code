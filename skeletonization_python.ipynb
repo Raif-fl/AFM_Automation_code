{
 "cells": [
  {
   "cell_type": "code",
   "execution_count": 1,
   "id": "f809ce36",
   "metadata": {},
   "outputs": [],
   "source": [
    "import os, sys\n",
    "import re\n",
    "import numpy as np\n",
    "import imageio as im\n",
    "import pandas as pd\n",
    "import cv2\n",
    "from skimage.morphology import skeletonize\n",
    "from skimage.util import invert\n",
    "from IPython.display import Image\n",
    "import matplotlib.pyplot as plt\n",
    "from cv2 import imwrite\n",
    "from cv_algorithms import grassfire\n",
    "from cv_algorithms import thinning as ta\n",
    "from cv_algorithms.morphology import difference_of_gaussian\n",
    "from fil_finder import FilFinder2D\n",
    "from astropy.io import fits\n",
    "import astropy.units as u\n",
    "from IPython.core.display import HTML\n",
    "cell_path = \"individual_cells/\""
   ]
  },
  {
   "cell_type": "code",
   "execution_count": 4,
   "id": "cec5d543",
   "metadata": {},
   "outputs": [],
   "source": [
    "def fskel(mask, b_thresh=40, sk_thresh=20):\n",
    "    fil=FilFinder2D(mask,mask=mask)\n",
    "    fil.preprocess_image(skip_flatten=True)\n",
    "    fil.create_mask(use_existing_mask=True)\n",
    "    fil.medskel(verbose=False)\n",
    "    unpruned_skel = fil.skeleton\n",
    "    fil.analyze_skeletons(branch_thresh=b_thresh*u.pix, skel_thresh=sk_thresh*u.pix, prune_criteria='length')\n",
    "    skel = fil.skeleton_longpath\n",
    "    return unpruned_skel,skel"
   ]
  },
  {
   "cell_type": "code",
   "execution_count": 5,
   "id": "d5a3ea01",
   "metadata": {
    "scrolled": true
   },
   "outputs": [],
   "source": [
    "all_the_cells = os.listdir(cell_path)\n",
    "\n",
    "# Create a list that records the timepoints for every mask. \n",
    "time_list = []\n",
    "# List of masks with associated timepoints and names\n",
    "maskl = []\n",
    "#list of skeletons (before and after branch pruning) with associated timepoints\n",
    "unpruned_skell=[]\n",
    "skell = []\n",
    "#list of masks with skeletons overlayed in black\n",
    "overl=[]\n",
    "#overwrite skeleton_check\n",
    "for item in os.listdir('skeleton_check'):\n",
    "    if item[-3]=='p' and item[-2]=='n' and item[-1]=='g':\n",
    "        os.remove('skeleton_check'+'/'+item)\n",
    "for cell in all_the_cells:\n",
    "    time = re.findall(r'\\d+', cell)\n",
    "    if time != []:\n",
    "        #overwrite old skeletons in individual_cells\n",
    "        for item in os.listdir(cell_path+cell+'\\skeletons'):\n",
    "            if item[-3]=='p' and item[-2]=='n' and item[-1]=='g':\n",
    "                os.remove(cell_path+cell+'\\skeletons'+'/'+item)\n",
    "        time = time[0]\n",
    "        time_list.append(int(time))\n",
    "        im_path = cell_path + cell + '\\masks'\n",
    "        #create skeletons; save masks, skeletons, and masks with skeletons as lists, save skeletons and skeletons with masks as images\n",
    "        for mask_name in os.listdir(im_path):\n",
    "            mask=im.imread(im_path+'/'+mask_name)[:,:,0]>0 #the cells mask (boolean array)\n",
    "            unpruned_skel, skel = fskel(mask*255)\n",
    "            over = invert(skel+invert(mask)) #the mask overlayed on the skeleton (boolean array)\n",
    "            maskl.append([mask,time,int(mask_name[5:6])])\n",
    "            unpruned_skell.append([unpruned_skel,time,int(mask_name[5:6])])\n",
    "            skell.append([skel,time,int(mask_name[5:6])])\n",
    "            overl.append([over,time,int(mask_name[5:6])])\n",
    "            imwrite(cell_path + cell+'\\skeletons' + '\\pruned_'+ mask_name[5:6]+'.png',255*skel)\n",
    "            #imwrite(cell_path + cell+'\\skeletons' + '\\unpruned_' + mask_name[5:6]+'.png',255*unpruned_skel)\n",
    "            imwrite(cell_path + cell+'\\skeletons' + '\\overlay_'+ mask_name[5:6]+'.png',255*over)"
   ]
  },
  {
   "cell_type": "code",
   "execution_count": 11,
   "id": "98ce3abe",
   "metadata": {
    "scrolled": true
   },
   "outputs": [
    {
     "name": "stdout",
     "output_type": "stream",
     "text": [
      "Help on method analyze_skeletons in module fil_finder.filfinder2D:\n",
      "\n",
      "analyze_skeletons(prune_criteria='all', relintens_thresh=0.2, nbeam_lengths=5, branch_nbeam_lengths=3, skel_thresh=None, branch_thresh=None, max_prune_iter=10, verbose=False, save_png=False, save_name=None) method of fil_finder.filfinder2D.FilFinder2D instance\n",
      "    Prune skeleton structure and calculate the branch and longest-path\n",
      "    lengths. See `~Filament2D.skeleton_analysis`.\n",
      "    \n",
      "    \n",
      "    Parameters\n",
      "    ----------\n",
      "    prune_criteria : {'all', 'intensity', 'length'}, optional\n",
      "        Choose the property to base pruning on. 'all' requires that the\n",
      "        branch fails to satisfy the length and relative intensity checks.\n",
      "    relintens_thresh : float, optional\n",
      "        Relative intensity threshold for pruning. Sets the importance\n",
      "        a branch must have in intensity relative to all other branches\n",
      "        in the skeleton. Must be between (0.0, 1.0].\n",
      "    nbeam_lengths : float or int, optional\n",
      "        Sets the minimum skeleton length based on the number of beam\n",
      "        sizes specified.\n",
      "    branch_nbeam_lengths : float or int, optional\n",
      "        Sets the minimum branch length based on the number of beam\n",
      "        sizes specified.\n",
      "    skel_thresh : float, optional\n",
      "        Given in pixel units.Below this cut off, skeletons with less pixels\n",
      "        will be deleted. The default value is 0.3 pc converted to pixels.\n",
      "    branch_thresh : float, optional\n",
      "        Any branches shorter than this length (in pixels) will be labeled as\n",
      "        extraneous and pruned off. The default value is 3 times the FWHM\n",
      "        beamwidth.\n",
      "    max_prune_iter : int, optional\n",
      "        Maximum number of pruning iterations to apply.\n",
      "    verbose : bool, optional\n",
      "        Enables plotting.\n",
      "    save_png : bool, optional\n",
      "        Saves the plot made in verbose mode. Disabled by default.\n",
      "    save_name : str, optional\n",
      "        Prefix for the saved plots.\n",
      "\n"
     ]
    }
   ],
   "source": [
    "fil=FilFinder2D(maskl[0][0],mask=maskl[0][0])\n",
    "help(fil.analyze_skeletons)"
   ]
  },
  {
   "cell_type": "code",
   "execution_count": null,
   "id": "f9a0fad7",
   "metadata": {},
   "outputs": [],
   "source": []
  }
 ],
 "metadata": {
  "kernelspec": {
   "display_name": "Python 3 (ipykernel)",
   "language": "python",
   "name": "python3"
  },
  "language_info": {
   "codemirror_mode": {
    "name": "ipython",
    "version": 3
   },
   "file_extension": ".py",
   "mimetype": "text/x-python",
   "name": "python",
   "nbconvert_exporter": "python",
   "pygments_lexer": "ipython3",
   "version": "3.9.6"
  }
 },
 "nbformat": 4,
 "nbformat_minor": 5
}
