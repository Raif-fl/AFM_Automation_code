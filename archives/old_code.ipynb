{
 "cells": [
  {
   "cell_type": "code",
   "execution_count": null,
   "id": "13693492-4a9a-4460-af80-6e252921ef65",
   "metadata": {},
   "outputs": [],
   "source": [
    "# draws lines between centroids that passed the test. \n",
    "img_lines = img.copy()\n",
    "for out_cell, cen_cell in zip(outl, centers):\n",
    "    for cen_oth in centers:\n",
    "        distance = dist.euclidean(cen_cell,cen_oth)\n",
    "        if distance > 150 or distance == 0:\n",
    "            continue\n",
    "        cv2.line(img_lines, (int(cen_cell[0]),int(cen_cell[1])), (int(cen_oth[0]),int(cen_oth[1])), color = (0, 0, 255))"
   ]
  }
 ],
 "metadata": {
  "kernelspec": {
   "display_name": "Python 3 (ipykernel)",
   "language": "python",
   "name": "python3"
  },
  "language_info": {
   "codemirror_mode": {
    "name": "ipython",
    "version": 3
   },
   "file_extension": ".py",
   "mimetype": "text/x-python",
   "name": "python",
   "nbconvert_exporter": "python",
   "pygments_lexer": "ipython3",
   "version": "3.8.13"
  }
 },
 "nbformat": 4,
 "nbformat_minor": 5
}
