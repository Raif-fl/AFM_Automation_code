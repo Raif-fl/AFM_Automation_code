{
 "cells": [
  {
   "cell_type": "code",
   "execution_count": 1,
   "id": "9e923581-3340-4800-bde1-8fa49b7ebc84",
   "metadata": {},
   "outputs": [],
   "source": [
    "import os, sys\n",
    "import re\n",
    "import numpy as np\n",
    "import imageio.v2 as im\n",
    "import pandas as pd\n",
    "import cv2\n",
    "from IPython.display import Image\n",
    "import matplotlib.pyplot as plt\n",
    "from cv2 import imwrite\n",
    "from IPython.core.display import HTML\n",
    "from scipy.interpolate import splprep\n",
    "from scipy.interpolate import splev\n",
    "from tools import skeleton_to_centerline\n",
    "from cellpose import utils\n",
    "from scipy.signal import find_peaks\n",
    "from scipy.signal import argrelmax\n",
    "from tools import bool_sort\n",
    "from fil_finder import FilFinder2D, Filament2D\n",
    "from fil_finder.tests.testing_utils import generate_filament_model\n",
    "from astropy.io import fits\n",
    "import astropy.units as u\n",
    "import tools \n",
    "from skimage.util import invert\n",
    "from imageio.v2 import imwrite\n",
    "import sknw\n",
    "from networkx import shortest_path\n",
    "from skimage.morphology import skeletonize\n",
    "from sklearn.neighbors import NearestNeighbors\n",
    "import networkx as nx\n",
    "import warnings\n",
    "\n",
    "cell_path = \"Individual_cells/\""
   ]
  },
  {
   "cell_type": "markdown",
   "id": "20af73da-cce6-4c0a-9015-17ca41fb0ce2",
   "metadata": {},
   "source": [
    "# Initializing helper functions which we will use throughout this notebooks"
   ]
  },
  {
   "cell_type": "markdown",
   "id": "1ade3748-6ae9-4cf9-a69a-3f2479252a5f",
   "metadata": {},
   "source": [
    "Intersection"
   ]
  },
  {
   "cell_type": "code",
   "execution_count": 2,
   "id": "9edbfd4c-29d7-4bf7-9ad0-0690c736108b",
   "metadata": {
    "jupyter": {
     "source_hidden": true
    },
    "tags": []
   },
   "outputs": [],
   "source": [
    "def intersection(line1,line2,width1=3,width2=3):\n",
    "    '''\n",
    "    Find if two lines intersect, or nearly intersect\n",
    "    \n",
    "    Parameteres\n",
    "    -----------\n",
    "    line1,line2=boolean arrays with 'True' values where the line exists\n",
    "    width1,width2=amount (in pixels) the line should be dilated to see if a near intersection occurs\n",
    "    '''\n",
    "    check = np.sum(line1+line2==2)>0\n",
    "    if check:\n",
    "        return True\n",
    "    else:\n",
    "        kernel1 = cv2.getStructuringElement(cv2.MORPH_RECT,(width1,width1))\n",
    "        kernel2 = cv2.getStructuringElement(cv2.MORPH_RECT,(width2,width2))\n",
    "        dilated1 = cv2.dilate(line1.astype(np.uint8),kernel1,iterations=1)\n",
    "        dilated2 = cv2.dilate(line2.astype(np.uint8),kernel2,iterations=1)\n",
    "        check = np.sum(dilated1+dilated2==2)>0\n",
    "        return check"
   ]
  },
  {
   "cell_type": "markdown",
   "id": "91fd4dfc-7544-4e1e-b413-66dfe28105c9",
   "metadata": {
    "tags": []
   },
   "source": [
    "Skeleton_to_centerline,order_by_NN, find_NN, bool_sort,make_local,pts_to_img"
   ]
  },
  {
   "cell_type": "code",
   "execution_count": 3,
   "id": "cb84fb19-3a0b-46c8-8a6f-3601b0e8c799",
   "metadata": {
    "jupyter": {
     "source_hidden": true
    },
    "tags": []
   },
   "outputs": [],
   "source": [
    "def skeleton_to_centerline(skeleton,axis=False,source = None):\n",
    "    '''\n",
    "    Finds an ordered list of points which trace out a skeleton with no branches by following the pixels of the centerline \n",
    "    elementwise. Starts at the point farthest left and closest to the top. Ends when there are no new points on the skeleton \n",
    "    to go to.\n",
    "    Parameters\n",
    "    ----------\n",
    "    skel = a 2d numpy boolean array representing a topological skeleton with no branches\n",
    "    axis = if true start by finding the min point on the 0 (top-bottom) axis, then 0 (left-right) axis. If false, vice verse. Default False.\n",
    "    '''\n",
    "    #initializing lists and starting parameters\n",
    "    unordered_centerline = bool_sort(skeleton,axis) # finds and sorts all points where the skeleton exists. Selects leftest as initial position\n",
    "    centerline = order_by_NN(unordered_centerline,thresh=max(np.shape(skeleton))//2)\n",
    "    return centerline\n",
    "def order_by_NN(points,source=None,destination=None,thresh=5):\n",
    "    ordered = []\n",
    "    if source is None:\n",
    "        source = points[0]\n",
    "    ordered.append(source)\n",
    "    pos = source\n",
    "\n",
    "    while points != []:\n",
    "        next_pos,r = find_NN(pos,points)\n",
    "        if r>thresh:\n",
    "            warnings.warn('Sorting terminated early when points exceeded allowable distance')\n",
    "            break\n",
    "        to_remove = np.array([np.all(p == next_pos) for p in points])\n",
    "        ind =np.where(to_remove)\n",
    "        points = list(np.delete(np.array(points),ind,axis=0))\n",
    "        ordered.append(next_pos)\n",
    "        pos = next_pos\n",
    "    if not destination is None and np.linalg.norm(ordered[-1]-destination)>2:\n",
    "        warnings.warn('path did not reach destination')\n",
    "    return ordered\n",
    "\n",
    "def find_NN(point,posl):\n",
    "    NN = posl[0]\n",
    "    rmax = np.linalg.norm(posl[0]-point)\n",
    "    for pos in posl:\n",
    "        r = np.linalg.norm(pos-point)\n",
    "        if r<rmax:\n",
    "            NN = pos\n",
    "            rmax = r\n",
    "    return NN,rmax\n",
    "    \n",
    "def reorder_opt(points,NN=5):\n",
    "    '''\n",
    "    Find the optimal order of a set of points in an image\n",
    "    \n",
    "    Paramters\n",
    "    ---------\n",
    "    points = an Nx2 array-like corresponing to a set of points\n",
    "    \n",
    "    Returns\n",
    "    --------\n",
    "    points = an ordered list of points\n",
    "    '''\n",
    "    #find the nearest neighbour of each point\n",
    "    points = np.array(points)\n",
    "    clf=NearestNeighbors(n_neighbors=NN).fit(points)\n",
    "    G = clf.kneighbors_graph()\n",
    "    T = nx.from_scipy_sparse_array(G)\n",
    "\n",
    "    mindist = np.inf\n",
    "    minidx = 0\n",
    "\n",
    "    order = list(nx.dfs_preorder_nodes(T, 0))\n",
    "    paths = [list(nx.dfs_preorder_nodes(T, i)) for i in range(len(points))]\n",
    "    \n",
    "    for i in range(len(points)):\n",
    "        p = paths[i]           # order of nodes\n",
    "        ordered = points[p]    # ordered nodes\n",
    "        # find cost of that order by the sum of euclidean distances between points (i) and (i+1)\n",
    "        cost = (((ordered[:-1] - ordered[1:])**2).sum(1)).sum()\n",
    "        if cost < mindist:\n",
    "            mindist = cost\n",
    "            minidx = i\n",
    "    opt_order = paths[minidx]\n",
    "    return list(points[opt_order,:])\n",
    "\n",
    "def make_local(matrix,pos):\n",
    "    '''\n",
    "    Extracts the 3x3 array of values around a position in an existing array. If this is not possible (if the position \n",
    "    is along an edge), completes the array with rows/columns of 'False' values\n",
    "    Paramters\n",
    "    ---------\n",
    "    matrix = a 2d numpy array\n",
    "    pos = a numpy array or list, indicating a position in array\n",
    "    '''\n",
    "    N = np.shape(matrix)[0]+1\n",
    "    M = np.shape(matrix)[1]+1\n",
    "    n1 = max(0,pos[0]-1)\n",
    "    n2 = min(N,pos[0]+2)\n",
    "    m1 = max(0,pos[1]-1)\n",
    "    m2 = min(M,pos[1]+2)\n",
    "    if n1 == pos[0]-1 and n2 != N and m1==pos[1]-1 and m2!=M:\n",
    "        return matrix[n1:n2,m1:m2]\n",
    "    elif n1 == 0:\n",
    "        if m1 == 0:\n",
    "            return np.hstack((np.array([[False],[False],[False]]),np.vstack((np.array([False,False]), matrix[n1:n2,m1:m2]))))\n",
    "        elif m2 == M:\n",
    "            return np.hstack((np.vstack((np.array([False,False]), matrix[n1:n2,m1:m2])),np.array([[False],[False],[False]])))\n",
    "        else:\n",
    "            return np.vstack((np.array([False,False,False]), matrix[n1:n2,m1:m2]))\n",
    "    elif n2 == N:\n",
    "        if m1 == 0:\n",
    "            return np.hstack((np.array([[False],[False],[False]]),np.vstack((matrix[n1:n2,m1:m2],np.array([False,False])))))\n",
    "        elif m2==M:\n",
    "            return np.hstack((np.vstack((matrix[n1:n2,m1:m2],np.array([False,False]))),np.array([[False],[False],[False]])))\n",
    "        else:\n",
    "            return np.vstack((matrix[n1:n2,m1:m2],np.array([False,False,False])))\n",
    "    elif m1==0:\n",
    "        return np.hstack((np.array([[False],[False],[False]]),matrix[n1:n2,m1:m2]))\n",
    "    elif m2 ==M:\n",
    "        return np.hstack((matrix[n1:n2,m1:m2],np.array([[False],[False],[False]])))\n",
    "\n",
    "def bool_sort(array,axis=True):\n",
    "    '''\n",
    "    Sort the \"True\" values in a boolean array, starting from left to right, then top to bottom. If top is true, then start from top to bottom, then\n",
    "    then left to right.\n",
    "    Parameters\n",
    "    ---------\n",
    "    array = a boolean array to be sorted\n",
    "    axis = which axis is whose lowest values are put first, default True. If True put the 0 (top-bottom) axis first, if False put the 1 (left-right) axis first.\n",
    "    '''\n",
    "    if axis:\n",
    "        output = np.transpose(np.where(array))\n",
    "        output = output[output[:,1].argsort()]\n",
    "        output = output[output[:,0].argsort(kind='mergesort')]\n",
    "    else:\n",
    "        output = np.transpose(np.where(array))\n",
    "        output = output[output[:,0].argsort()]\n",
    "        output = output[output[:,1].argsort(kind='mergesort')]\n",
    "    return output\n",
    "\n",
    "def pts_to_img(pts,base):\n",
    "    '''converts a list of points to a binary image, with the dimensions of the skeleton'''\n",
    "    path_in_img=np.zeros(np.shape(base)).astype(bool)\n",
    "    for pt in pts:\n",
    "        pt = pt.astype(int)\n",
    "        path_in_img[pt[0],pt[1]]=True\n",
    "    return path_in_img "
   ]
  },
  {
   "cell_type": "markdown",
   "id": "11174416-3ca3-4950-b338-d0235f5c78f3",
   "metadata": {
    "tags": []
   },
   "source": [
    "prune2"
   ]
  },
  {
   "cell_type": "code",
   "execution_count": 4,
   "id": "5ecf8f17-d4a2-45d5-b9e1-ee1f456679e5",
   "metadata": {
    "jupyter": {
     "source_hidden": true
    },
    "tags": []
   },
   "outputs": [],
   "source": [
    "def prune2(skel,outline,mask,poles,sensitivity=5,crop=0.1,k_thresh=0.2):\n",
    "    '''Creates a centerline of the cell from the skeleton, removing branches and extending the centerline to the poles\n",
    "    skel = topological skeleton of the cell (boolean array)\n",
    "    outline = outline of the cell (boolean array)\n",
    "    mask = mask of the cell (booelan array)\n",
    "    poles = two poles of the cell. Ordered as [desired start pole of the centerline, desired end pole of the centerline]\n",
    "    sensitivity = distance to a pole (in pixels) which a branch of the skeleton must be to be considered to \"reach\" that pole. Default is 5 pixels\n",
    "    crop = proportion of the centerline to crop at a false pole (an end of a branch which intersects the outline not at a pole). Default is 0.1\n",
    "    k_thresh = curvature (radius of curvature^{-1}) threshold for the final spline. above this the centerline will be cropped for a second time to ensure\n",
    "    the ends of the centerline don't have abnormally high curvature. Default = 0.2 (corresponding to a radius of curvature of 5 pixels)\n",
    "    '''\n",
    "    def crop_centerline(centerline_path):\n",
    "        '''Helper function. Crops a proportion of the points (determined by the crop parameter) from the ends of a centerline with a false pole\n",
    "        Paramters:\n",
    "        --------\n",
    "        centerline_path = list of points (numpy arrays) on a line in order of the arclength parametrization, initiated at the start node\n",
    "        '''\n",
    "        crop_length=round(len(centerline_path)*crop)\n",
    "        image = pts_to_img(centerline_path,skel)\n",
    "        if true_starts == []:\n",
    "            if axis:\n",
    "                start_centerline = image[:,0:n//2]\n",
    "                start_outline = outline[:,0:n//2]\n",
    "            else:\n",
    "                start_centerline=image[0:m//2,:]\n",
    "                start_outline=outline[0:m//2,:]\n",
    "            if intersection(start_centerline,start_outline):\n",
    "                #print('Starts',crop_length)\n",
    "                centerline_path= centerline_path[crop_length:]\n",
    "\n",
    "        if true_ends == []:\n",
    "            if axis:\n",
    "                end_centerline = image[:,n//2:n]\n",
    "                end_outline = outline[:,n//2:n]\n",
    "            else:\n",
    "                end_centerline = image[m//2:m,:]\n",
    "                end_outline = outline[m//2:m,:]\n",
    "            if intersection(end_centerline,end_outline): \n",
    "                #print('Ends',crop_length)\n",
    "                centerline_path = centerline_path[:len(centerline_path)-crop_length]\n",
    "        return centerline_path\n",
    "    def find_splines(points):\n",
    "        '''\n",
    "        Helper function. Return spline of a centerline based on a set of ordered points.\n",
    "        Parameters\n",
    "        --------\n",
    "        points = list of points (numpy arrays) on a line in order of the arclength parametrization, initiated at the start node\n",
    "        '''\n",
    "        s = np.linspace(0,1,1000)\n",
    "        # remove repeated points\n",
    "        diff = np.diff(points,axis=0)==0\n",
    "        repeated = np.where(np.array([pt[0] and pt[1] for pt in diff]))\n",
    "        points = list(np.delete(points,repeated,axis=0))\n",
    "        if true_starts ==[]:\n",
    "            points = [np.array([start_pole[1],start_pole[0]])] + points\n",
    "        if true_ends ==[]:\n",
    "            points = points + [np.array([end_pole[1],end_pole[0]])]\n",
    "        tck,U=splprep(np.transpose(points))\n",
    "        s = np.linspace(0,1,1000)\n",
    "        [ys,xs]= splev(s,tck)\n",
    "        #calculate the curvature of the spline\n",
    "        v = np.transpose(splev(s,tck,der=1))\n",
    "        a = np.transpose(splev(s,tck,der=2))\n",
    "        k=abs(np.cross(v,a)/np.array([np.linalg.norm(V)**3 for V in v]))\n",
    "        # check if the curvature exceeds a threshold\n",
    "        if np.any(k>k_thresh):\n",
    "            warnings.warn('curvature threshold exceeded. additional pruning executed in response')\n",
    "            crop_length=round(len(points)*crop)\n",
    "            if true_starts == []:\n",
    "                points= points[crop_length:]\n",
    "            if true_ends == []:\n",
    "                points = points[:len(points)-crop_length]\n",
    "            #create a new spline\n",
    "            if true_starts ==[]:\n",
    "                points = [np.array([start_pole[1],start_pole[0]])] + points\n",
    "            if true_ends ==[]:\n",
    "                points = points + [np.array([end_pole[1],end_pole[0]])]\n",
    "            #remove repeated points\n",
    "            diff = np.diff(points,axis=0)==0\n",
    "            repeated = np.where(np.array([pt[0] and pt[1] for pt in diff]))\n",
    "            points = list(np.delete(points,repeated,axis=0))\n",
    "            #create a new spline\n",
    "            tck,U=splprep(np.transpose(points))\n",
    "            s = np.linspace(0,1,1000)\n",
    "            [ys,xs]= splev(s,tck)\n",
    "            v = np.transpose(splev(s,tck,der=1))\n",
    "            a = np.transpose(splev(s,tck,der=2))\n",
    "            k=abs(np.cross(v,a)/np.array([np.linalg.norm(V)**3 for V in v]))\n",
    "            if np.any(k>k_thresh):\n",
    "                warnings.warn('Curvature exceeds threshold')\n",
    "        return [xs,ys],s\n",
    "    def in_mask (path,mask):\n",
    "        '''\n",
    "        Returns values of a path which are in a mask\n",
    "        Parameters:\n",
    "        ---------\n",
    "        path = numpy array consisting of coordinates in the mask\n",
    "        mask = numpy boolean array, showing the mask\n",
    "        '''\n",
    "        #first remove all values that are not in the picture\n",
    "        not_in_img =[not(pt[0]<np.shape(mask)[0]-1 and pt[0]>=0 and pt[1]<np.shape(mask)[1]-1 and pt[1]>=0) for pt in path]\n",
    "        if False in not_in_img:\n",
    "            not_in_img = np.where(not_in_img)\n",
    "            path = np.delete(path,not_in_img,0)\n",
    "        #next remove all values which are not in the mask\n",
    "        not_in_mask = []\n",
    "        for i in range (0,len(path)):\n",
    "            pt = path[i]\n",
    "            if mask[pt[0],pt[1]]:\n",
    "                continue\n",
    "            else:\n",
    "                not_in_mask.append(i)\n",
    "        return np.delete(path,not_in_mask,0)\n",
    "    if np.any(np.isnan(np.array(poles))):\n",
    "        raise ValueError('Poles must be numerical values, not np.NaN')\n",
    "    #initializing parameters\n",
    "    m = np.shape(skel)[0]\n",
    "    n = np.shape(skel)[1]\n",
    "    axis = m<n\n",
    "    poles = list(poles)\n",
    "    graph = sknw.build_sknw(skel) #creating the graph from the skeleton\n",
    "    all_paths=shortest_path(graph) #shortest possible paths between the nodes in the skeleton\n",
    "    nodes = graph.nodes()\n",
    "    [start_pole,end_pole] = poles\n",
    "    paths = []\n",
    "    centerlines=[]\n",
    "    lengths=[]\n",
    "    \n",
    "    #initializing suitable starting and ending positions for the skeleton\n",
    "    if axis:\n",
    "        start_nodes = list([i for i in nodes if nodes[i]['o'][1]<n//2])\n",
    "        end_nodes= list([i for i in nodes if nodes[i]['o'][1]>n//2])\n",
    "    else:\n",
    "        start_nodes = list([i for i in nodes if nodes[i]['o'][0]<m//2])\n",
    "        end_nodes= list([i for i in nodes if nodes[i]['o'][0]>m//2])\n",
    "    \n",
    "    # if there are some nodes close to the poles, check only those nodes\n",
    "    true_starts = [i for i in start_nodes if np.linalg.norm(nodes[i]['o']-np.array([start_pole[1],start_pole[0]]))<sensitivity]\n",
    "    true_ends = [i for i in end_nodes if np.linalg.norm(nodes[i]['o']-np.array([end_pole[1],end_pole[0]]))<sensitivity]\n",
    "    if true_starts != []:\n",
    "        start_nodes = true_starts\n",
    "    if true_ends !=[]:\n",
    "        end_nodes = true_ends\n",
    "    if start_nodes == [] or end_nodes == []:\n",
    "        raise ValueError('skeleton is on only one side of the cell')\n",
    "    # take all paths between starting and ending nodes\n",
    "    for b in  start_nodes:\n",
    "        for e in end_nodes:\n",
    "            path = all_paths[b][e]\n",
    "            paths.append(path)\n",
    "    if len(paths) == 1:\n",
    "        path = paths[0]\n",
    "        #initializing centerline\n",
    "        centerline_path = []\n",
    "        #calling points from the graph\n",
    "        edges = [(path[i],path[i+1]) for i in range (0,len(path)-1)]\n",
    "        for (b,e) in edges:\n",
    "            edge = graph[b][e]['pts']\n",
    "            centerline_path = centerline_path + list(edge)\n",
    "        centerline_path=order_by_NN(centerline_path,nodes[path[0]]['o'],nodes[path[-1]]['o'],max(m,n)/2)\n",
    "        if len(centerline_path)==0:\n",
    "            raise ValueError('Skeleton has been erased')\n",
    "        if np.linalg.norm(np.array([centerline_path[0][1],centerline_path[0][0]])-end_pole) < np.linalg.norm(np.array([centerline_path[0][1],centerline_path[0][0]])-start_pole):\n",
    "            centerline_path.reverse()\n",
    "        centerline_path = crop_centerline(centerline_path)\n",
    "        if len(centerline_path)<=5:\n",
    "            raise ValueError('Skeleton has been erased')\n",
    "        [xs,ys],u = find_splines(centerline_path)\n",
    "        path = np.round(np.transpose(np.array([ys,xs]))).astype(np.uint32)\n",
    "        path = in_mask(path,mask)\n",
    "        length = arc_length([xs,ys])\n",
    "        pruned_skel = pts_to_img(path,skel)\n",
    "        return pruned_skel, length, [xs,ys],np.linspace(0,1,100)\n",
    "    #convert paths (lists of nodes) to centerlines (lists of points)\n",
    "    for path in paths:\n",
    "        #initializing centerline\n",
    "        centerline_path = []\n",
    "        #calling points from the graph\n",
    "        edges = [(path[i],path[i+1]) for i in range (0,len(path)-1)]\n",
    "        for (b,e) in edges:\n",
    "            edge = graph[b][e]['pts']\n",
    "            centerline_path = centerline_path + list(edge)\n",
    "        #convert path to binary image\n",
    "        if len(centerline_path)==0:\n",
    "            raise ValueError('Skeleton has been erased')\n",
    "        #crop the centerline, if it has a false pole\n",
    "        centerline_path=order_by_NN(centerline_path,nodes[path[0]]['o'],nodes[path[-1]]['o'],max(m,n)/2)\n",
    "        if np.linalg.norm(np.array([centerline_path[0][1],centerline_path[0][0]])-end_pole) < np.linalg.norm(np.array([centerline_path[0][1],centerline_path[0][0]])-start_pole):\n",
    "            centerline_path.reverse()\n",
    "        centerline_path = crop_centerline(centerline_path)\n",
    "        #find the length of each centerline\n",
    "        length = len(centerline_path)\n",
    "        # add to the list of centerlines and lengths\n",
    "        centerlines.append(centerline_path)\n",
    "        lengths.append(length)\n",
    "    #choose the longest centerline\n",
    "    max_index=lengths.index(max(lengths))\n",
    "    centerline_path=centerlines[max_index]\n",
    "    if len(centerline_path)<=5:\n",
    "        raise ValueError('Skeleton has been erased')\n",
    "    [xs,ys],u = find_splines(centerline_path)\n",
    "    path = np.round(np.transpose(np.array([ys,xs]))).astype(np.uint32)\n",
    "    path = in_mask(path,mask)\n",
    "    pruned_skel = pts_to_img(path,skel)\n",
    "    length = arc_length([xs,ys])\n",
    "    return pruned_skel, length, [xs,ys], u"
   ]
  },
  {
   "cell_type": "markdown",
   "id": "9ee0daec-844e-4973-a02a-0d67c8eb4722",
   "metadata": {
    "tags": []
   },
   "source": [
    "radii, explore_poles, arc_length"
   ]
  },
  {
   "cell_type": "code",
   "execution_count": 5,
   "id": "23596b32-da5c-4172-a1ea-50048436bf00",
   "metadata": {
    "jupyter": {
     "source_hidden": true
    },
    "tags": []
   },
   "outputs": [],
   "source": [
    "def radii(x,y):\n",
    "    '''\n",
    "    Finds the radius function of a 2d curve\n",
    "    \n",
    "    Parameters\n",
    "    ---------\n",
    "    x,y = coordinates of the curve\n",
    "    \n",
    "    Returns\n",
    "    -------\n",
    "    r = a 1D array containing the distance to the centroid of the curve for each x and y\n",
    "    centroid = the centroid of the curve\n",
    "    '''\n",
    "    length = len(y)\n",
    "    centroid = np.array([np.sum(x),np.sum(y)])/length\n",
    "    vectors = np.transpose(np.array([x,y]))-centroid\n",
    "    return np.array([np.linalg.norm(v) for v in vectors]),centroid\n",
    "\n",
    "def explore_poles(outline,axis=True):\n",
    "    '''\n",
    "    Finds the poles (average distance of the farthest points from the centroid on a smooth closed curve) from x and y coords\n",
    "    Parameters\n",
    "    ----------\n",
    "    outline = boolean array representing the outline of the cell\n",
    "    axis = which axis the poles are found with respect to. True for the 0 (left-right) axis, False for the 1 (top-bottom) axis\n",
    "    \n",
    "    Returns\n",
    "    --------\n",
    "    poles \n",
    "    '''\n",
    "    #find points. Want to start on the axis we wish to find them on\n",
    "    outline_pts = bool_sort(outline,axis)\n",
    "    outline_pts = order_by_NN(outline_pts,outline_pts[0],outline_pts[0])\n",
    "    outline_pts = outline_pts + [outline_pts[0]]\n",
    "    diff = np.diff(outline_pts,axis=0)==0\n",
    "    repeated = np.where(np.array([pt[0] and pt[1] for pt in diff]))\n",
    "    outline_pts = list(np.delete(outline_pts,repeated,axis=0))\n",
    "    tck,U=splprep(np.transpose(outline_pts),per=1)\n",
    "    [y,x] = splev(U,tck)\n",
    "    r,centroid = radii(x,y)\n",
    "    cx = centroid[0]\n",
    "    cy = centroid[1]\n",
    "    peaks = list(argrelmax(r)[0])\n",
    "    if len(peaks)<2:\n",
    "        peaks = peaks+[0,-1]\n",
    "    if axis:\n",
    "        right_x_pos=[x[i] for i in peaks if x[i]>cx]\n",
    "        right_y_pos=[y[i] for i in peaks if x[i]>cx]\n",
    "        right_rads=[r[i] for i in peaks if x[i]>cx]\n",
    "        left_x_pos=[x[i] for i in peaks if x[i]<cx]\n",
    "        left_y_pos=[y[i] for i in peaks if x[i]<cx]\n",
    "        left_rads=[r[i] for i in peaks if x[i]<cx]\n",
    "        \n",
    "        left_pole = np.array([np.dot(left_x_pos,left_rads)/sum(left_rads),np.dot(left_y_pos,left_rads)/sum(left_rads)])\n",
    "        right_pole = np.array([np.dot(right_x_pos,right_rads)/sum(right_rads),np.dot(right_y_pos,right_rads)/sum(right_rads)])\n",
    "        return np.array([left_pole,right_pole]), centroid\n",
    "    else:\n",
    "        lower_x_pos=[x[i] for i in peaks if y[i]>cy]\n",
    "        lower_y_pos=[y[i] for i in peaks if y[i]>cy]\n",
    "        lower_rads=[r[i] for i in peaks if y[i]>cy]\n",
    "        upper_x_pos=[x[i] for i in peaks if y[i]<cy]\n",
    "        upper_y_pos=[y[i] for i in peaks if y[i]<cy]\n",
    "        upper_rads=[r[i] for i in peaks if y[i]<cy]\n",
    "        \n",
    "        upper_pole = np.array([np.dot(upper_x_pos,upper_rads)/sum(upper_rads),np.dot(upper_y_pos,upper_rads)/sum(upper_rads)])\n",
    "        lower_pole= np.array([np.dot(lower_x_pos,lower_rads)/sum(lower_rads),np.dot(lower_y_pos,lower_rads)/sum(lower_rads)])\n",
    "        return list(np.transpose([upper_pole,lower_pole])), centroid\n",
    "\n",
    "def arc_length(pts):\n",
    "    '''\n",
    "    Find the arclength of a curve given by a set of points\n",
    "    Paramters\n",
    "    --------\n",
    "    pts = array-like coordinates [x1,x2,....]\n",
    "    '''\n",
    "    pts = np.array(np.transpose(pts))\n",
    "    lengths = []\n",
    "    for i in range (1,len(pts)):\n",
    "        length = np.linalg.norm(pts[i] - pts[i-1])\n",
    "        lengths.append(length)\n",
    "    return np.sum(lengths)"
   ]
  },
  {
   "cell_type": "markdown",
   "id": "b4cf7439-6600-445c-986a-75d76d7ff110",
   "metadata": {},
   "source": [
    "padskel"
   ]
  },
  {
   "cell_type": "code",
   "execution_count": 6,
   "id": "52ed59a3-454a-485f-a6fb-89bbff3cad24",
   "metadata": {
    "jupyter": {
     "source_hidden": true
    },
    "tags": []
   },
   "outputs": [],
   "source": [
    "def padskel(mask):\n",
    "    '''\n",
    "    Runs skimage.morphology.skeletonize on a padded version of the mask, to avoid errors.\n",
    "    \n",
    "    Parameters\n",
    "    ----------\n",
    "    mask = a mask (opencv image)\n",
    "    \n",
    "    Returns\n",
    "    -------\n",
    "    skel = a skelegon (boolean array)\n",
    "    '''\n",
    "    mask = cv2.copyMakeBorder(mask,20,20,20,20,cv2.BORDER_CONSTANT,None,value=0)[:,:,0]>0 #add a border to the skel\n",
    "    skel = skeletonize(mask)\n",
    "    skel = skel[20:np.shape(skel)[0]-20,20:np.shape(skel)[1]-20]\n",
    "    return skel"
   ]
  },
  {
   "cell_type": "code",
   "execution_count": 7,
   "id": "415afebb-fad6-4061-a050-0a831aa34159",
   "metadata": {
    "tags": []
   },
   "outputs": [],
   "source": [
    "all_the_cells = os.listdir(cell_path)\n",
    "\n",
    "# List of masks with associated timepoints and names\n",
    "maskl = []\n",
    "time_list = []\n",
    "for cell in all_the_cells:\n",
    "    time = re.findall(r'\\d+', cell)\n",
    "    if time != []:\n",
    "        time = time[0]\n",
    "        im_path = cell_path + cell + '/masks'\n",
    "        #create skeletons; save masks, skeletons, and masks with skeletons as lists, save skeletons and skeletons with masks as images\n",
    "        for mask_name in os.listdir(im_path):\n",
    "            if mask_name[len(mask_name)-3:len(mask_name)]!='png':\n",
    "                continue\n",
    "            ID = int(mask_name[5:6])\n",
    "            time = int(time)\n",
    "            mask=im.imread(im_path+'/'+mask_name) #the cells mask (opencv image)\n",
    "            maskl.append([mask,time,ID])\n",
    "            time_list.append(time)"
   ]
  },
  {
   "cell_type": "markdown",
   "id": "7ad82629-fa69-4baa-b326-eb6b9afc4ecc",
   "metadata": {
    "tags": []
   },
   "source": [
    "# 1. Start by finding the input for pruning (mask, outline, skeleton, poles)"
   ]
  },
  {
   "cell_type": "code",
   "execution_count": 36,
   "id": "5eb3ae15-ad9f-49fd-9ea5-de91283cfe14",
   "metadata": {
    "tags": []
   },
   "outputs": [
    {
     "name": "stderr",
     "output_type": "stream",
     "text": [
      "/tmp/ipykernel_91025/693171664.py:22: DeprecationWarning: elementwise comparison failed; this will raise an error in the future.\n",
      "  while points != []:\n"
     ]
    },
    {
     "data": {
      "text/plain": [
       "[<matplotlib.lines.Line2D at 0x7f024845b3a0>]"
      ]
     },
     "execution_count": 36,
     "metadata": {},
     "output_type": "execute_result"
    },
    {
     "data": {
      "image/png": "[encoded data removed]",
      "text/plain": [
       "<Figure size 432x288 with 1 Axes>"
      ]
     },
     "metadata": {
      "needs_background": "light"
     },
     "output_type": "display_data"
    }
   ],
   "source": [
    "n = 22\n",
    "mask = np.array(maskl[n][0])\n",
    "unpruned_skel = padskel(mask)\n",
    "mask = mask[:,:,0]>0\n",
    "outline = utils.masks_to_outlines(mask)\n",
    "M = np.shape(mask)[0]\n",
    "N = np.shape(mask)[1]\n",
    "axis = M<N\n",
    "poles,centroid = explore_poles(outline,axis)\n",
    "[start_pole,end_pole]=poles\n",
    "#skel,length,[xs,ys],s = prune2(unpruned_skel,outline,mask,[start_pole,end_pole],sensitivity=5)\n",
    "plt.imshow(unpruned_skel+outline, cmap=plt.cm.gray)\n",
    "#plt.plot(xs,ys)\n",
    "plt.plot(start_pole[0],start_pole[1],'r*')\n",
    "plt.plot(end_pole[0],end_pole[1],'r*')"
   ]
  },
  {
   "cell_type": "markdown",
   "id": "f90bf5ff-398c-4926-a4c4-e7d163f65478",
   "metadata": {
    "tags": []
   },
   "source": [
    "## 1.1 (finding poles) Fit a spline to the outline"
   ]
  },
  {
   "cell_type": "code",
   "execution_count": 37,
   "id": "c67c5687-9242-4e99-ba13-be38664d53bc",
   "metadata": {},
   "outputs": [
    {
     "name": "stderr",
     "output_type": "stream",
     "text": [
      "/tmp/ipykernel_91025/693171664.py:22: DeprecationWarning: elementwise comparison failed; this will raise an error in the future.\n",
      "  while points != []:\n"
     ]
    },
    {
     "data": {
      "text/plain": [
       "[<matplotlib.lines.Line2D at 0x7f0248432d00>]"
      ]
     },
     "execution_count": 37,
     "metadata": {},
     "output_type": "execute_result"
    },
    {
     "data": {
      "image/png": "[encoded data removed]",
      "text/plain": [
       "<Figure size 432x288 with 1 Axes>"
      ]
     },
     "metadata": {
      "needs_background": "light"
     },
     "output_type": "display_data"
    }
   ],
   "source": [
    "out = np.array(outline)\n",
    "outline_periodic = bool_sort(outline,axis)\n",
    "outline_periodic = order_by_NN(outline_periodic)\n",
    "diff = np.diff(outline_periodic,axis=0)==0\n",
    "repeated = np.where(np.array([pt[0] and pt[1] for pt in diff]))\n",
    "outline_periodic = list(np.delete(outline_periodic,repeated,axis=0))\n",
    "outline_periodic = outline_periodic + [outline_periodic[0]]\n",
    "tck,u=splprep(np.transpose(outline_periodic),per=1)\n",
    "[ys,xs]=splev(u,tck)\n",
    "#[ys,xs] = np.transpose(outline_periodic)\n",
    "plt.imshow(outline,cmap=plt.cm.gray)\n",
    "plt.plot(xs,ys,'r-')"
   ]
  },
  {
   "cell_type": "markdown",
   "id": "9c5d6b18-afd1-4792-a0e2-b7c09ec95d82",
   "metadata": {},
   "source": [
    "## 1.2 (finding poles) Extract the poles of the cell using a centroid-distance transform"
   ]
  },
  {
   "cell_type": "markdown",
   "id": "afd02a85-c396-4f73-8754-76369b5adef2",
   "metadata": {},
   "source": [
    "Find euclidean distance to the centroid as function of position on the spline (plotted in red). Then divide the spline in half depending on position on the long axis (in this case the x axis) relative to the centroid (plotted in blue). Then let the positions where there is a local maxima of the distance function be the poles of the cell in that long axis position-based region. If there are multiple local maxima take the weighted sum of those vectors (weights are radii) as the pole instead"
   ]
  },
  {
   "cell_type": "code",
   "execution_count": 40,
   "id": "9e26b234-4347-4a46-9487-d5c6e0ed9165",
   "metadata": {},
   "outputs": [
    {
     "data": {
      "text/plain": [
       "[<matplotlib.lines.Line2D at 0x7f02482e26a0>]"
      ]
     },
     "execution_count": 40,
     "metadata": {},
     "output_type": "execute_result"
    },
    {
     "data": {
      "image/png": "[encoded data removed]",
      "text/plain": [
       "<Figure size 432x288 with 1 Axes>"
      ]
     },
     "metadata": {
      "needs_background": "light"
     },
     "output_type": "display_data"
    }
   ],
   "source": [
    "# find the distances to the centroid of the mask at each point on the spline of the outline\n",
    "r,centroid = tools.radii(xs,ys)\n",
    "plt.plot(u,r,'r-')\n",
    "plt.plot(u,xs-centroid[0],'b-')\n",
    "plt.plot(u,np.zeros(len(u)),'b--')"
   ]
  },
  {
   "cell_type": "code",
   "execution_count": 41,
   "id": "a5bd7217-a300-4e68-9c2c-0b9c46113dc8",
   "metadata": {},
   "outputs": [
    {
     "name": "stderr",
     "output_type": "stream",
     "text": [
      "/tmp/ipykernel_91025/693171664.py:22: DeprecationWarning: elementwise comparison failed; this will raise an error in the future.\n",
      "  while points != []:\n"
     ]
    },
    {
     "data": {
      "text/plain": [
       "[<matplotlib.lines.Line2D at 0x7f024824d7f0>]"
      ]
     },
     "execution_count": 41,
     "metadata": {},
     "output_type": "execute_result"
    },
    {
     "data": {
      "image/png": "[encoded data removed]",
      "text/plain": [
       "<Figure size 432x288 with 1 Axes>"
      ]
     },
     "metadata": {
      "needs_background": "light"
     },
     "output_type": "display_data"
    }
   ],
   "source": [
    "[start_pole,end_pole],centroid=explore_poles(outline,axis)\n",
    "plt.imshow(outline,cmap=plt.cm.gray)\n",
    "#plt.plot(xs,ys,'r-')\n",
    "plt.plot(start_pole[0],start_pole[1],'b*',markersize=24)\n",
    "plt.plot(end_pole[0],end_pole[1],'b*',markersize=24)"
   ]
  },
  {
   "cell_type": "markdown",
   "id": "01ac9d82-b107-475e-bb2d-e374c9c4d766",
   "metadata": {},
   "source": [
    "## Check: Compare these poles with the skeleton"
   ]
  },
  {
   "cell_type": "code",
   "execution_count": 42,
   "id": "9e4d8f32-3145-4f03-83c3-e4e45f3518f0",
   "metadata": {},
   "outputs": [
    {
     "data": {
      "text/plain": [
       "[<matplotlib.lines.Line2D at 0x7f0248233460>]"
      ]
     },
     "execution_count": 42,
     "metadata": {},
     "output_type": "execute_result"
    },
    {
     "data": {
      "image/png": "[encoded data removed]",
      "text/plain": [
       "<Figure size 432x288 with 1 Axes>"
      ]
     },
     "metadata": {
      "needs_background": "light"
     },
     "output_type": "display_data"
    }
   ],
   "source": [
    "plt.imshow(unpruned_skel,cmap=plt.cm.gray)\n",
    "plt.plot(start_pole[0],start_pole[1],'b*',markersize=24)\n",
    "plt.plot(end_pole[0],end_pole[1],'b*',markersize=24)"
   ]
  },
  {
   "cell_type": "markdown",
   "id": "75e09d7c-df4b-4442-b15b-9aeef3a3195c",
   "metadata": {},
   "source": [
    "# 2. Find all nodes and paths through the skeleton using NetworkX"
   ]
  },
  {
   "cell_type": "markdown",
   "id": "ea776405-9b56-474a-8e5d-694d3e3690a7",
   "metadata": {},
   "source": [
    "The NetworkX package reads a topological skeleton as a graph and records the corresponding points of each node and branch. Branches are blue lines, nodes are red dots, poles are blue stars (for reference)"
   ]
  },
  {
   "cell_type": "code",
   "execution_count": 43,
   "id": "5f4280b0-8bff-40cb-9dae-f5ab28b15d90",
   "metadata": {
    "tags": []
   },
   "outputs": [
    {
     "data": {
      "text/plain": [
       "[<matplotlib.lines.Line2D at 0x7f02481a7cd0>]"
      ]
     },
     "execution_count": 43,
     "metadata": {},
     "output_type": "execute_result"
    },
    {
     "data": {
      "image/png": "[encoded data removed]",
      "text/plain": [
       "<Figure size 432x288 with 1 Axes>"
      ]
     },
     "metadata": {
      "needs_background": "light"
     },
     "output_type": "display_data"
    }
   ],
   "source": [
    "m = np.shape(unpruned_skel)[0]\n",
    "n = np.shape(unpruned_skel)[1]\n",
    "graph = sknw.build_sknw(unpruned_skel) #creating the graph from the skeleton\n",
    "all_paths=shortest_path(graph) #shortest possible paths between the nodes in the skeleton\n",
    "nodes = graph.nodes()\n",
    "#divide nodes into starting and ending nodes\n",
    "start_nodes = list([i for i in nodes if nodes[i]['o'][1]<n//2])\n",
    "end_nodes= list([i for i in nodes if nodes[i]['o'][1]>n//2])\n",
    "plt.imshow(unpruned_skel,cmap=plt.cm.gray)\n",
    "for (s,e) in graph.edges():\n",
    "    ps = graph[s][e]['pts']\n",
    "    plt.plot(ps[:,1], ps[:,0], 'b-')\n",
    "ps = np.array([nodes[i]['o'] for i in nodes])\n",
    "plt.plot(ps[:,1], ps[:,0], 'r.',markersize=16)\n",
    "plt.plot(start_pole[0],start_pole[1],'b*',markersize=24)\n",
    "plt.plot(end_pole[0],end_pole[1],'b*',markersize=24)"
   ]
  },
  {
   "cell_type": "markdown",
   "id": "1a073dea-3f43-4a9c-b81b-80aad885bf38",
   "metadata": {
    "tags": []
   },
   "source": [
    "# 3. Use only true poles, if they exist"
   ]
  },
  {
   "cell_type": "markdown",
   "id": "adae250d-63f4-4842-9caf-8fc16c85a7fe",
   "metadata": {},
   "source": [
    "Check if any nodes of the skeleton are close to the true poles (this is determined by the sensitivity variable in the pruning function). If there are ignore all other poles at that end of the cell. Otherwise proceed as normal"
   ]
  },
  {
   "cell_type": "code",
   "execution_count": 44,
   "id": "9fc7bcf3-ec43-4c19-b57a-df2eca3d9a1f",
   "metadata": {
    "tags": []
   },
   "outputs": [
    {
     "name": "stdout",
     "output_type": "stream",
     "text": [
      "[]\n",
      "[]\n"
     ]
    }
   ],
   "source": [
    "true_starts = [i for i in start_nodes if np.linalg.norm(nodes[i]['o']-np.array([start_pole[1],start_pole[0]]))<5]\n",
    "true_ends = [i for i in end_nodes if np.linalg.norm(nodes[i]['o']-np.array([end_pole[1],end_pole[0]]))<5]\n",
    "#start_nodes=true_starts\n",
    "#end_nodes = true_ends\n",
    "print (true_starts)\n",
    "print(true_ends)"
   ]
  },
  {
   "cell_type": "markdown",
   "id": "fd5329e6-adc5-450c-ae39-cfe6cb688e57",
   "metadata": {
    "tags": []
   },
   "source": [
    "# 4. Choose the longest through the skeleton"
   ]
  },
  {
   "cell_type": "markdown",
   "id": "26eb2eff-add7-458d-bd5e-a0e953567649",
   "metadata": {},
   "source": [
    "## 4.1 Order the list of points correctly"
   ]
  },
  {
   "cell_type": "markdown",
   "id": "6339200a-55ca-4507-b6d2-15488639ad84",
   "metadata": {},
   "source": [
    "When returning points stored by NetworkX note that points may not be stored int the correct order. Therefore we sort the points by whichever are closest together. To avoid errors in this we set a threshold above which the sorting function terminates early and returns the list as is, to avoid the case of points in the middle of the line being skipped and then placed later in the list, out of order. "
   ]
  },
  {
   "cell_type": "code",
   "execution_count": 45,
   "id": "35aa6b6d-0e9b-4992-a632-9172ed3797f5",
   "metadata": {
    "tags": []
   },
   "outputs": [
    {
     "data": {
      "text/plain": [
       "[<matplotlib.lines.Line2D at 0x7f0247fb8b20>]"
      ]
     },
     "execution_count": 45,
     "metadata": {},
     "output_type": "execute_result"
    },
    {
     "data": {
      "image/png": "[encoded data removed]",
      "text/plain": [
       "<Figure size 432x288 with 1 Axes>"
      ]
     },
     "metadata": {
      "needs_background": "light"
     },
     "output_type": "display_data"
    }
   ],
   "source": [
    "paths = []\n",
    "for b in  start_nodes:\n",
    "    for e in end_nodes:\n",
    "        path = all_paths[b][e]\n",
    "        paths.append(path)\n",
    "path = paths[0]\n",
    "#initializing centerline\n",
    "centerline_path = []\n",
    "#calling points from the graph\n",
    "edges = [(path[i],path[i+1]) for i in range (0,len(path)-1)]\n",
    "for (b,e) in edges:\n",
    "    edge = graph[b][e]['pts']\n",
    "    centerline_path = centerline_path + list(edge)\n",
    "[y,x] = np.transpose(centerline_path)\n",
    "centerline = pts_to_img(centerline_path,unpruned_skel)\n",
    "plt.imshow(centerline,cmap=plt.cm.gray)\n",
    "for i in range(len(centerline_path)-1):\n",
    "    plt.plot(x[i:i+2],y[i:i+2],\n",
    "             alpha=float(i)/(len(centerline_path)-1),color = 'green')\n",
    "plt.plot(centerline_path[0][1],centerline_path[0][0],'r.')\n",
    "plt.plot(centerline_path[-1][1],centerline_path[-1][0],'r.')\n",
    "plt.plot(start_pole[0],start_pole[1],'r*')"
   ]
  },
  {
   "cell_type": "markdown",
   "id": "1c4e1d2a-24ad-4997-87e0-11fcb2fbf818",
   "metadata": {},
   "source": [
    "Here the points extracted from NetworkX are plotted along a green gradient. Note that the beginning and end of the points (red dots) are not where we would normally expect them to be. Therefore we must reorder the points as follows."
   ]
  },
  {
   "cell_type": "code",
   "execution_count": 46,
   "id": "63c6911c-ccb4-4035-8470-1a9c1e809282",
   "metadata": {},
   "outputs": [
    {
     "data": {
      "text/plain": [
       "[<matplotlib.lines.Line2D at 0x7f0247df96d0>]"
      ]
     },
     "execution_count": 46,
     "metadata": {},
     "output_type": "execute_result"
    },
    {
     "data": {
      "image/png": "[encoded data removed]",
      "text/plain": [
       "<Figure size 432x288 with 1 Axes>"
      ]
     },
     "metadata": {
      "needs_background": "light"
     },
     "output_type": "display_data"
    }
   ],
   "source": [
    "#choose the source and destination points as the beginning and ending nodes of the path\n",
    "source = nodes[path[0]]['o']\n",
    "destination = nodes[path[-1]]['o']\n",
    "points = centerline_path\n",
    "\n",
    "ordered = []\n",
    "ordered.append(source)\n",
    "pos = source\n",
    "\n",
    "while points != []:\n",
    "    next_pos,r = find_NN(pos,points)\n",
    "    if r>5:\n",
    "        warnings.warn('Sorting terminated early when points exceeded allowable distance')\n",
    "        break\n",
    "    to_remove = np.array([np.all(p == next_pos) for p in points])\n",
    "    ind =np.where(to_remove)\n",
    "    points = list(np.delete(np.array(points),ind,axis=0))\n",
    "    ordered.append(next_pos)\n",
    "    pos = next_pos\n",
    "if np.linalg.norm(ordered[-1]-destination)>2 and not destination is None:\n",
    "    warnings.warn('path did not reach destination')\n",
    "\n",
    "[y,x] = np.transpose(ordered)\n",
    "centerline = pts_to_img(ordered,unpruned_skel)\n",
    "plt.imshow(centerline,cmap=plt.cm.gray)\n",
    "for i in range(len(ordered)-1):\n",
    "    plt.plot(x[i:i+2],y[i:i+2],\n",
    "             alpha=float(i)/(len(ordered)-1),color = 'green')\n",
    "plt.plot(ordered[0][1],ordered[0][0],'r.')\n",
    "plt.plot(ordered[-1][1],ordered[-1][0],'r.')\n",
    "plt.plot(start_pole[0],start_pole[1],'r*')"
   ]
  },
  {
   "cell_type": "markdown",
   "id": "6e04f5c3-00a5-4ab5-bc5b-3195d5c95295",
   "metadata": {},
   "source": [
    "Now the points have been reordered successfully"
   ]
  },
  {
   "cell_type": "markdown",
   "id": "cc3e7c6f-4ed2-4900-afd4-07855e1f7db6",
   "metadata": {
    "tags": []
   },
   "source": [
    "# 5.2 Crop all paths containing a false pole "
   ]
  },
  {
   "cell_type": "code",
   "execution_count": 65,
   "id": "293017d7-c3f7-47cb-a91c-f91451676065",
   "metadata": {},
   "outputs": [],
   "source": [
    "crop = 0.1\n",
    "def crop_centerline_local(centerline_path):\n",
    "    '''Crops a proportion of the points (determined by the crop parameter) from the ends of a centerline with a false pole'''\n",
    "    crop_length=round(len(centerline_path)*crop)\n",
    "    image = pts_to_img(centerline_path,unpruned_skel)\n",
    "    if true_starts == []:\n",
    "        if axis:\n",
    "            start_centerline = image[:,0:N//2]\n",
    "            start_outline = outline[:,0:N//2]\n",
    "        else:\n",
    "            start_centerline=image[0:M//2,:]\n",
    "            start_outline=outline[0:M//2,:]\n",
    "        if intersection(start_centerline,start_outline):\n",
    "            centerline_path= centerline_path[crop_length:]\n",
    "\n",
    "    if true_ends == []:\n",
    "        if axis:\n",
    "            end_centerline = image[:,N//2:N]\n",
    "            end_outline = outline[:,N//2:N]\n",
    "        else:\n",
    "            end_centerline = image[M//2:M,:]\n",
    "            end_outline = outline[M//2:M,:]\n",
    "        if intersection(end_centerline,end_outline): \n",
    "            centerline_path = centerline_path[:len(centerline_path)-crop_length]\n",
    "    return centerline_path"
   ]
  },
  {
   "cell_type": "code",
   "execution_count": 66,
   "id": "66e5cc78-fdbb-44da-8d3c-ddafdc24b9c7",
   "metadata": {
    "tags": []
   },
   "outputs": [],
   "source": [
    "#select all paths from stats to ends\n",
    "paths = []\n",
    "lengths=[]\n",
    "for b in  start_nodes:\n",
    "    for e in end_nodes:\n",
    "        path = all_paths[b][e]\n",
    "        paths.append(path)\n",
    "#convert paths (lists of nodes) to centerlines (lists of points)\n",
    "centerlines=[]\n",
    "for path in paths:\n",
    "    #initializing centerline\n",
    "    centerline_path = []\n",
    "    #calling points from the graph\n",
    "    i = 0\n",
    "    while i<len(path)-1:\n",
    "        b = path[i]\n",
    "        e = path[i+1]\n",
    "        edge = graph[b][e]['pts']\n",
    "        centerline_path = centerline_path + list(edge)\n",
    "        i = i+1\n",
    "    #convert path to binary image\n",
    "    if len(centerline_path)==0:\n",
    "        raise ValueError('Skeleton has been erased')\n",
    "    #crop the centerline, if it has a false pole\n",
    "    centerline_path=order_by_NN(centerline_path,nodes[path[0]]['o'],nodes[path[-1]]['o'])\n",
    "    if np.linalg.norm(np.array([centerline_path[0][1],centerline_path[0][0]])-end_pole) < np.linalg.norm(np.array([centerline_path[0][1],centerline_path[0][0]])-start_pole):\n",
    "        centerline_path.reverse()\n",
    "    centerline_path = crop_centerline_local(list(centerline_path))\n",
    "    #find the length of each centerline\n",
    "    length = len(centerline_path)\n",
    "    # add to the list of centerlines and lengths\n",
    "    centerlines.append(centerline_path)\n",
    "    lengths.append(length)\n"
   ]
  },
  {
   "cell_type": "markdown",
   "id": "ea069468-e3f4-471f-9855-bf720b3cc7a7",
   "metadata": {},
   "source": [
    "An example of a how a centerline may be cropped. Note that no cropping may occur, depending on the path."
   ]
  },
  {
   "cell_type": "code",
   "execution_count": 67,
   "id": "d4fa0d1a-93d4-4b1d-bc4a-d80f42f2ec29",
   "metadata": {},
   "outputs": [
    {
     "data": {
      "text/plain": [
       "[<matplotlib.lines.Line2D at 0x7f02469eaeb0>]"
      ]
     },
     "execution_count": 67,
     "metadata": {},
     "output_type": "execute_result"
    },
    {
     "data": {
      "image/png": "[encoded data removed]",
      "text/plain": [
       "<Figure size 432x288 with 1 Axes>"
      ]
     },
     "metadata": {
      "needs_background": "light"
     },
     "output_type": "display_data"
    }
   ],
   "source": [
    "crop_length=round(len(centerline_path)*crop)\n",
    "image = pts_to_img(centerline_path,unpruned_skel)\n",
    "\n",
    "if true_starts == []:\n",
    "    if axis:\n",
    "        start_centerline = image[:,0:N//2]\n",
    "        start_outline = outline[:,0:N//2]\n",
    "    else:\n",
    "        start_centerline=image[0:M//2,:]\n",
    "        start_outline=outline[0:M//2,:]\n",
    "    if intersection(start_centerline,start_outline):\n",
    "        centerline_path= centerline_path[crop_length:]\n",
    "\n",
    "if true_ends == []:\n",
    "    if axis:\n",
    "        end_centerline = image[:,N//2:N]\n",
    "        end_outline = outline[:,N//2:N]\n",
    "    else:\n",
    "        end_centerline = image[M//2:M,:]\n",
    "        end_outline = outline[M//2:M,:]\n",
    "    if intersection(end_centerline,end_outline): \n",
    "        centerline_path = centerline_path[:len(centerline_path)-crop_length]\n",
    "\n",
    "centerline = pts_to_img(centerline_path,unpruned_skel)\n",
    "[y,x] = np.transpose(centerline_path)\n",
    "plt.imshow(centerline,cmap=plt.cm.gray)\n",
    "for i in range(len(centerline_path)-1):\n",
    "    plt.plot(x[i:i+2],y[i:i+2],\n",
    "             alpha=float(i)/(len(centerline_path)-1),color = 'green')\n",
    "plt.plot(centerline_path[0][1],centerline_path[0][0],'r.')"
   ]
  },
  {
   "cell_type": "markdown",
   "id": "642bffa9-f2eb-4755-ba76-93f3e737f7a5",
   "metadata": {},
   "source": [
    "## 5.3 Choose the longest cropped centerline as the true centerline"
   ]
  },
  {
   "cell_type": "code",
   "execution_count": 80,
   "id": "3e436517-53a8-41d4-9c0b-9a9a61b7781c",
   "metadata": {
    "tags": []
   },
   "outputs": [
    {
     "data": {
      "text/plain": [
       "[<matplotlib.lines.Line2D at 0x7f0246276670>]"
      ]
     },
     "execution_count": 80,
     "metadata": {},
     "output_type": "execute_result"
    },
    {
     "data": {
      "image/png": "[encoded data removed]",
      "text/plain": [
       "<Figure size 432x288 with 1 Axes>"
      ]
     },
     "metadata": {
      "needs_background": "light"
     },
     "output_type": "display_data"
    }
   ],
   "source": [
    "#choose the longest centerline\n",
    "max_index=lengths.index(max(lengths))\n",
    "centerline_path=centerlines[max_index]\n",
    "centerline = pts_to_img(centerline_path,unpruned_skel)\n",
    "plt.imshow(centerline,cmap=plt.cm.gray)\n",
    "for i in range(len(centerline_path)-1):\n",
    "    plt.plot(x[i:i+2],y[i:i+2],\n",
    "             alpha=float(i)/(len(centerline_path)-1),color = 'green')\n",
    "plt.plot(centerline_path[0][1],centerline_path[0][0],'r.')\n",
    "plt.plot(start_pole[0],start_pole[1],'r.')"
   ]
  },
  {
   "cell_type": "markdown",
   "id": "59be6e72-588b-4294-a27f-2890c886d857",
   "metadata": {},
   "source": [
    "# 6. Find the spline of the centerline and extend it to the poles"
   ]
  },
  {
   "cell_type": "markdown",
   "id": "e4864d0d-072a-43f5-85bf-8e19921ebc99",
   "metadata": {},
   "source": [
    "Start by adding the poles to the centerline list"
   ]
  },
  {
   "cell_type": "code",
   "execution_count": 81,
   "id": "babf20aa-3d65-4bf3-bc17-4bd2ce87b5cd",
   "metadata": {},
   "outputs": [],
   "source": [
    "if true_starts ==[]:\n",
    "    centerline_path = [np.array([start_pole[1],start_pole[0]])] + centerline_path\n",
    "if true_ends ==[]:\n",
    "    centerline_path = centerline_path + [np.array([end_pole[1],end_pole[0]])]\n"
   ]
  },
  {
   "cell_type": "markdown",
   "id": "35d50374-e0e4-42b1-8eb6-1ba01336d5d4",
   "metadata": {},
   "source": [
    "Ensure that all repeated points are removed, as this can cause errors in spline generation"
   ]
  },
  {
   "cell_type": "code",
   "execution_count": 82,
   "id": "6825e7da-b38e-43bb-856c-8d09aee55a5d",
   "metadata": {},
   "outputs": [],
   "source": [
    "diff = np.diff(centerline_path,axis=0)==0\n",
    "repeated = np.where(np.array([pt[0] and pt[1] for pt in diff]))\n",
    "centerline_path = list(np.delete(centerline_path,repeated,axis=0))"
   ]
  },
  {
   "cell_type": "code",
   "execution_count": 83,
   "id": "85fcba95-2918-4ba2-95ac-b37346905b77",
   "metadata": {},
   "outputs": [],
   "source": [
    "tck,U=splprep(np.transpose(centerline_path))\n",
    "s = np.linspace(0,1,1000)\n",
    "[y,x]= splev(s,tck)\n",
    "v = np.transpose(splev(s,tck,der=1))\n",
    "a = np.transpose(splev(s,tck,der=2))"
   ]
  },
  {
   "cell_type": "markdown",
   "id": "41986976-4519-45a7-9427-b417194e4eea",
   "metadata": {},
   "source": [
    "## 6.1 Check if spline has unusually high curvature and crop"
   ]
  },
  {
   "cell_type": "code",
   "execution_count": 84,
   "id": "0327e1ed-167c-4392-b448-50d73d1dfdd3",
   "metadata": {},
   "outputs": [],
   "source": [
    "k=abs(np.cross(v,a)/np.array([np.linalg.norm(V)**3 for V in v]))"
   ]
  },
  {
   "cell_type": "code",
   "execution_count": 85,
   "id": "cd7a1111-e9bc-4463-ae01-6bd18313eabf",
   "metadata": {},
   "outputs": [
    {
     "data": {
      "text/plain": [
       "[<matplotlib.lines.Line2D at 0x7f024617cca0>]"
      ]
     },
     "execution_count": 85,
     "metadata": {},
     "output_type": "execute_result"
    },
    {
     "data": {
      "image/png": "[encoded data removed]",
      "text/plain": [
       "<Figure size 432x288 with 1 Axes>"
      ]
     },
     "metadata": {
      "needs_background": "light"
     },
     "output_type": "display_data"
    }
   ],
   "source": [
    "plt.plot(s,k)"
   ]
  },
  {
   "cell_type": "code",
   "execution_count": 74,
   "id": "9849bf54-dae6-445a-b9a6-815b658faf01",
   "metadata": {},
   "outputs": [
    {
     "data": {
      "text/plain": [
       "[<matplotlib.lines.Line2D at 0x7f024640c2b0>]"
      ]
     },
     "execution_count": 74,
     "metadata": {},
     "output_type": "execute_result"
    },
    {
     "data": {
      "image/png": "[encoded data removed]",
      "text/plain": [
       "<Figure size 432x288 with 1 Axes>"
      ]
     },
     "metadata": {
      "needs_background": "light"
     },
     "output_type": "display_data"
    }
   ],
   "source": [
    "plt.imshow(centerline,cmap=plt.cm.gray)\n",
    "plt.plot(x,y)"
   ]
  },
  {
   "cell_type": "markdown",
   "id": "77376c1f-e821-4c02-8289-631b5fdfdc18",
   "metadata": {},
   "source": [
    "We check if the spline has unusually high curvature, defined as above 0.2. This corresponds to a radius of curvature of about 5 pixels. If this is the case we crop the centerline again where it has false poles"
   ]
  },
  {
   "cell_type": "code",
   "execution_count": 86,
   "id": "0635f4bd-12d6-4e32-9456-c607495b728d",
   "metadata": {},
   "outputs": [],
   "source": [
    "if np.any(k>0.2):\n",
    "    crop_length=round(len(centerline_path)*crop)\n",
    "    if true_starts == []:\n",
    "        centerline_path= centerline_path[crop_length:]\n",
    "    if true_ends == []:\n",
    "        centerline_path = centerline_path[:len(centerline_path)-crop_length]\n",
    "if true_starts ==[]:\n",
    "    centerline_path = [np.array([start_pole[1],start_pole[0]])] + centerline_path\n",
    "if true_ends ==[]:\n",
    "    centerline_path = centerline_path + [np.array([end_pole[1],end_pole[0]])]\n",
    "diff = np.diff(centerline_path,axis=0)==0\n",
    "repeated = np.where(np.array([pt[0] and pt[1] for pt in diff]))\n",
    "centerline_path = list(np.delete(centerline_path,repeated,axis=0))\n",
    "tck,U=splprep(np.transpose(centerline_path))\n",
    "s = np.linspace(0,1,1000)\n",
    "[y,x]= splev(s,tck)\n",
    "v = np.transpose(splev(s,tck,der=1))\n",
    "a = np.transpose(splev(s,tck,der=2))\n",
    "k=abs(np.cross(v,a)/np.array([np.linalg.norm(V)**3 for V in v]))"
   ]
  },
  {
   "cell_type": "code",
   "execution_count": 87,
   "id": "443b2ed4-f5aa-4146-910d-cb11d0b62b84",
   "metadata": {},
   "outputs": [],
   "source": [
    "if true_starts ==[]:\n",
    "    centerline_path = [np.array([start_pole[1],start_pole[0]])] + centerline_path\n",
    "if true_ends ==[]:\n",
    "    centerline_path = centerline_path + [np.array([end_pole[1],end_pole[0]])]"
   ]
  },
  {
   "cell_type": "code",
   "execution_count": 88,
   "id": "56088b19-2db4-4c9b-9fc0-9031c251fd6d",
   "metadata": {},
   "outputs": [],
   "source": [
    "diff = np.diff(centerline_path,axis=0)==0\n",
    "repeated = np.where(np.array([pt[0] and pt[1] for pt in diff]))\n",
    "centerline_path = list(np.delete(centerline_path,repeated,axis=0))"
   ]
  },
  {
   "cell_type": "code",
   "execution_count": 89,
   "id": "a0d006d7-b9d2-4e9c-8e5f-d1b0f8be2213",
   "metadata": {},
   "outputs": [],
   "source": [
    "tck,U=splprep(np.transpose(centerline_path))\n",
    "s = np.linspace(0,1,1000)\n",
    "[y,x]= splev(s,tck)\n",
    "v = np.transpose(splev(s,tck,der=1))\n",
    "a = np.transpose(splev(s,tck,der=2))\n",
    "k=abs(np.cross(v,a)/np.array([np.linalg.norm(V)**3 for V in v]))"
   ]
  },
  {
   "cell_type": "code",
   "execution_count": 91,
   "id": "1845c0c1-ea91-485a-8f46-98f7b172b65d",
   "metadata": {},
   "outputs": [
    {
     "data": {
      "text/plain": [
       "[<matplotlib.lines.Line2D at 0x7f02460c2d90>]"
      ]
     },
     "execution_count": 91,
     "metadata": {},
     "output_type": "execute_result"
    },
    {
     "data": {
      "image/png": "[encoded data removed]",
      "text/plain": [
       "<Figure size 432x288 with 1 Axes>"
      ]
     },
     "metadata": {
      "needs_background": "light"
     },
     "output_type": "display_data"
    }
   ],
   "source": [
    "plt.imshow(centerline,cmap=plt.cm.gray)\n",
    "plt.plot(x,y)"
   ]
  },
  {
   "cell_type": "code",
   "execution_count": 92,
   "id": "bdd90ba3-6d3c-478c-9301-abbdcfef2e96",
   "metadata": {},
   "outputs": [],
   "source": [
    "path = np.round(np.transpose(np.array([y,x]))).astype(np.uint32)\n"
   ]
  },
  {
   "cell_type": "markdown",
   "id": "ccde06ac-3fcf-4d73-8425-857525275847",
   "metadata": {},
   "source": [
    "## 6.2 Remove points that are not in the mask"
   ]
  },
  {
   "cell_type": "markdown",
   "id": "56cd1c3c-c19f-4d5f-b8aa-7c1d1e26d2af",
   "metadata": {},
   "source": [
    "Finally we remove all points which are on the centerline, but not in the mask. This is to avoid errors where a pixel value is not in the image, and to ensure the the skeleton is contained fully in the mask. In the case of errors in spline construction this can cause the skeleton to be made up of disconnected line segments. However, this is not a part of normal spline centerline creation"
   ]
  },
  {
   "cell_type": "code",
   "execution_count": 93,
   "id": "46052722-a18b-4620-ada5-cfb72802e0eb",
   "metadata": {},
   "outputs": [],
   "source": [
    "#first remove all values that are not in the picture\n",
    "not_in_img =[not(pt[0]<np.shape(mask)[0]-1 and pt[0]>=0 and pt[1]<np.shape(mask)[1]-1 and pt[1]>=0) for pt in path]\n",
    "if False in not_in_img:\n",
    "    not_in_img = np.where(not_in_img)\n",
    "    path = np.delete(path,not_in_img,0)\n",
    "#next remove all values which are not in the mask\n",
    "not_in_mask = []\n",
    "for i in range (0,len(path)):\n",
    "    pt = path[i]\n",
    "    if mask[pt[0],pt[1]]:\n",
    "        continue\n",
    "    else:\n",
    "        not_in_mask.append(i)\n",
    "path= np.delete(path,not_in_mask,0)\n"
   ]
  },
  {
   "cell_type": "markdown",
   "id": "162d9e12-3d64-47d0-9703-29e33f6f5fc2",
   "metadata": {},
   "source": [
    "# 7. Convert to image"
   ]
  },
  {
   "cell_type": "code",
   "execution_count": 96,
   "id": "35384678-069b-4d89-bf39-5633b0325d65",
   "metadata": {
    "tags": []
   },
   "outputs": [],
   "source": [
    "pruned_skel = pts_to_img(path,unpruned_skel)"
   ]
  },
  {
   "cell_type": "code",
   "execution_count": 97,
   "id": "c485ec04-69ff-41f8-9c3c-b8418ea66faa",
   "metadata": {},
   "outputs": [
    {
     "data": {
      "text/plain": [
       "<matplotlib.image.AxesImage at 0x7f02460aad60>"
      ]
     },
     "execution_count": 97,
     "metadata": {},
     "output_type": "execute_result"
    },
    {
     "data": {
      "image/png": "[encoded data removed]",
      "text/plain": [
       "<Figure size 432x288 with 1 Axes>"
      ]
     },
     "metadata": {
      "needs_background": "light"
     },
     "output_type": "display_data"
    }
   ],
   "source": [
    "plt.imshow(pruned_skel,cmap=plt.cm.gray)"
   ]
  },
  {
   "cell_type": "markdown",
   "id": "cee3f143-19b5-457d-acb9-30a8d9c0b090",
   "metadata": {},
   "source": [
    "# Test on all masks for errors"
   ]
  },
  {
   "cell_type": "markdown",
   "id": "457fc3d2-04a0-439f-ad83-bc0843034150",
   "metadata": {},
   "source": [
    "Finally, to finish this demonstration we run the function all of our masks. Note that some warnings which we have inserted into the process occur. These show some of the edge cases which we dealt with here. You can investigate these cases and see that they are normal by finding their index using the cell_search function below."
   ]
  },
  {
   "cell_type": "code",
   "execution_count": 98,
   "id": "89c304db-cf06-4f61-a0c6-779cb773af6f",
   "metadata": {},
   "outputs": [
    {
     "name": "stdout",
     "output_type": "stream",
     "text": [
      "3310351 0\n"
     ]
    },
    {
     "name": "stderr",
     "output_type": "stream",
     "text": [
      "/tmp/ipykernel_91025/693171664.py:22: DeprecationWarning: elementwise comparison failed; this will raise an error in the future.\n",
      "  while points != []:\n"
     ]
    },
    {
     "name": "stdout",
     "output_type": "stream",
     "text": [
      "3310351 1\n"
     ]
    },
    {
     "name": "stderr",
     "output_type": "stream",
     "text": [
      "/tmp/ipykernel_91025/693171664.py:25: UserWarning: Sorting terminated early when points exceeded allowable distance\n",
      "  warnings.warn('Sorting terminated early when points exceeded allowable distance')\n"
     ]
    },
    {
     "name": "stdout",
     "output_type": "stream",
     "text": [
      "3310351 4\n",
      "3302239 0\n",
      "3302239 1\n",
      "3310409 0\n",
      "3310409 1\n",
      "3310409 4\n",
      "3310249 0\n",
      "3310249 1\n",
      "3310249 4\n",
      "3310111 0\n",
      "3310111 1\n",
      "3302248 0\n",
      "3302248 1\n",
      "3310334 0\n",
      "3310334 1\n",
      "3310334 4\n",
      "3301940 0\n",
      "3310138 0\n",
      "3310138 2\n",
      "3310138 1\n"
     ]
    },
    {
     "name": "stderr",
     "output_type": "stream",
     "text": [
      "/tmp/ipykernel_91025/693171664.py:33: UserWarning: path did not reach destination\n",
      "  warnings.warn('path did not reach destination')\n"
     ]
    },
    {
     "name": "stdout",
     "output_type": "stream",
     "text": [
      "3310205 0\n"
     ]
    },
    {
     "name": "stderr",
     "output_type": "stream",
     "text": [
      "/tmp/ipykernel_91025/4043629137.py:67: UserWarning: curvature threshold exceeded. additional pruning executed in response\n",
      "  warnings.warn('curvature threshold exceeded. additional pruning executed in response')\n"
     ]
    },
    {
     "name": "stdout",
     "output_type": "stream",
     "text": [
      "3310205 2\n",
      "3310205 1\n",
      "3310400 0\n",
      "3310400 1\n",
      "3310400 4\n",
      "3302221 0\n",
      "3302221 1\n",
      "3310240 0\n",
      "3310240 1\n",
      "3310120 0\n",
      "3310120 1\n",
      "3302137 0\n",
      "3302137 1\n",
      "3310325 0\n",
      "3310325 1\n",
      "3310325 4\n",
      "3302022 0\n",
      "3302032 0\n",
      "3310036 0\n",
      "3310036 1\n",
      "3310053 0\n",
      "3310053 1\n",
      "3310009 0\n",
      "3310009 1\n",
      "3302146 0\n",
      "3302146 1\n",
      "3302155 0\n",
      "3302155 1\n",
      "3310454 0\n",
      "3310454 1\n",
      "3310454 4\n",
      "3302230 0\n",
      "3302230 1\n",
      "3310223 0\n",
      "3310223 2\n",
      "3310223 1\n",
      "3310436 0\n",
      "3310436 1\n",
      "3310436 4\n",
      "3310316 0\n",
      "3310316 1\n",
      "3310316 4\n",
      "3302013 0\n",
      "3310343 0\n",
      "3310343 1\n",
      "3310343 4\n",
      "3302213 0\n",
      "3302213 1\n",
      "3310445 0\n",
      "3310445 1\n",
      "3310445 4\n",
      "3302325 0\n",
      "3302325 1\n",
      "3302004 0\n",
      "3310156 0\n",
      "3310156 2\n",
      "3310156 1\n",
      "3310147 0\n",
      "3310147 2\n",
      "3310147 1\n",
      "3310147 3\n",
      "3310214 0\n",
      "3310214 2\n",
      "3310214 1\n",
      "3302258 0\n",
      "3302258 1\n",
      "3302040 0\n"
     ]
    }
   ],
   "source": [
    "for mask,time,ID in maskl:\n",
    "    print (time,ID)\n",
    "    unpruned_skel = padskel(mask)\n",
    "    mask = mask[:,:,0]>0\n",
    "    outline = utils.masks_to_outlines(mask)\n",
    "    M = np.shape(mask)[0]\n",
    "    N = np.shape(mask)[1]\n",
    "    axis = M<N\n",
    "    poles,centroid = explore_poles(outline,axis)\n",
    "    [start_pole,end_pole]=poles\n",
    "    skel,length,[xs,ys],s = prune2(unpruned_skel,outline,mask,[start_pole,end_pole])"
   ]
  },
  {
   "cell_type": "code",
   "execution_count": 191,
   "id": "f6008bff-39f3-4a16-a52c-e2757dd1b14d",
   "metadata": {},
   "outputs": [],
   "source": [
    "cell_search = lambda time, ID: np.where(np.array([mask[1] == time and mask[2]==ID for mask in maskl]))"
   ]
  },
  {
   "cell_type": "code",
   "execution_count": 194,
   "id": "ab08812f-a741-4328-b926-ade1e71474fb",
   "metadata": {},
   "outputs": [
    {
     "data": {
      "text/plain": [
       "(array([22]),)"
      ]
     },
     "execution_count": 194,
     "metadata": {},
     "output_type": "execute_result"
    }
   ],
   "source": [
    "cell_search(3310205, 0)"
   ]
  },
  {
   "cell_type": "code",
   "execution_count": null,
   "id": "5271fbab-b0ce-4834-9c1f-52bd581f267a",
   "metadata": {},
   "outputs": [],
   "source": []
  }
 ],
 "metadata": {
  "kernelspec": {
   "display_name": "Python 3 (ipykernel)",
   "language": "python",
   "name": "python3"
  },
  "language_info": {
   "codemirror_mode": {
    "name": "ipython",
    "version": 3
   },
   "file_extension": ".py",
   "mimetype": "text/x-python",
   "name": "python",
   "nbconvert_exporter": "python",
   "pygments_lexer": "ipython3",
   "version": "3.8.13"
  }
 },
 "nbformat": 4,
 "nbformat_minor": 5
}
