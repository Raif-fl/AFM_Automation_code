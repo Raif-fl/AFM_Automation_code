{
 "cells": [
  {
   "cell_type": "code",
   "execution_count": 41,
   "id": "2ea930c9",
   "metadata": {},
   "outputs": [],
   "source": [
    "import os, sys\n",
    "import re\n",
    "import numpy as np\n",
    "import imageio as im\n",
    "import pandas as pd\n",
    "import cv2\n",
    "from skimage.morphology import skeletonize\n",
    "from skimage.util import invert\n",
    "from IPython.display import Image\n",
    "import matplotlib.pyplot as plt\n",
    "from cv2 import imwrite\n",
    "from cv_algorithms import grassfire\n",
    "from cv_algorithms import thinning as ta\n",
    "from cv_algorithms.morphology import difference_of_gaussian\n",
    "from fil_finder import FilFinder2D\n",
    "from astropy.io import fits\n",
    "import astropy.units as u\n",
    "cell_path = \"individual_cells/\""
   ]
  },
  {
   "cell_type": "code",
   "execution_count": 152,
   "id": "ac23c9d0",
   "metadata": {},
   "outputs": [],
   "source": [
    "def prune(img,b_thresh=40,sk_thresh=10):\n",
    "    fil=FilFinder2D(img,mask=img)\n",
    "    fil.preprocess_image(skip_flatten=True)\n",
    "    fil.medskel()\n",
    "    fil.analyze_skeletons(branch_thresh=b_thresh*u.pix, skel_thresh=sk_thresh*u.pix, prune_criteria='length')\n",
    "    return fil.skeleton_longpath>0"
   ]
  },
  {
   "cell_type": "code",
   "execution_count": 153,
   "id": "da09d137",
   "metadata": {},
   "outputs": [],
   "source": [
    "all_the_cells = os.listdir(cell_path)\n",
    "\n",
    "# Create a list that records the timepoints for every mask. \n",
    "time_list = []\n",
    "# List of masks with associated timepoints and names\n",
    "maskl = []\n",
    "#list of skeletons made by thinning with associated timepoints\n",
    "thinl = []\n",
    "#list of skeletons made by guo_hall thinning algorithm with assocciated timepoints\n",
    "ghtl = []\n",
    "#list of skeletons made zhang-suen thinning algorithm with associated timepoints\n",
    "zstl=[]\n",
    "#list of skeletons made using the grassfire algorithm with associated timepoints\n",
    "grasl=[]\n",
    "#list of skeletons made using the grassfire algorithm with associated timepoints\n",
    "dogl=[]\n",
    "for item in os.listdir('algorithm_comparison'):\n",
    "    if item[-3]=='p' and item[-2]=='n' and item[-1]=='g':\n",
    "        os.remove('algorithm_comparison'+'/'+item)\n",
    "for cell in all_the_cells:\n",
    "    time = re.findall(r'\\d+', cell)\n",
    "    if time != []:\n",
    "        #overwrite old skeletons in individual_cells\n",
    "        '''\n",
    "        for item in os.listdir(cell_path+cell+'\\skeletons'):\n",
    "            if item[-3]=='p' and item[-2]=='n' and item[-1]=='g':\n",
    "                os.remove(cell_path+cell+'\\skeletons'+'/'+item)\n",
    "        '''\n",
    "        time = time[0]\n",
    "        time_list.append(int(time))\n",
    "        im_path = cell_path + cell + '\\masks'\n",
    "        for mask_name in os.listdir(im_path):\n",
    "            mask=im.imread(im_path+'/'+mask_name)[:,:,0]>0 #the cells mask (boolean array)\n",
    "            thin=skeletonize(mask) #the masks skeleton from skimage (boolean array)\n",
    "            thin = prune(thin*255)\n",
    "            thin = invert (thin + invert(mask))\n",
    "            ght = ta.guo_hall(mask.astype(np.uint8))>0 #the masks skeleton from the guo_hall algorithm (boolean array)\n",
    "            ght=prune(ght*255)\n",
    "            ght = invert (ght + invert(mask))\n",
    "            zst = ta.zhang_suen(mask.astype(np.uint8))>0 # the masks skeleton from the zhang_shuen algorithm (boolean array)\n",
    "            zst=prune(zst*255)\n",
    "            zst = invert(zst + invert(mask))\n",
    "            #gras = grassfire(mask.astype(np.uint8)) # the masks skeleton from the grassfire algorithm\n",
    "            maskl.append([mask,time,int(mask_name[5:6])])\n",
    "            thinl.append([thin,time,int(mask_name[5:6])])\n",
    "            ghtl.append([ght,time,int(mask_name[5:6])])\n",
    "            zstl.append([zst,time,int(mask_name[5:6])])\n",
    "            #grasl.append([gras,time,int(mask_name[5:6])])\n",
    "            imwrite('algorithm_comparison'+'/'+str(time)+'_'+mask_name[5:6]+'_skimage'+'.png',255*thin)\n",
    "            imwrite('algorithm_comparison'+'/'+str(time)+'_'+mask_name[5:6]+'_guo_hall'+'.png',255*ght)\n",
    "            imwrite('algorithm_comparison'+'/'+str(time)+'_'+mask_name[5:6]+'_zhang_suen'+'.png',255*zst)\n",
    "            #imwrite('algorithm_comparison'+'/'+str(time)+'_'+mask_name[5:6]+'_grassfire'+'.png',gras.astype(np.uint8))"
   ]
  },
  {
   "cell_type": "code",
   "execution_count": 133,
   "id": "c414ee6f",
   "metadata": {},
   "outputs": [
    {
     "data": {
      "text/plain": [
       "<matplotlib.image.AxesImage at 0x1c511ad8f10>"
      ]
     },
     "execution_count": 133,
     "metadata": {},
     "output_type": "execute_result"
    },
    {
     "data": {
      "image/png": "[encoded data removed]",
      "text/plain": [
       "<Figure size 432x288 with 1 Axes>"
      ]
     },
     "metadata": {
      "needs_background": "light"
     },
     "output_type": "display_data"
    }
   ],
   "source": [
    "zst = zstl[0][0]*255\n",
    "plt.imshow(zst,cmap=plt.cm.gray)"
   ]
  },
  {
   "cell_type": "code",
   "execution_count": 137,
   "id": "19a7ba7d",
   "metadata": {},
   "outputs": [],
   "source": [
    "fil=FilFinder2D(zst,mask=zst)\n",
    "fil.preprocess_image(skip_flatten=True)\n",
    "fil.medskel()"
   ]
  },
  {
   "cell_type": "code",
   "execution_count": 138,
   "id": "e23ed348",
   "metadata": {},
   "outputs": [
    {
     "data": {
      "text/plain": [
       "<matplotlib.image.AxesImage at 0x1c511ba2f40>"
      ]
     },
     "execution_count": 138,
     "metadata": {},
     "output_type": "execute_result"
    },
    {
     "data": {
      "image/png": "[encoded data removed]",
      "text/plain": [
       "<Figure size 432x288 with 1 Axes>"
      ]
     },
     "metadata": {
      "needs_background": "light"
     },
     "output_type": "display_data"
    }
   ],
   "source": [
    "plt.imshow(fil.skeleton,cmap=plt.cm.gray)"
   ]
  },
  {
   "cell_type": "code",
   "execution_count": 139,
   "id": "cc149e67",
   "metadata": {},
   "outputs": [],
   "source": [
    "fil.analyze_skeletons(skel_thresh=40*u.pix, prune_criteria='length')"
   ]
  },
  {
   "cell_type": "code",
   "execution_count": 140,
   "id": "1f3f79d1",
   "metadata": {
    "scrolled": true
   },
   "outputs": [
    {
     "data": {
      "text/plain": [
       "<matplotlib.image.AxesImage at 0x1c511c03730>"
      ]
     },
     "execution_count": 140,
     "metadata": {},
     "output_type": "execute_result"
    },
    {
     "data": {
      "image/png": "[encoded data removed]",
      "text/plain": [
       "<Figure size 432x288 with 1 Axes>"
      ]
     },
     "metadata": {
      "needs_background": "light"
     },
     "output_type": "display_data"
    }
   ],
   "source": [
    "plt.imshow(fil.skeleton_longpath,cmap=plt.cm.gray)"
   ]
  },
  {
   "cell_type": "code",
   "execution_count": 145,
   "id": "5ccf8d32",
   "metadata": {},
   "outputs": [],
   "source": []
  },
  {
   "cell_type": "code",
   "execution_count": null,
   "id": "ed6ce902",
   "metadata": {},
   "outputs": [],
   "source": []
  }
 ],
 "metadata": {
  "kernelspec": {
   "display_name": "Python 3 (ipykernel)",
   "language": "python",
   "name": "python3"
  },
  "language_info": {
   "codemirror_mode": {
    "name": "ipython",
    "version": 3
   },
   "file_extension": ".py",
   "mimetype": "text/x-python",
   "name": "python",
   "nbconvert_exporter": "python",
   "pygments_lexer": "ipython3",
   "version": "3.9.6"
  }
 },
 "nbformat": 4,
 "nbformat_minor": 5
}
